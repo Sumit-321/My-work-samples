{
  "nbformat": 4,
  "nbformat_minor": 0,
  "metadata": {
    "colab": {
      "name": "Sentiment analysis- Twitter reviews",
      "provenance": [],
      "collapsed_sections": []
    },
    "kernelspec": {
      "display_name": "Python 3",
      "language": "python",
      "name": "python3"
    },
    "language_info": {
      "codemirror_mode": {
        "name": "ipython",
        "version": 3
      },
      "file_extension": ".py",
      "mimetype": "text/x-python",
      "name": "python",
      "nbconvert_exporter": "python",
      "pygments_lexer": "ipython3",
      "version": "3.8.5"
    }
  },
  "cells": [
    {
      "cell_type": "markdown",
      "metadata": {
        "id": "uWsZiPiQaDg-"
      },
      "source": [
        "# Sentiment analysis of Twitter reviews"
      ]
    },
    {
      "cell_type": "code",
      "metadata": {
        "colab": {
          "base_uri": "https://localhost:8080/"
        },
        "id": "D80jE_VyiDMf",
        "outputId": "3a3912f2-8e18-4a60-d7e6-8179cec13ac1"
      },
      "source": [
        "# Uploading files from my computer\n",
        "from google.colab import drive\n",
        "drive.mount('/content/gdrive')"
      ],
      "execution_count": null,
      "outputs": [
        {
          "output_type": "stream",
          "text": [
            "Drive already mounted at /content/gdrive; to attempt to forcibly remount, call drive.mount(\"/content/gdrive\", force_remount=True).\n"
          ],
          "name": "stdout"
        }
      ]
    },
    {
      "cell_type": "code",
      "metadata": {
        "id": "LQqevROHP6yi"
      },
      "source": [
        "# Importing libraries\n",
        "import numpy\n",
        "import pandas\n",
        "import matplotlib.pyplot as plt\n",
        "import seaborn\n",
        "%matplotlib inline"
      ],
      "execution_count": null,
      "outputs": []
    },
    {
      "cell_type": "code",
      "metadata": {
        "id": "sH6eZNpqe2dU"
      },
      "source": [
        "# Importing libraries\n",
        "import nltk\n",
        "from sklearn.feature_extraction.text import CountVectorizer\n",
        "from sklearn.feature_extraction.text import TfidfVectorizer\n",
        "from nltk.corpus import stopwords\n",
        "from nltk.stem import wordnet\n",
        "from nltk.stem import SnowballStemmer\n",
        "from nltk.stem import PorterStemmer\n",
        "from nltk.stem import LancasterStemmer\n",
        "from nltk.stem import WordNetLemmatizer\n",
        "from nltk.tokenize import word_tokenize,sent_tokenize\n",
        "from nltk.tokenize.toktok import ToktokTokenizer\n",
        "from sklearn.linear_model import LogisticRegression\n",
        "from sklearn.tree import DecisionTreeClassifier\n",
        "from sklearn.metrics import classification_report,confusion_matrix,accuracy_score\n",
        "import re\n",
        "from bs4 import BeautifulSoup"
      ],
      "execution_count": null,
      "outputs": []
    },
    {
      "cell_type": "code",
      "metadata": {
        "id": "aGKS-6gOzud-"
      },
      "source": [
        "# Importing my dataset as dataframe\n",
        "data = pandas.read_csv('/content/gdrive/My Drive/Datasets/Twitter_reviews.csv', engine= 'python')"
      ],
      "execution_count": null,
      "outputs": []
    },
    {
      "cell_type": "code",
      "metadata": {
        "colab": {
          "base_uri": "https://localhost:8080/"
        },
        "id": "LjCVVWY1P60R",
        "outputId": "5dfa5df2-0c9a-4f3c-fce7-4b4486fcb66b"
      },
      "source": [
        "# Shape of the dataset\n",
        "data.shape"
      ],
      "execution_count": null,
      "outputs": [
        {
          "output_type": "execute_result",
          "data": {
            "text/plain": [
              "(1048575, 3)"
            ]
          },
          "metadata": {
            "tags": []
          },
          "execution_count": 5
        }
      ]
    },
    {
      "cell_type": "code",
      "metadata": {
        "id": "hQkSWJHC0BKQ"
      },
      "source": [
        "# Shuffling the dataframe to avoid chances of biasness\n",
        "data= data.sample(frac= 1)"
      ],
      "execution_count": null,
      "outputs": []
    },
    {
      "cell_type": "code",
      "metadata": {
        "colab": {
          "base_uri": "https://localhost:8080/",
          "height": 204
        },
        "id": "uqHxLHSzP64J",
        "outputId": "e95aa00a-f4a9-4424-b811-8b145b12bc63"
      },
      "source": [
        "# Reading first five rows of my dataset\n",
        "data.head()"
      ],
      "execution_count": null,
      "outputs": [
        {
          "output_type": "execute_result",
          "data": {
            "text/html": [
              "<div>\n",
              "<style scoped>\n",
              "    .dataframe tbody tr th:only-of-type {\n",
              "        vertical-align: middle;\n",
              "    }\n",
              "\n",
              "    .dataframe tbody tr th {\n",
              "        vertical-align: top;\n",
              "    }\n",
              "\n",
              "    .dataframe thead th {\n",
              "        text-align: right;\n",
              "    }\n",
              "</style>\n",
              "<table border=\"1\" class=\"dataframe\">\n",
              "  <thead>\n",
              "    <tr style=\"text-align: right;\">\n",
              "      <th></th>\n",
              "      <th>ItemID</th>\n",
              "      <th>Sentiment</th>\n",
              "      <th>SentimentText</th>\n",
              "    </tr>\n",
              "  </thead>\n",
              "  <tbody>\n",
              "    <tr>\n",
              "      <th>89905</th>\n",
              "      <td>89917</td>\n",
              "      <td>1</td>\n",
              "      <td>@cleaninggirl That was adorable!! Thanks for t...</td>\n",
              "    </tr>\n",
              "    <tr>\n",
              "      <th>33905</th>\n",
              "      <td>33917</td>\n",
              "      <td>1</td>\n",
              "      <td>@aishadee how's the cheese block going? im so ...</td>\n",
              "    </tr>\n",
              "    <tr>\n",
              "      <th>20164</th>\n",
              "      <td>20176</td>\n",
              "      <td>0</td>\n",
              "      <td>@_VQ_    Your Dallas, Boston, and London optio...</td>\n",
              "    </tr>\n",
              "    <tr>\n",
              "      <th>28332</th>\n",
              "      <td>28344</td>\n",
              "      <td>0</td>\n",
              "      <td>@ABSCBNNews BANK ROBBERY ON GOING fronting Eli...</td>\n",
              "    </tr>\n",
              "    <tr>\n",
              "      <th>511887</th>\n",
              "      <td>511899</td>\n",
              "      <td>1</td>\n",
              "      <td>@TwiObsession Goodnight! *hugs* Take good care...</td>\n",
              "    </tr>\n",
              "  </tbody>\n",
              "</table>\n",
              "</div>"
            ],
            "text/plain": [
              "        ItemID  Sentiment                                      SentimentText\n",
              "89905    89917          1  @cleaninggirl That was adorable!! Thanks for t...\n",
              "33905    33917          1  @aishadee how's the cheese block going? im so ...\n",
              "20164    20176          0  @_VQ_    Your Dallas, Boston, and London optio...\n",
              "28332    28344          0  @ABSCBNNews BANK ROBBERY ON GOING fronting Eli...\n",
              "511887  511899          1  @TwiObsession Goodnight! *hugs* Take good care..."
            ]
          },
          "metadata": {
            "tags": []
          },
          "execution_count": 7
        }
      ]
    },
    {
      "cell_type": "code",
      "metadata": {
        "id": "4F-FACLgP65m"
      },
      "source": [
        "# As ItemID is only for indexing, so I am deleting it\n",
        "#data= data.drop(columns= 'ItemID')\n",
        "del data['ItemID']"
      ],
      "execution_count": null,
      "outputs": []
    },
    {
      "cell_type": "code",
      "metadata": {
        "colab": {
          "base_uri": "https://localhost:8080/"
        },
        "id": "PeIseblPP6-g",
        "outputId": "8762dad0-968b-4419-e331-5ba849aa49bb"
      },
      "source": [
        "# Brief info about our data\n",
        "data.info()"
      ],
      "execution_count": null,
      "outputs": [
        {
          "output_type": "stream",
          "text": [
            "<class 'pandas.core.frame.DataFrame'>\n",
            "Int64Index: 1048575 entries, 89905 to 611676\n",
            "Data columns (total 2 columns):\n",
            " #   Column         Non-Null Count    Dtype \n",
            "---  ------         --------------    ----- \n",
            " 0   Sentiment      1048575 non-null  int64 \n",
            " 1   SentimentText  1048575 non-null  object\n",
            "dtypes: int64(1), object(1)\n",
            "memory usage: 24.0+ MB\n"
          ],
          "name": "stdout"
        }
      ]
    },
    {
      "cell_type": "code",
      "metadata": {
        "colab": {
          "base_uri": "https://localhost:8080/"
        },
        "id": "qTB07DyDXP7r",
        "outputId": "188dd54b-43b7-4ff7-e189-5886a4c6b41c"
      },
      "source": [
        "print(type(data))\n",
        "print(type(data['Sentiment']))\n",
        "print(type(data['SentimentText']))"
      ],
      "execution_count": null,
      "outputs": [
        {
          "output_type": "stream",
          "text": [
            "<class 'pandas.core.frame.DataFrame'>\n",
            "<class 'pandas.core.series.Series'>\n",
            "<class 'pandas.core.series.Series'>\n"
          ],
          "name": "stdout"
        }
      ]
    },
    {
      "cell_type": "code",
      "metadata": {
        "colab": {
          "base_uri": "https://localhost:8080/"
        },
        "id": "G2WMNFmFP7AB",
        "outputId": "af281849-1956-49f8-a357-b54981d09652"
      },
      "source": [
        "data.columns"
      ],
      "execution_count": null,
      "outputs": [
        {
          "output_type": "execute_result",
          "data": {
            "text/plain": [
              "Index(['Sentiment', 'SentimentText'], dtype='object')"
            ]
          },
          "metadata": {
            "tags": []
          },
          "execution_count": 11
        }
      ]
    },
    {
      "cell_type": "code",
      "metadata": {
        "colab": {
          "base_uri": "https://localhost:8080/"
        },
        "id": "uoqGspIMP7Fb",
        "outputId": "08bbcccf-ed9a-4c18-e2bf-4e1642e8c15d"
      },
      "source": [
        "# Checking null values in our dataset\n",
        "data.isnull().sum()"
      ],
      "execution_count": null,
      "outputs": [
        {
          "output_type": "execute_result",
          "data": {
            "text/plain": [
              "Sentiment        0\n",
              "SentimentText    0\n",
              "dtype: int64"
            ]
          },
          "metadata": {
            "tags": []
          },
          "execution_count": 12
        }
      ]
    },
    {
      "cell_type": "code",
      "metadata": {
        "colab": {
          "base_uri": "https://localhost:8080/"
        },
        "id": "G0AXnmK9P7G1",
        "outputId": "d9b773a4-9aa4-47bf-c7ff-c0d14ddd7baf"
      },
      "source": [
        "# Checking duplicate values if any\n",
        "data.duplicated().sum()"
      ],
      "execution_count": null,
      "outputs": [
        {
          "output_type": "execute_result",
          "data": {
            "text/plain": [
              "16"
            ]
          },
          "metadata": {
            "tags": []
          },
          "execution_count": 13
        }
      ]
    },
    {
      "cell_type": "code",
      "metadata": {
        "id": "C-oLZ6NL1oI6"
      },
      "source": [
        "# Dropping duplicate values\n",
        "data.drop_duplicates( inplace= True )"
      ],
      "execution_count": null,
      "outputs": []
    },
    {
      "cell_type": "code",
      "metadata": {
        "colab": {
          "base_uri": "https://localhost:8080/"
        },
        "id": "7FB9bpXq16YU",
        "outputId": "0fc62300-f653-4267-fa06-91059db81754"
      },
      "source": [
        "# Checking duplicate values now again\n",
        "data.duplicated().sum()"
      ],
      "execution_count": null,
      "outputs": [
        {
          "output_type": "execute_result",
          "data": {
            "text/plain": [
              "0"
            ]
          },
          "metadata": {
            "tags": []
          },
          "execution_count": 15
        }
      ]
    },
    {
      "cell_type": "code",
      "metadata": {
        "colab": {
          "base_uri": "https://localhost:8080/"
        },
        "id": "RBkgd5FmP7Lp",
        "outputId": "513a31f0-5b27-4c56-8ef5-b1e6d138790f"
      },
      "source": [
        "# Unique values in our dataframe\n",
        "data.nunique()"
      ],
      "execution_count": null,
      "outputs": [
        {
          "output_type": "execute_result",
          "data": {
            "text/plain": [
              "Sentiment              2\n",
              "SentimentText    1048558\n",
              "dtype: int64"
            ]
          },
          "metadata": {
            "tags": []
          },
          "execution_count": 16
        }
      ]
    },
    {
      "cell_type": "code",
      "metadata": {
        "colab": {
          "base_uri": "https://localhost:8080/",
          "height": 357
        },
        "id": "QrekfN0GP7NH",
        "outputId": "8bce5c47-b77e-49b0-9ee5-3d0f86a44774"
      },
      "source": [
        "# Histogram plot of Sentiment column : 0 means sad and 1 means happy.\n",
        "plt.figure(figsize= (20, 5))\n",
        "plt.hist(data['Sentiment'], color= 'yellow')\n",
        "plt.xlabel('Sentiments', fontweight= 'bold', fontsize= 15)\n",
        "plt.ylabel('Counter of occurence', fontweight= 'bold', fontsize= 15)\n",
        "plt.title('Histogram plot of Sentiment column', fontweight= 'bold', fontsize= 15)\n",
        "plt.xticks(fontweight= 'bold')\n",
        "plt.yticks(fontweight= 'bold')\n",
        "plt.grid(color= 'green')\n",
        "plt.show()"
      ],
      "execution_count": null,
      "outputs": [
        {
          "output_type": "display_data",
          "data": {
            "image/png": "[encoded data removed]",
            "text/plain": [
              "<Figure size 1440x360 with 1 Axes>"
            ]
          },
          "metadata": {
            "tags": [],
            "needs_background": "light"
          }
        }
      ]
    },
    {
      "cell_type": "code",
      "metadata": {
        "colab": {
          "base_uri": "https://localhost:8080/",
          "height": 293
        },
        "id": "51Dejdf9P7Td",
        "outputId": "f5574967-0a07-45c4-b58b-7141e9ec6cab"
      },
      "source": [
        "# Frequency distribution :\n",
        "from nltk.probability import FreqDist\n",
        "fdist= FreqDist(data['Sentiment'])\n",
        "print(fdist.most_common(2))\n",
        "fdist.plot()"
      ],
      "execution_count": null,
      "outputs": [
        {
          "output_type": "stream",
          "text": [
            "[(1, 554463), (0, 494096)]\n"
          ],
          "name": "stdout"
        },
        {
          "output_type": "display_data",
          "data": {
            "image/png": "[encoded data removed]",
            "text/plain": [
              "<Figure size 432x288 with 1 Axes>"
            ]
          },
          "metadata": {
            "tags": [],
            "needs_background": "light"
          }
        }
      ]
    },
    {
      "cell_type": "code",
      "metadata": {
        "colab": {
          "base_uri": "https://localhost:8080/",
          "height": 324
        },
        "id": "IZMKiKGF3QU9",
        "outputId": "555d47d7-48ef-4aea-dc2a-cf8eaccff8a5"
      },
      "source": [
        "# Heatmap of correlation\n",
        "plt.figure(figsize= (20, 5))\n",
        "correlation= data.corr()\n",
        "seaborn.heatmap(correlation, annot= True, cmap= 'RdYlGn')\n",
        "plt.show()"
      ],
      "execution_count": null,
      "outputs": [
        {
          "output_type": "display_data",
          "data": {
            "image/png": "[encoded data removed]",
            "text/plain": [
              "<Figure size 1440x360 with 2 Axes>"
            ]
          },
          "metadata": {
            "tags": [],
            "needs_background": "light"
          }
        }
      ]
    },
    {
      "cell_type": "code",
      "metadata": {
        "colab": {
          "base_uri": "https://localhost:8080/",
          "height": 279
        },
        "id": "EPKHx3S14SZJ",
        "outputId": "c27aa0dd-26d6-4d66-b192-55d194a4dabc"
      },
      "source": [
        "# Countplot for Sentiment column\n",
        "seaborn.countplot(x= 'Sentiment', data= data)\n",
        "plt.show()"
      ],
      "execution_count": null,
      "outputs": [
        {
          "output_type": "display_data",
          "data": {
            "image/png": "[encoded data removed]",
            "text/plain": [
              "<Figure size 432x288 with 1 Axes>"
            ]
          },
          "metadata": {
            "tags": [],
            "needs_background": "light"
          }
        }
      ]
    },
    {
      "cell_type": "code",
      "metadata": {
        "id": "HYFKQ2iXP7la"
      },
      "source": [
        "# Removing the noisy text\n",
        "def noise_removal(text):\n",
        "    text = re.sub('\\[[^]]*\\]', '', BeautifulSoup(text, \"html.parser\").get_text())\n",
        "    return text\n",
        "# Applying function on SentimentText column\n",
        "data['SentimentText']= data['SentimentText'].apply(noise_removal)"
      ],
      "execution_count": null,
      "outputs": []
    },
    {
      "cell_type": "code",
      "metadata": {
        "colab": {
          "base_uri": "https://localhost:8080/",
          "height": 111
        },
        "id": "dGFXBun_P7m1",
        "outputId": "036e79d4-2325-4621-ca9a-24fe1ffbf601"
      },
      "source": [
        "data.head(2)"
      ],
      "execution_count": null,
      "outputs": [
        {
          "output_type": "execute_result",
          "data": {
            "text/html": [
              "<div>\n",
              "<style scoped>\n",
              "    .dataframe tbody tr th:only-of-type {\n",
              "        vertical-align: middle;\n",
              "    }\n",
              "\n",
              "    .dataframe tbody tr th {\n",
              "        vertical-align: top;\n",
              "    }\n",
              "\n",
              "    .dataframe thead th {\n",
              "        text-align: right;\n",
              "    }\n",
              "</style>\n",
              "<table border=\"1\" class=\"dataframe\">\n",
              "  <thead>\n",
              "    <tr style=\"text-align: right;\">\n",
              "      <th></th>\n",
              "      <th>Sentiment</th>\n",
              "      <th>SentimentText</th>\n",
              "    </tr>\n",
              "  </thead>\n",
              "  <tbody>\n",
              "    <tr>\n",
              "      <th>89905</th>\n",
              "      <td>1</td>\n",
              "      <td>@cleaninggirl That was adorable!! Thanks for t...</td>\n",
              "    </tr>\n",
              "    <tr>\n",
              "      <th>33905</th>\n",
              "      <td>1</td>\n",
              "      <td>@aishadee how's the cheese block going? im so ...</td>\n",
              "    </tr>\n",
              "  </tbody>\n",
              "</table>\n",
              "</div>"
            ],
            "text/plain": [
              "       Sentiment                                      SentimentText\n",
              "89905          1  @cleaninggirl That was adorable!! Thanks for t...\n",
              "33905          1  @aishadee how's the cheese block going? im so ..."
            ]
          },
          "metadata": {
            "tags": []
          },
          "execution_count": 22
        }
      ]
    },
    {
      "cell_type": "code",
      "metadata": {
        "id": "o-bavtAcP7rp"
      },
      "source": [
        "# Stemming the text\n",
        "def stemmer(text):\n",
        "    sbs = SnowballStemmer('english')\n",
        "    text= ' '.join( [ sbs.stem(word) for word in text.split() ] )\n",
        "    return text"
      ],
      "execution_count": null,
      "outputs": []
    },
    {
      "cell_type": "code",
      "metadata": {
        "id": "EJ5xKYvgP7tL"
      },
      "source": [
        "# Applying function on Sentiment text column\n",
        "data['SentimentText']= data['SentimentText'].apply(stemmer)"
      ],
      "execution_count": null,
      "outputs": []
    },
    {
      "cell_type": "code",
      "metadata": {
        "colab": {
          "base_uri": "https://localhost:8080/",
          "height": 111
        },
        "id": "jHrva-5MP7xv",
        "outputId": "cb3b3880-eadd-4101-fce6-fe3aace466a8"
      },
      "source": [
        "data.head(2)"
      ],
      "execution_count": null,
      "outputs": [
        {
          "output_type": "execute_result",
          "data": {
            "text/html": [
              "<div>\n",
              "<style scoped>\n",
              "    .dataframe tbody tr th:only-of-type {\n",
              "        vertical-align: middle;\n",
              "    }\n",
              "\n",
              "    .dataframe tbody tr th {\n",
              "        vertical-align: top;\n",
              "    }\n",
              "\n",
              "    .dataframe thead th {\n",
              "        text-align: right;\n",
              "    }\n",
              "</style>\n",
              "<table border=\"1\" class=\"dataframe\">\n",
              "  <thead>\n",
              "    <tr style=\"text-align: right;\">\n",
              "      <th></th>\n",
              "      <th>Sentiment</th>\n",
              "      <th>SentimentText</th>\n",
              "    </tr>\n",
              "  </thead>\n",
              "  <tbody>\n",
              "    <tr>\n",
              "      <th>89905</th>\n",
              "      <td>1</td>\n",
              "      <td>@cleaninggirl that was adorable!! thank for th...</td>\n",
              "    </tr>\n",
              "    <tr>\n",
              "      <th>33905</th>\n",
              "      <td>1</td>\n",
              "      <td>@aishade how the chees block going? im so pump...</td>\n",
              "    </tr>\n",
              "  </tbody>\n",
              "</table>\n",
              "</div>"
            ],
            "text/plain": [
              "       Sentiment                                      SentimentText\n",
              "89905          1  @cleaninggirl that was adorable!! thank for th...\n",
              "33905          1  @aishade how the chees block going? im so pump..."
            ]
          },
          "metadata": {
            "tags": []
          },
          "execution_count": 25
        }
      ]
    },
    {
      "cell_type": "code",
      "metadata": {
        "colab": {
          "base_uri": "https://localhost:8080/"
        },
        "id": "Pl46bkrDozXC",
        "outputId": "ceaca44b-154a-4997-dcda-77c8d698398a"
      },
      "source": [
        "import nltk\n",
        "nltk.download('stopwords')"
      ],
      "execution_count": null,
      "outputs": [
        {
          "output_type": "stream",
          "text": [
            "[nltk_data] Downloading package stopwords to /root/nltk_data...\n",
            "[nltk_data]   Package stopwords is already up-to-date!\n"
          ],
          "name": "stdout"
        },
        {
          "output_type": "execute_result",
          "data": {
            "text/plain": [
              "True"
            ]
          },
          "metadata": {
            "tags": []
          },
          "execution_count": 26
        }
      ]
    },
    {
      "cell_type": "code",
      "metadata": {
        "id": "GqmyJhDCP7zJ"
      },
      "source": [
        "# Tokenization of text\n",
        "tokenizer= ToktokTokenizer()\n",
        "# Setting English stopwords\n",
        "stopwords= nltk.corpus.stopwords.words('english')"
      ],
      "execution_count": null,
      "outputs": []
    },
    {
      "cell_type": "code",
      "metadata": {
        "id": "EbsT9SHfP73v"
      },
      "source": [
        "# Removing the stopwords\n",
        "def removing_stopwords(text, is_lower_case=False):\n",
        "    tokens = tokenizer.tokenize(text)\n",
        "    tokens = [token.strip() for token in tokens]\n",
        "    if is_lower_case:\n",
        "        filter_tokens = [token for token in tokens if token not in stopwords]\n",
        "    else:\n",
        "        filter_tokens = [token for token in tokens if token.lower() not in stopwords]\n",
        "    filtered_text = ' '.join(filter_tokens)    \n",
        "    return filtered_text"
      ],
      "execution_count": null,
      "outputs": []
    },
    {
      "cell_type": "code",
      "metadata": {
        "id": "0_nfRSYCP75K"
      },
      "source": [
        "#Applying function on SentimentText column\n",
        "data['SentimentText']=data['SentimentText'].apply(removing_stopwords)"
      ],
      "execution_count": null,
      "outputs": []
    },
    {
      "cell_type": "code",
      "metadata": {
        "colab": {
          "base_uri": "https://localhost:8080/",
          "height": 142
        },
        "id": "MGBMULoFP7-G",
        "outputId": "62112b2f-4a52-42f5-a26a-7f5512ee34e6"
      },
      "source": [
        "data.head(3)"
      ],
      "execution_count": null,
      "outputs": [
        {
          "output_type": "execute_result",
          "data": {
            "text/html": [
              "<div>\n",
              "<style scoped>\n",
              "    .dataframe tbody tr th:only-of-type {\n",
              "        vertical-align: middle;\n",
              "    }\n",
              "\n",
              "    .dataframe tbody tr th {\n",
              "        vertical-align: top;\n",
              "    }\n",
              "\n",
              "    .dataframe thead th {\n",
              "        text-align: right;\n",
              "    }\n",
              "</style>\n",
              "<table border=\"1\" class=\"dataframe\">\n",
              "  <thead>\n",
              "    <tr style=\"text-align: right;\">\n",
              "      <th></th>\n",
              "      <th>Sentiment</th>\n",
              "      <th>SentimentText</th>\n",
              "    </tr>\n",
              "  </thead>\n",
              "  <tbody>\n",
              "    <tr>\n",
              "      <th>89905</th>\n",
              "      <td>1</td>\n",
              "      <td>@cleaninggirl adorable ! ! thank rec</td>\n",
              "    </tr>\n",
              "    <tr>\n",
              "      <th>33905</th>\n",
              "      <td>1</td>\n",
              "      <td>@aishade chees block going ? im pump im back a...</td>\n",
              "    </tr>\n",
              "    <tr>\n",
              "      <th>20164</th>\n",
              "      <td>0</td>\n",
              "      <td>@_vq_ dallas , boston , london option look mig...</td>\n",
              "    </tr>\n",
              "  </tbody>\n",
              "</table>\n",
              "</div>"
            ],
            "text/plain": [
              "       Sentiment                                      SentimentText\n",
              "89905          1               @cleaninggirl adorable ! ! thank rec\n",
              "33905          1  @aishade chees block going ? im pump im back a...\n",
              "20164          0  @_vq_ dallas , boston , london option look mig..."
            ]
          },
          "metadata": {
            "tags": []
          },
          "execution_count": 30
        }
      ]
    },
    {
      "cell_type": "code",
      "metadata": {
        "id": "BGGrGIZtP7_j"
      },
      "source": [
        "# Train- test splitting of our dataframe : x is independent variable and y is dependent variable.\n",
        "x= data['SentimentText']\n",
        "y= data['Sentiment']\n",
        "from sklearn.model_selection import train_test_split\n",
        "(x_train, x_test, y_train, y_test)= train_test_split(x, y, test_size=0.1, random_state=0)"
      ],
      "execution_count": null,
      "outputs": []
    },
    {
      "cell_type": "code",
      "metadata": {
        "colab": {
          "base_uri": "https://localhost:8080/"
        },
        "id": "pzvuSEkJP8EJ",
        "outputId": "201f4ff6-c1b2-466e-f7a5-06117c355c08"
      },
      "source": [
        "# Label encoding : labeling the label data\n",
        "from sklearn.preprocessing import LabelBinarizer\n",
        "l_b= LabelBinarizer()\n",
        "# Transformed Sentiment data\n",
        "label_data= l_b.fit_transform(data['Sentiment'])\n",
        "print(label_data.shape)"
      ],
      "execution_count": null,
      "outputs": [
        {
          "output_type": "stream",
          "text": [
            "(1048559, 1)\n"
          ],
          "name": "stdout"
        }
      ]
    },
    {
      "cell_type": "code",
      "metadata": {
        "colab": {
          "base_uri": "https://localhost:8080/"
        },
        "id": "ydxFYMhcP8Fi",
        "outputId": "1e044157-ba89-4d65-f1a2-ee23036263a1"
      },
      "source": [
        "label_data"
      ],
      "execution_count": null,
      "outputs": [
        {
          "output_type": "execute_result",
          "data": {
            "text/plain": [
              "array([[1],\n",
              "       [1],\n",
              "       [0],\n",
              "       ...,\n",
              "       [0],\n",
              "       [1],\n",
              "       [0]])"
            ]
          },
          "metadata": {
            "tags": []
          },
          "execution_count": 33
        }
      ]
    },
    {
      "cell_type": "code",
      "metadata": {
        "colab": {
          "base_uri": "https://localhost:8080/"
        },
        "id": "L5CDjnStP8KL",
        "outputId": "03622cde-c4d1-408e-cf39-5f13a067a30b"
      },
      "source": [
        "# Bag of words\n",
        "# Count Vectorizer for bag of words\n",
        "cv= CountVectorizer(min_df=0, max_df=1, binary=False, ngram_range=(1,3) )\n",
        "# Transformed train 'SentimentText' column\n",
        "cv_train= cv.fit_transform(x_train)\n",
        "# Transformed test 'SentimentText' column\n",
        "cv_test= cv.transform(x_test)\n",
        "print('Bag of Words shape in Count Vectorizer train set : ',cv_train.shape)\n",
        "print('Bag of Words shape in Count Vectorizer test set : ',cv_test.shape)"
      ],
      "execution_count": null,
      "outputs": [
        {
          "output_type": "stream",
          "text": [
            "Bag of Words shape in Count Vectorizer train set :  (943703, 7645258)\n",
            "Bag of Words shape in Count Vectorizer test set :  (104856, 7645258)\n"
          ],
          "name": "stdout"
        }
      ]
    },
    {
      "cell_type": "code",
      "metadata": {
        "id": "nvX2EcAsP8LY",
        "colab": {
          "base_uri": "https://localhost:8080/"
        },
        "outputId": "11e69d73-1a9f-4069-b323-0b34318ff661"
      },
      "source": [
        "# Training the model\n",
        "lor_cv= LogisticRegression(random_state= 1)\n",
        "# Fitting the model for Bag of words\n",
        "lor_cv.fit(cv_train, y_train)"
      ],
      "execution_count": null,
      "outputs": [
        {
          "output_type": "execute_result",
          "data": {
            "text/plain": [
              "LogisticRegression(C=1.0, class_weight=None, dual=False, fit_intercept=True,\n",
              "                   intercept_scaling=1, l1_ratio=None, max_iter=100,\n",
              "                   multi_class='auto', n_jobs=None, penalty='l2',\n",
              "                   random_state=1, solver='lbfgs', tol=0.0001, verbose=0,\n",
              "                   warm_start=False)"
            ]
          },
          "metadata": {
            "tags": []
          },
          "execution_count": 35
        }
      ]
    },
    {
      "cell_type": "code",
      "metadata": {
        "id": "h5lwpW-kP8QS",
        "colab": {
          "base_uri": "https://localhost:8080/"
        },
        "outputId": "27d76a5f-8f58-4616-a232-243308f072b7"
      },
      "source": [
        "# Predicting the model for bag of words\n",
        "lor_bow_predict = lor_cv.predict(cv_test )\n",
        "#Accuracy score for bag of words\n",
        "accuracy= accuracy_score(y_test, lor_bow_predict ).round(decimals= 4)\n",
        "accuracy_cv = accuracy * 100\n",
        "print('Logistic Regression Bag of words accuracy score :', accuracy_cv , '% .' )\n",
        "print('Logistic Regression Bag of words classification_report :','\\n', classification_report(y_test, lor_bow_predict ) )\n",
        "print('Logistic Regression Bag of words confusion_matrix :','\\n', confusion_matrix(y_test, lor_bow_predict ) )"
      ],
      "execution_count": null,
      "outputs": [
        {
          "output_type": "stream",
          "text": [
            "Logistic Regression Bag of words accuracy score : 58.46 % .\n",
            "Logistic Regression Bag of words classification_report : \n",
            "               precision    recall  f1-score   support\n",
            "\n",
            "           0       0.62      0.30      0.40     49372\n",
            "           1       0.57      0.84      0.68     55484\n",
            "\n",
            "    accuracy                           0.58    104856\n",
            "   macro avg       0.60      0.57      0.54    104856\n",
            "weighted avg       0.60      0.58      0.55    104856\n",
            "\n",
            "Logistic Regression Bag of words confusion_matrix : \n",
            " [[14784 34588]\n",
            " [ 8973 46511]]\n"
          ],
          "name": "stdout"
        }
      ]
    },
    {
      "cell_type": "code",
      "metadata": {
        "id": "jP0XpWz6P8RV",
        "colab": {
          "base_uri": "https://localhost:8080/"
        },
        "outputId": "b1d97ac0-71a7-4a7d-d351-2c30a3c83619"
      },
      "source": [
        "# Tf: Term frequency, and IDF: Inverse document frequency\n",
        "# Tfidf Vectorizer\n",
        "tf= TfidfVectorizer(min_df=0, max_df=1, use_idf=True, ngram_range=(1,3) )\n",
        "# Transformed train 'SentimentText' column\n",
        "tf_train= tf.fit_transform(x_train)\n",
        "# Transformed test 'SentimentText' column\n",
        "tf_test= tf.transform(x_test)\n",
        "print('Term frequency , Independent document frequency train set shape :', tf_train.shape)\n",
        "print('Term frequency , Independent document frequency test set shape :', tf_test.shape)"
      ],
      "execution_count": null,
      "outputs": [
        {
          "output_type": "stream",
          "text": [
            "Term frequency , Independent document frequency train set shape : (943703, 7645258)\n",
            "Term frequency , Independent document frequency test set shape : (104856, 7645258)\n"
          ],
          "name": "stdout"
        }
      ]
    },
    {
      "cell_type": "code",
      "metadata": {
        "id": "5NMPD7h0aDhN",
        "colab": {
          "base_uri": "https://localhost:8080/"
        },
        "outputId": "35303efe-bbf0-4dd6-bbbc-3ff20f7fc9eb"
      },
      "source": [
        "# Training the model\n",
        "lor_tf = LogisticRegression(random_state= 1)\n",
        "# Fitting the model for tfidf features\n",
        "lor_tf.fit(tf_train, y_train)"
      ],
      "execution_count": null,
      "outputs": [
        {
          "output_type": "execute_result",
          "data": {
            "text/plain": [
              "LogisticRegression(C=1.0, class_weight=None, dual=False, fit_intercept=True,\n",
              "                   intercept_scaling=1, l1_ratio=None, max_iter=100,\n",
              "                   multi_class='auto', n_jobs=None, penalty='l2',\n",
              "                   random_state=1, solver='lbfgs', tol=0.0001, verbose=0,\n",
              "                   warm_start=False)"
            ]
          },
          "metadata": {
            "tags": []
          },
          "execution_count": 38
        }
      ]
    },
    {
      "cell_type": "code",
      "metadata": {
        "id": "_ZwOqTMfaDhO",
        "colab": {
          "base_uri": "https://localhost:8080/"
        },
        "outputId": "78ab501a-72d0-49cb-93d9-45424806d2e6"
      },
      "source": [
        "# Predicting the model for tfidf features\n",
        "lor_tfidf_predict= lor_tf.predict(tf_test)\n",
        "# Accuracy score for tfidf features\n",
        "accuracy= accuracy_score(y_test, lor_tfidf_predict ).round(decimals= 4)\n",
        "accuracy_tfidf = accuracy * 100\n",
        "print('Logistic Regression tfidf accuracy score :', accuracy_tfidf, '% .' )\n",
        "print('Logistic Regression tfidf classification_report :','\\n', classification_report(y_test, lor_tfidf_predict ) )\n",
        "print('Logistic Regression tfidf confusion_matrix :','\\n', confusion_matrix(y_test, lor_tfidf_predict ) )"
      ],
      "execution_count": null,
      "outputs": [
        {
          "output_type": "stream",
          "text": [
            "Logistic Regression tfidf accuracy score : 57.87 % .\n",
            "Logistic Regression tfidf classification_report : \n",
            "               precision    recall  f1-score   support\n",
            "\n",
            "           0       0.64      0.24      0.35     49372\n",
            "           1       0.57      0.88      0.69     55484\n",
            "\n",
            "    accuracy                           0.58    104856\n",
            "   macro avg       0.60      0.56      0.52    104856\n",
            "weighted avg       0.60      0.58      0.53    104856\n",
            "\n",
            "Logistic Regression tfidf confusion_matrix : \n",
            " [[11745 37627]\n",
            " [ 6547 48937]]\n"
          ],
          "name": "stdout"
        }
      ]
    },
    {
      "cell_type": "code",
      "metadata": {
        "colab": {
          "base_uri": "https://localhost:8080/",
          "height": 111
        },
        "id": "wXuP2wU04hNV",
        "outputId": "f918e76d-6e53-488c-96ad-1c01179ee161"
      },
      "source": [
        "# Comparing Count Vectorizer and Term frequency , Independent document frequency accuracy scores :\n",
        "df= pandas.DataFrame({'Methods':['Count Vectorizer','Term frequency, Independent document frequency'], 'Accuracy score': [accuracy_cv, accuracy_tfidf] } )\n",
        "df"
      ],
      "execution_count": null,
      "outputs": [
        {
          "output_type": "execute_result",
          "data": {
            "text/html": [
              "<div>\n",
              "<style scoped>\n",
              "    .dataframe tbody tr th:only-of-type {\n",
              "        vertical-align: middle;\n",
              "    }\n",
              "\n",
              "    .dataframe tbody tr th {\n",
              "        vertical-align: top;\n",
              "    }\n",
              "\n",
              "    .dataframe thead th {\n",
              "        text-align: right;\n",
              "    }\n",
              "</style>\n",
              "<table border=\"1\" class=\"dataframe\">\n",
              "  <thead>\n",
              "    <tr style=\"text-align: right;\">\n",
              "      <th></th>\n",
              "      <th>Methods</th>\n",
              "      <th>Accuracy score</th>\n",
              "    </tr>\n",
              "  </thead>\n",
              "  <tbody>\n",
              "    <tr>\n",
              "      <th>0</th>\n",
              "      <td>Count Vectorizer</td>\n",
              "      <td>58.46</td>\n",
              "    </tr>\n",
              "    <tr>\n",
              "      <th>1</th>\n",
              "      <td>Term frequency, Independent document frequency</td>\n",
              "      <td>57.87</td>\n",
              "    </tr>\n",
              "  </tbody>\n",
              "</table>\n",
              "</div>"
            ],
            "text/plain": [
              "                                          Methods  Accuracy score\n",
              "0                                Count Vectorizer           58.46\n",
              "1  Term frequency, Independent document frequency           57.87"
            ]
          },
          "metadata": {
            "tags": []
          },
          "execution_count": 46
        }
      ]
    },
    {
      "cell_type": "code",
      "metadata": {
        "colab": {
          "base_uri": "https://localhost:8080/",
          "height": 468
        },
        "id": "wKkdNjfZ4g_8",
        "outputId": "5ca8db87-21b3-4e0f-dcf3-d455f74bdd55"
      },
      "source": [
        "# Bar plot\n",
        "plt.figure(figsize= (20, 7))\n",
        "plt.bar(df['Methods'], df['Accuracy score'], linewidth= 2, color= 'yellow')\n",
        "plt.grid(color= 'blue')\n",
        "plt.title('Bar plot', fontweight= 'bold', fontsize= 15)\n",
        "plt.xlabel('Names of methods', fontweight= 'bold', fontsize= 15)\n",
        "plt.ylabel('Accuracy scores', fontweight= 'bold', fontsize= 15)\n",
        "plt.xticks(fontsize= 13, fontweight= 'bold')\n",
        "plt.yticks(fontsize= 13, fontweight= 'bold')\n",
        "for x,y in zip(df['Methods'], df['Accuracy score']): \n",
        "    plt.text(x, y, str(y), fontweight= 'bold', fontsize= 15, color= 'magenta')\n",
        "plt.show()"
      ],
      "execution_count": null,
      "outputs": [
        {
          "output_type": "display_data",
          "data": {
            "image/png": "[encoded data removed]",
            "text/plain": [
              "<Figure size 1440x504 with 1 Axes>"
            ]
          },
          "metadata": {
            "tags": [],
            "needs_background": "light"
          }
        }
      ]
    },
    {
      "cell_type": "code",
      "metadata": {
        "id": "kDBFi3iMP8ac",
        "colab": {
          "base_uri": "https://localhost:8080/"
        },
        "outputId": "21f0c07f-ddc7-4138-d741-513baa459c6e"
      },
      "source": [
        "# Testing our model\n",
        "test_review= ['I hate reading song survey as it makes me cry.']\n",
        "transformed_review = cv.transform(test_review)\n",
        "sentiment_prediction= lor_cv.predict(transformed_review)\n",
        "if sentiment_prediction== 0:\n",
        "    print('This Twitter review is of Sad category.')\n",
        "else:\n",
        "    print('This Twitter review is of Happy category.')"
      ],
      "execution_count": 50,
      "outputs": [
        {
          "output_type": "stream",
          "text": [
            "This Twitter review is of Sad category.\n"
          ],
          "name": "stdout"
        }
      ]
    },
    {
      "cell_type": "code",
      "metadata": {
        "id": "0NLCyQxgaDhO",
        "colab": {
          "base_uri": "https://localhost:8080/"
        },
        "outputId": "6702b53a-06b1-4e96-a111-8c156c1f01e1"
      },
      "source": [
        "# Testing our model\n",
        "test_review= ['You are looking very beautiful today.']\n",
        "transformed_review = cv.transform(test_review)\n",
        "sentiment_prediction= lor_cv.predict(transformed_review)\n",
        "if sentiment_prediction== 0:\n",
        "    print('This Twitter review is of Sad category.')\n",
        "else:\n",
        "    print('This Twitter review is of Happy category.')"
      ],
      "execution_count": 51,
      "outputs": [
        {
          "output_type": "stream",
          "text": [
            "This Twitter review is of Happy category.\n"
          ],
          "name": "stdout"
        }
      ]
    },
    {
      "cell_type": "code",
      "metadata": {
        "id": "3rcvsuctaDhP",
        "colab": {
          "base_uri": "https://localhost:8080/"
        },
        "outputId": "e5bc0d62-bbd1-4d7a-ce7c-8173b8c00d20"
      },
      "source": [
        "# Testing our model\n",
        "test_review= ['I do not like this product. It is not working as it was shown on the site.']\n",
        "transformed_review = cv.transform(test_review)\n",
        "sentiment_prediction= lor_cv.predict(transformed_review)\n",
        "if sentiment_prediction== 0:\n",
        "    print('This Twitter review is of Sad category.')\n",
        "else:\n",
        "    print('This Twitter review is of Happy category.')"
      ],
      "execution_count": 52,
      "outputs": [
        {
          "output_type": "stream",
          "text": [
            "This Twitter review is of Sad category.\n"
          ],
          "name": "stdout"
        }
      ]
    },
    {
      "cell_type": "code",
      "metadata": {
        "id": "girex11baDhP",
        "colab": {
          "base_uri": "https://localhost:8080/"
        },
        "outputId": "90af3a56-1c2b-46d5-e025-39d988471018"
      },
      "source": [
        "# Testing our model\n",
        "test_review= ['This film is amazing. The actress was looking very charming.']\n",
        "transformed_review = cv.transform(test_review)\n",
        "sentiment_prediction= lor_cv.predict(transformed_review)\n",
        "if sentiment_prediction== 0:\n",
        "    print('This Twitter review is of Sad category.')\n",
        "else:\n",
        "    print('This Twitter review is of Happy category.')"
      ],
      "execution_count": 53,
      "outputs": [
        {
          "output_type": "stream",
          "text": [
            "This Twitter review is of Happy category.\n"
          ],
          "name": "stdout"
        }
      ]
    },
    {
      "cell_type": "code",
      "metadata": {
        "id": "LOCd2aVmaDhQ"
      },
      "source": [
        ""
      ],
      "execution_count": null,
      "outputs": []
    }
  ]
}