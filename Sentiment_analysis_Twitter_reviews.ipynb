{
 "cells": [
  {
   "cell_type": "markdown",
   "metadata": {},
   "source": [
    "# Sentiment analysis of Twitter reviews"
   ]
  },
  {
   "cell_type": "code",
   "execution_count": 1,
   "metadata": {
    "id": "LQqevROHP6yi"
   },
   "outputs": [],
   "source": [
    "# Importing libraries\n",
    "import numpy\n",
    "import pandas\n",
    "import matplotlib.pyplot as plt\n",
    "import seaborn\n",
    "%matplotlib inline"
   ]
  },
  {
   "cell_type": "code",
   "execution_count": 2,
   "metadata": {
    "id": "sH6eZNpqe2dU"
   },
   "outputs": [],
   "source": [
    "# Importing libraries\n",
    "import nltk\n",
    "from sklearn.feature_extraction.text import CountVectorizer\n",
    "from sklearn.feature_extraction.text import TfidfVectorizer\n",
    "from nltk.corpus import stopwords\n",
    "from nltk.stem import wordnet\n",
    "from nltk.stem import SnowballStemmer\n",
    "from nltk.stem import PorterStemmer\n",
    "from nltk.stem import LancasterStemmer\n",
    "from nltk.stem import WordNetLemmatizer\n",
    "from nltk.tokenize import word_tokenize,sent_tokenize\n",
    "from nltk.tokenize.toktok import ToktokTokenizer\n",
    "from sklearn.linear_model import LogisticRegression\n",
    "from sklearn.tree import DecisionTreeClassifier\n",
    "from sklearn.metrics import classification_report,confusion_matrix,accuracy_score\n",
    "import re\n",
    "from bs4 import BeautifulSoup"
   ]
  },
  {
   "cell_type": "code",
   "execution_count": 3,
   "metadata": {
    "id": "aGKS-6gOzud-"
   },
   "outputs": [],
   "source": [
    "# Importing my dataset as dataframe\n",
    "data = pandas.read_csv('D:\\Files\\Data Science\\Anaconda\\Sample csv files/Twitter_reviews.csv', engine='python')"
   ]
  },
  {
   "cell_type": "code",
   "execution_count": 4,
   "metadata": {
    "colab": {
     "base_uri": "https://localhost:8080/"
    },
    "id": "LjCVVWY1P60R",
    "outputId": "32498df3-5342-404d-bedc-2c2dd2537ff4"
   },
   "outputs": [
    {
     "data": {
      "text/plain": [
       "(1048575, 3)"
      ]
     },
     "execution_count": 4,
     "metadata": {},
     "output_type": "execute_result"
    }
   ],
   "source": [
    "# Shape of the dataset\n",
    "data.shape"
   ]
  },
  {
   "cell_type": "code",
   "execution_count": 5,
   "metadata": {
    "id": "hQkSWJHC0BKQ"
   },
   "outputs": [],
   "source": [
    "# Shuffling the dataframe to avoid chances of biasness\n",
    "data= data.sample(frac= 1)"
   ]
  },
  {
   "cell_type": "code",
   "execution_count": 6,
   "metadata": {
    "colab": {
     "base_uri": "https://localhost:8080/",
     "height": 204
    },
    "id": "uqHxLHSzP64J",
    "outputId": "5cbffb1f-6bb1-4d0d-ba42-e9817d47bdb1"
   },
   "outputs": [
    {
     "data": {
      "text/html": [
       "<div>\n",
       "<style scoped>\n",
       "    .dataframe tbody tr th:only-of-type {\n",
       "        vertical-align: middle;\n",
       "    }\n",
       "\n",
       "    .dataframe tbody tr th {\n",
       "        vertical-align: top;\n",
       "    }\n",
       "\n",
       "    .dataframe thead th {\n",
       "        text-align: right;\n",
       "    }\n",
       "</style>\n",
       "<table border=\"1\" class=\"dataframe\">\n",
       "  <thead>\n",
       "    <tr style=\"text-align: right;\">\n",
       "      <th></th>\n",
       "      <th>ItemID</th>\n",
       "      <th>Sentiment</th>\n",
       "      <th>SentimentText</th>\n",
       "    </tr>\n",
       "  </thead>\n",
       "  <tbody>\n",
       "    <tr>\n",
       "      <th>435003</th>\n",
       "      <td>435015</td>\n",
       "      <td>0</td>\n",
       "      <td>@SianySianySiany @zairesheppard and her mate a...</td>\n",
       "    </tr>\n",
       "    <tr>\n",
       "      <th>294785</th>\n",
       "      <td>294797</td>\n",
       "      <td>0</td>\n",
       "      <td>@MarkK_H where are yooooou?</td>\n",
       "    </tr>\n",
       "    <tr>\n",
       "      <th>229812</th>\n",
       "      <td>229824</td>\n",
       "      <td>1</td>\n",
       "      <td>@JohnjayVanEs Sneak out..??..You shoud have ra...</td>\n",
       "    </tr>\n",
       "    <tr>\n",
       "      <th>941321</th>\n",
       "      <td>941335</td>\n",
       "      <td>0</td>\n",
       "      <td>is feeling like I'm getting the flu...just in ...</td>\n",
       "    </tr>\n",
       "    <tr>\n",
       "      <th>435457</th>\n",
       "      <td>435469</td>\n",
       "      <td>0</td>\n",
       "      <td>@suburbangranola Poor little thing! My younges...</td>\n",
       "    </tr>\n",
       "  </tbody>\n",
       "</table>\n",
       "</div>"
      ],
      "text/plain": [
       "        ItemID  Sentiment                                      SentimentText\n",
       "435003  435015          0  @SianySianySiany @zairesheppard and her mate a...\n",
       "294785  294797          0                       @MarkK_H where are yooooou? \n",
       "229812  229824          1  @JohnjayVanEs Sneak out..??..You shoud have ra...\n",
       "941321  941335          0  is feeling like I'm getting the flu...just in ...\n",
       "435457  435469          0  @suburbangranola Poor little thing! My younges..."
      ]
     },
     "execution_count": 6,
     "metadata": {},
     "output_type": "execute_result"
    }
   ],
   "source": [
    "# Reading first three rows of my dataset\n",
    "data.head()"
   ]
  },
  {
   "cell_type": "code",
   "execution_count": 7,
   "metadata": {
    "id": "4F-FACLgP65m"
   },
   "outputs": [],
   "source": [
    "# As ItemID is only for indexing, so I am deleting it\n",
    "#data= data.drop(columns= 'ItemID')\n",
    "del data['ItemID']"
   ]
  },
  {
   "cell_type": "code",
   "execution_count": 8,
   "metadata": {
    "colab": {
     "base_uri": "https://localhost:8080/"
    },
    "id": "PeIseblPP6-g",
    "outputId": "bb382139-2ed2-4324-85ed-4b300a7db3ed"
   },
   "outputs": [
    {
     "name": "stdout",
     "output_type": "stream",
     "text": [
      "<class 'pandas.core.frame.DataFrame'>\n",
      "Int64Index: 1048575 entries, 435003 to 345992\n",
      "Data columns (total 2 columns):\n",
      " #   Column         Non-Null Count    Dtype \n",
      "---  ------         --------------    ----- \n",
      " 0   Sentiment      1048575 non-null  int64 \n",
      " 1   SentimentText  1048575 non-null  object\n",
      "dtypes: int64(1), object(1)\n",
      "memory usage: 24.0+ MB\n"
     ]
    }
   ],
   "source": [
    "# Brief info about our data\n",
    "data.info()"
   ]
  },
  {
   "cell_type": "code",
   "execution_count": 9,
   "metadata": {
    "colab": {
     "base_uri": "https://localhost:8080/"
    },
    "id": "qTB07DyDXP7r",
    "outputId": "8cae5b37-576c-484e-e6da-a4ca99a0191f"
   },
   "outputs": [
    {
     "name": "stdout",
     "output_type": "stream",
     "text": [
      "<class 'pandas.core.frame.DataFrame'>\n",
      "<class 'pandas.core.series.Series'>\n",
      "<class 'pandas.core.series.Series'>\n"
     ]
    }
   ],
   "source": [
    "print(type(data))\n",
    "print(type(data['Sentiment']))\n",
    "print(type(data['SentimentText']))"
   ]
  },
  {
   "cell_type": "code",
   "execution_count": 10,
   "metadata": {
    "colab": {
     "base_uri": "https://localhost:8080/"
    },
    "id": "G2WMNFmFP7AB",
    "outputId": "4ac795d8-ee2d-4edb-e9c5-530589cd16dc"
   },
   "outputs": [
    {
     "data": {
      "text/plain": [
       "Index(['Sentiment', 'SentimentText'], dtype='object')"
      ]
     },
     "execution_count": 10,
     "metadata": {},
     "output_type": "execute_result"
    }
   ],
   "source": [
    "data.columns"
   ]
  },
  {
   "cell_type": "code",
   "execution_count": 11,
   "metadata": {
    "colab": {
     "base_uri": "https://localhost:8080/"
    },
    "id": "uoqGspIMP7Fb",
    "outputId": "a784ea43-4ebb-40a7-fc02-6d88e51dccc8"
   },
   "outputs": [
    {
     "data": {
      "text/plain": [
       "Sentiment        0\n",
       "SentimentText    0\n",
       "dtype: int64"
      ]
     },
     "execution_count": 11,
     "metadata": {},
     "output_type": "execute_result"
    }
   ],
   "source": [
    "# Checking null values in our dataset\n",
    "data.isnull().sum()"
   ]
  },
  {
   "cell_type": "code",
   "execution_count": 12,
   "metadata": {
    "colab": {
     "base_uri": "https://localhost:8080/"
    },
    "id": "G0AXnmK9P7G1",
    "outputId": "12e0a423-5710-41b2-d42d-bb02ed5d9797"
   },
   "outputs": [
    {
     "data": {
      "text/plain": [
       "16"
      ]
     },
     "execution_count": 12,
     "metadata": {},
     "output_type": "execute_result"
    }
   ],
   "source": [
    "# Checking duplicate values if any\n",
    "data.duplicated().sum()"
   ]
  },
  {
   "cell_type": "code",
   "execution_count": 13,
   "metadata": {
    "id": "C-oLZ6NL1oI6"
   },
   "outputs": [],
   "source": [
    "# Dropping duplicate values\n",
    "data.drop_duplicates( inplace= True )"
   ]
  },
  {
   "cell_type": "code",
   "execution_count": 14,
   "metadata": {
    "colab": {
     "base_uri": "https://localhost:8080/"
    },
    "id": "7FB9bpXq16YU",
    "outputId": "cce10d29-8490-4020-b314-a8416ced9c21"
   },
   "outputs": [
    {
     "data": {
      "text/plain": [
       "0"
      ]
     },
     "execution_count": 14,
     "metadata": {},
     "output_type": "execute_result"
    }
   ],
   "source": [
    "# Checking duplicate values now again\n",
    "data.duplicated().sum()"
   ]
  },
  {
   "cell_type": "code",
   "execution_count": 15,
   "metadata": {
    "colab": {
     "base_uri": "https://localhost:8080/"
    },
    "id": "RBkgd5FmP7Lp",
    "outputId": "9b312ada-da40-4576-c2c5-44b2b8be44ef"
   },
   "outputs": [
    {
     "data": {
      "text/plain": [
       "Sentiment              2\n",
       "SentimentText    1048558\n",
       "dtype: int64"
      ]
     },
     "execution_count": 15,
     "metadata": {},
     "output_type": "execute_result"
    }
   ],
   "source": [
    "# Unique values in out dataframe\n",
    "data.nunique()"
   ]
  },
  {
   "cell_type": "code",
   "execution_count": 16,
   "metadata": {
    "colab": {
     "base_uri": "https://localhost:8080/",
     "height": 350
    },
    "id": "QrekfN0GP7NH",
    "outputId": "bf203165-fa9b-44c5-ca4c-809f8ff155c5"
   },
   "outputs": [
    {
     "data": {
      "image/png": "[encoded data removed]",
      "text/plain": [
       "<Figure size 1440x360 with 1 Axes>"
      ]
     },
     "metadata": {
      "needs_background": "light"
     },
     "output_type": "display_data"
    }
   ],
   "source": [
    "# Histogram plot of Sentiment column : 0 means sad and 1 means happy.\n",
    "plt.figure(figsize= (20, 5))\n",
    "plt.hist(data['Sentiment'], color= 'yellow')\n",
    "plt.xlabel('Sentiments')\n",
    "plt.ylabel('Counter of occurence')\n",
    "plt.title('Histogram plot of Sentiment column')\n",
    "plt.grid(color= 'green')\n",
    "plt.show()"
   ]
  },
  {
   "cell_type": "code",
   "execution_count": 17,
   "metadata": {
    "colab": {
     "base_uri": "https://localhost:8080/",
     "height": 293
    },
    "id": "51Dejdf9P7Td",
    "outputId": "6adf1376-d489-4158-f010-991c4c4b46e7"
   },
   "outputs": [
    {
     "name": "stdout",
     "output_type": "stream",
     "text": [
      "[(1, 554463), (0, 494096)]\n"
     ]
    },
    {
     "data": {
      "image/png": "[encoded data removed]",
      "text/plain": [
       "<Figure size 432x288 with 1 Axes>"
      ]
     },
     "metadata": {
      "needs_background": "light"
     },
     "output_type": "display_data"
    },
    {
     "data": {
      "text/plain": [
       "<AxesSubplot:xlabel='Samples', ylabel='Counts'>"
      ]
     },
     "execution_count": 17,
     "metadata": {},
     "output_type": "execute_result"
    }
   ],
   "source": [
    "# Frequency distribution :\n",
    "from nltk.probability import FreqDist\n",
    "fdist= FreqDist(data['Sentiment'])\n",
    "print(fdist.most_common(2))\n",
    "fdist.plot()"
   ]
  },
  {
   "cell_type": "code",
   "execution_count": 18,
   "metadata": {
    "colab": {
     "base_uri": "https://localhost:8080/",
     "height": 324
    },
    "id": "IZMKiKGF3QU9",
    "outputId": "6291c8af-ca6e-40d7-f80a-b744bd864da8"
   },
   "outputs": [
    {
     "data": {
      "image/png": "[encoded data removed]",
      "text/plain": [
       "<Figure size 1440x360 with 2 Axes>"
      ]
     },
     "metadata": {
      "needs_background": "light"
     },
     "output_type": "display_data"
    }
   ],
   "source": [
    "# Heatmap of correlation\n",
    "plt.figure(figsize= (20, 5))\n",
    "correlation= data.corr()\n",
    "seaborn.heatmap(correlation, annot= True, cmap= 'RdYlGn')\n",
    "plt.show()"
   ]
  },
  {
   "cell_type": "code",
   "execution_count": 19,
   "metadata": {
    "colab": {
     "base_uri": "https://localhost:8080/",
     "height": 279
    },
    "id": "EPKHx3S14SZJ",
    "outputId": "0d37d889-c76a-4de9-a849-c3c62bfeb3a4"
   },
   "outputs": [
    {
     "data": {
      "image/png": "[encoded data removed]",
      "text/plain": [
       "<Figure size 432x288 with 1 Axes>"
      ]
     },
     "metadata": {
      "needs_background": "light"
     },
     "output_type": "display_data"
    }
   ],
   "source": [
    "# Countplot for Sentiment column\n",
    "seaborn.countplot(x= 'Sentiment', data= data)\n",
    "plt.show()"
   ]
  },
  {
   "cell_type": "code",
   "execution_count": 20,
   "metadata": {
    "colab": {
     "base_uri": "https://localhost:8080/"
    },
    "id": "HYFKQ2iXP7la",
    "outputId": "39bc778e-7b7d-43f7-9856-c35a3097e0ae"
   },
   "outputs": [
    {
     "name": "stderr",
     "output_type": "stream",
     "text": [
      "D:\\Files\\Data Science\\Anaconda\\Anaconda\\lib\\site-packages\\bs4\\__init__.py:332: MarkupResemblesLocatorWarning: \" i just received my G8 viola exam.. and its... well... .. disappointing.. :\\..\" looks like a filename, not markup. You should probably open this file and pass the filehandle into Beautiful Soup.\n",
      "  warnings.warn(\n",
      "D:\\Files\\Data Science\\Anaconda\\Anaconda\\lib\\site-packages\\bs4\\__init__.py:332: MarkupResemblesLocatorWarning: \"Cookies \" looks like a filename, not markup. You should probably open this file and pass the filehandle into Beautiful Soup.\n",
      "  warnings.warn(\n",
      "D:\\Files\\Data Science\\Anaconda\\Anaconda\\lib\\site-packages\\bs4\\__init__.py:332: MarkupResemblesLocatorWarning: \"E3 ON PLAYSTATION HOME IN ABOUT AN HOUR!!!!!!!!!! \\../  \\../\" looks like a filename, not markup. You should probably open this file and pass the filehandle into Beautiful Soup.\n",
      "  warnings.warn(\n"
     ]
    }
   ],
   "source": [
    "# Removing the noisy text\n",
    "def noise_removal(text):\n",
    "    text = re.sub('\\[[^]]*\\]', '', BeautifulSoup(text, \"html.parser\").get_text())\n",
    "    return text\n",
    "# Applying function on SentimentText column\n",
    "data['SentimentText']= data['SentimentText'].apply(noise_removal)"
   ]
  },
  {
   "cell_type": "code",
   "execution_count": 21,
   "metadata": {
    "colab": {
     "base_uri": "https://localhost:8080/",
     "height": 111
    },
    "id": "dGFXBun_P7m1",
    "outputId": "0ad2d989-60ae-4a08-dcb5-1fa932944b2d"
   },
   "outputs": [
    {
     "data": {
      "text/html": [
       "<div>\n",
       "<style scoped>\n",
       "    .dataframe tbody tr th:only-of-type {\n",
       "        vertical-align: middle;\n",
       "    }\n",
       "\n",
       "    .dataframe tbody tr th {\n",
       "        vertical-align: top;\n",
       "    }\n",
       "\n",
       "    .dataframe thead th {\n",
       "        text-align: right;\n",
       "    }\n",
       "</style>\n",
       "<table border=\"1\" class=\"dataframe\">\n",
       "  <thead>\n",
       "    <tr style=\"text-align: right;\">\n",
       "      <th></th>\n",
       "      <th>Sentiment</th>\n",
       "      <th>SentimentText</th>\n",
       "    </tr>\n",
       "  </thead>\n",
       "  <tbody>\n",
       "    <tr>\n",
       "      <th>435003</th>\n",
       "      <td>0</td>\n",
       "      <td>@SianySianySiany @zairesheppard and her mate a...</td>\n",
       "    </tr>\n",
       "    <tr>\n",
       "      <th>294785</th>\n",
       "      <td>0</td>\n",
       "      <td>@MarkK_H where are yooooou?</td>\n",
       "    </tr>\n",
       "  </tbody>\n",
       "</table>\n",
       "</div>"
      ],
      "text/plain": [
       "        Sentiment                                      SentimentText\n",
       "435003          0  @SianySianySiany @zairesheppard and her mate a...\n",
       "294785          0                       @MarkK_H where are yooooou? "
      ]
     },
     "execution_count": 21,
     "metadata": {},
     "output_type": "execute_result"
    }
   ],
   "source": [
    "data.head(2)"
   ]
  },
  {
   "cell_type": "code",
   "execution_count": 22,
   "metadata": {
    "id": "o-bavtAcP7rp"
   },
   "outputs": [],
   "source": [
    "# Stemming the text\n",
    "def stemmer(text):\n",
    "    sbs = SnowballStemmer('english')\n",
    "    text= ' '.join( [ sbs.stem(word) for word in text.split() ] )\n",
    "    return text"
   ]
  },
  {
   "cell_type": "code",
   "execution_count": 23,
   "metadata": {
    "id": "EJ5xKYvgP7tL"
   },
   "outputs": [],
   "source": [
    "# Applying function on Sentiment text column\n",
    "data['SentimentText']= data['SentimentText'].apply(stemmer)"
   ]
  },
  {
   "cell_type": "code",
   "execution_count": 24,
   "metadata": {
    "colab": {
     "base_uri": "https://localhost:8080/",
     "height": 111
    },
    "id": "jHrva-5MP7xv",
    "outputId": "0e70ca4e-5e10-4a24-e9e0-feddff528b1a"
   },
   "outputs": [
    {
     "data": {
      "text/html": [
       "<div>\n",
       "<style scoped>\n",
       "    .dataframe tbody tr th:only-of-type {\n",
       "        vertical-align: middle;\n",
       "    }\n",
       "\n",
       "    .dataframe tbody tr th {\n",
       "        vertical-align: top;\n",
       "    }\n",
       "\n",
       "    .dataframe thead th {\n",
       "        text-align: right;\n",
       "    }\n",
       "</style>\n",
       "<table border=\"1\" class=\"dataframe\">\n",
       "  <thead>\n",
       "    <tr style=\"text-align: right;\">\n",
       "      <th></th>\n",
       "      <th>Sentiment</th>\n",
       "      <th>SentimentText</th>\n",
       "    </tr>\n",
       "  </thead>\n",
       "  <tbody>\n",
       "    <tr>\n",
       "      <th>435003</th>\n",
       "      <td>0</td>\n",
       "      <td>@sianysianysiani @zairesheppard and her mate a...</td>\n",
       "    </tr>\n",
       "    <tr>\n",
       "      <th>294785</th>\n",
       "      <td>0</td>\n",
       "      <td>@markk_h where are yooooou?</td>\n",
       "    </tr>\n",
       "  </tbody>\n",
       "</table>\n",
       "</div>"
      ],
      "text/plain": [
       "        Sentiment                                      SentimentText\n",
       "435003          0  @sianysianysiani @zairesheppard and her mate a...\n",
       "294785          0                        @markk_h where are yooooou?"
      ]
     },
     "execution_count": 24,
     "metadata": {},
     "output_type": "execute_result"
    }
   ],
   "source": [
    "data.head(2)"
   ]
  },
  {
   "cell_type": "code",
   "execution_count": 25,
   "metadata": {
    "id": "GqmyJhDCP7zJ"
   },
   "outputs": [],
   "source": [
    "# Tokenization of text\n",
    "tokenizer= ToktokTokenizer()\n",
    "# Setting English stopwords\n",
    "stopwords= nltk.corpus.stopwords.words('english')"
   ]
  },
  {
   "cell_type": "code",
   "execution_count": 26,
   "metadata": {
    "id": "EbsT9SHfP73v"
   },
   "outputs": [],
   "source": [
    "# Removing the stopwords\n",
    "def removing_stopwords(text, is_lower_case=False):\n",
    "    tokens = tokenizer.tokenize(text)\n",
    "    tokens = [token.strip() for token in tokens]\n",
    "    if is_lower_case:\n",
    "        filter_tokens = [token for token in tokens if token not in stopwords]\n",
    "    else:\n",
    "        filter_tokens = [token for token in tokens if token.lower() not in stopwords]\n",
    "    filtered_text = ' '.join(filter_tokens)    \n",
    "    return filtered_text"
   ]
  },
  {
   "cell_type": "code",
   "execution_count": 27,
   "metadata": {
    "id": "0_nfRSYCP75K"
   },
   "outputs": [],
   "source": [
    "#Applying function on SentimentText column\n",
    "data['SentimentText']=data['SentimentText'].apply(removing_stopwords)"
   ]
  },
  {
   "cell_type": "code",
   "execution_count": 28,
   "metadata": {
    "colab": {
     "base_uri": "https://localhost:8080/",
     "height": 142
    },
    "id": "MGBMULoFP7-G",
    "outputId": "22d35d82-6d39-44e6-fbdc-0a0bb063ff90"
   },
   "outputs": [
    {
     "data": {
      "text/html": [
       "<div>\n",
       "<style scoped>\n",
       "    .dataframe tbody tr th:only-of-type {\n",
       "        vertical-align: middle;\n",
       "    }\n",
       "\n",
       "    .dataframe tbody tr th {\n",
       "        vertical-align: top;\n",
       "    }\n",
       "\n",
       "    .dataframe thead th {\n",
       "        text-align: right;\n",
       "    }\n",
       "</style>\n",
       "<table border=\"1\" class=\"dataframe\">\n",
       "  <thead>\n",
       "    <tr style=\"text-align: right;\">\n",
       "      <th></th>\n",
       "      <th>Sentiment</th>\n",
       "      <th>SentimentText</th>\n",
       "    </tr>\n",
       "  </thead>\n",
       "  <tbody>\n",
       "    <tr>\n",
       "      <th>435003</th>\n",
       "      <td>0</td>\n",
       "      <td>@sianysianysiani @zairesheppard mate still sle...</td>\n",
       "    </tr>\n",
       "    <tr>\n",
       "      <th>294785</th>\n",
       "      <td>0</td>\n",
       "      <td>@markk_h yooooou ?</td>\n",
       "    </tr>\n",
       "    <tr>\n",
       "      <th>229812</th>\n",
       "      <td>1</td>\n",
       "      <td>@johnjayvan sneak .. ?? .. shoud ran it. lot e...</td>\n",
       "    </tr>\n",
       "  </tbody>\n",
       "</table>\n",
       "</div>"
      ],
      "text/plain": [
       "        Sentiment                                      SentimentText\n",
       "435003          0  @sianysianysiani @zairesheppard mate still sle...\n",
       "294785          0                                 @markk_h yooooou ?\n",
       "229812          1  @johnjayvan sneak .. ?? .. shoud ran it. lot e..."
      ]
     },
     "execution_count": 28,
     "metadata": {},
     "output_type": "execute_result"
    }
   ],
   "source": [
    "data.head(3)"
   ]
  },
  {
   "cell_type": "code",
   "execution_count": 29,
   "metadata": {
    "id": "BGGrGIZtP7_j"
   },
   "outputs": [],
   "source": [
    "# Train- test splitting of our dataframe : x is independent variable and y is dependent variable.\n",
    "x= data['SentimentText']\n",
    "y= data['Sentiment']\n",
    "from sklearn.model_selection import train_test_split\n",
    "(x_train, x_test, y_train, y_test)= train_test_split(x, y, test_size=0.1, random_state=0)"
   ]
  },
  {
   "cell_type": "code",
   "execution_count": 30,
   "metadata": {
    "colab": {
     "base_uri": "https://localhost:8080/"
    },
    "id": "pzvuSEkJP8EJ",
    "outputId": "410dd3a0-e639-4e18-ea5c-a3517f193cb8"
   },
   "outputs": [
    {
     "name": "stdout",
     "output_type": "stream",
     "text": [
      "(1048559, 1)\n"
     ]
    }
   ],
   "source": [
    "# Label encoding : labeling the label data\n",
    "from sklearn.preprocessing import LabelBinarizer\n",
    "l_b= LabelBinarizer()\n",
    "# Transformed Sentiment data\n",
    "label_data= l_b.fit_transform(data['Sentiment'])\n",
    "print(label_data.shape)"
   ]
  },
  {
   "cell_type": "code",
   "execution_count": 31,
   "metadata": {
    "colab": {
     "base_uri": "https://localhost:8080/"
    },
    "id": "ydxFYMhcP8Fi",
    "outputId": "0119592b-2090-49bd-f41d-9086e6e1e282"
   },
   "outputs": [
    {
     "data": {
      "text/plain": [
       "array([[0],\n",
       "       [0],\n",
       "       [1],\n",
       "       ...,\n",
       "       [0],\n",
       "       [1],\n",
       "       [1]])"
      ]
     },
     "execution_count": 31,
     "metadata": {},
     "output_type": "execute_result"
    }
   ],
   "source": [
    "label_data"
   ]
  },
  {
   "cell_type": "code",
   "execution_count": 32,
   "metadata": {
    "colab": {
     "base_uri": "https://localhost:8080/"
    },
    "id": "L5CDjnStP8KL",
    "outputId": "002bcc0e-3d7b-40d9-f05e-4da8fe0b180f"
   },
   "outputs": [
    {
     "name": "stdout",
     "output_type": "stream",
     "text": [
      "Bag of Words shape in Count Vectorizer train :  (943703, 7648733)\n",
      "Bag of Words shape in Count Vectorizer test :  (104856, 7648733)\n"
     ]
    }
   ],
   "source": [
    "# Bag of words\n",
    "# Count Vectorizer for bag of words\n",
    "cv= CountVectorizer(min_df=0, max_df=1, binary=False, ngram_range=(1,3) )\n",
    "# Transformed train 'SentimentText' column\n",
    "cv_train= cv.fit_transform(x_train)\n",
    "# Transformed test 'SentimentText' column\n",
    "cv_test= cv.transform(x_test)\n",
    "print('Bag of Words shape in Count Vectorizer train : ',cv_train.shape)\n",
    "print('Bag of Words shape in Count Vectorizer test : ',cv_test.shape)"
   ]
  },
  {
   "cell_type": "code",
   "execution_count": 33,
   "metadata": {
    "id": "nvX2EcAsP8LY"
   },
   "outputs": [
    {
     "data": {
      "text/plain": [
       "LogisticRegression(random_state=1)"
      ]
     },
     "execution_count": 33,
     "metadata": {},
     "output_type": "execute_result"
    }
   ],
   "source": [
    "# Training the model\n",
    "lor_cv= LogisticRegression(random_state= 1)\n",
    "# Fitting the model for Bag of words\n",
    "lor_cv.fit(cv_train, y_train)"
   ]
  },
  {
   "cell_type": "code",
   "execution_count": 34,
   "metadata": {
    "id": "h5lwpW-kP8QS"
   },
   "outputs": [
    {
     "name": "stdout",
     "output_type": "stream",
     "text": [
      "Logistic Regression Bag of words accuracy score : 0.5838\n",
      "Logistic Regression Bag of words classification_report : \n",
      "               precision    recall  f1-score   support\n",
      "\n",
      "           0       0.62      0.30      0.40     49446\n",
      "           1       0.57      0.84      0.68     55410\n",
      "\n",
      "    accuracy                           0.58    104856\n",
      "   macro avg       0.60      0.57      0.54    104856\n",
      "weighted avg       0.60      0.58      0.55    104856\n",
      "\n",
      "Logistic Regression Bag of words confusion_matrix : \n",
      " [[14597 34849]\n",
      " [ 8791 46619]]\n"
     ]
    }
   ],
   "source": [
    "# Predicting the model for bag of words\n",
    "lor_bow_predict = lor_cv.predict(cv_test )\n",
    "#Accuracy score for bag of words\n",
    "print('Logistic Regression Bag of words accuracy score :', accuracy_score(y_test, lor_bow_predict ).round(decimals= 4) )\n",
    "print('Logistic Regression Bag of words classification_report :','\\n', classification_report(y_test, lor_bow_predict ) )\n",
    "print('Logistic Regression Bag of words confusion_matrix :','\\n', confusion_matrix(y_test, lor_bow_predict ) )"
   ]
  },
  {
   "cell_type": "code",
   "execution_count": 35,
   "metadata": {
    "id": "jP0XpWz6P8RV"
   },
   "outputs": [
    {
     "name": "stdout",
     "output_type": "stream",
     "text": [
      "Term frequency , Independent document frequency train : (943703, 7648733)\n",
      "Term frequency , Independent document frequency test : (104856, 7648733)\n"
     ]
    }
   ],
   "source": [
    "# Tf: Term frequency, and IDF: Inverse document frequency\n",
    "# Tfidf Vectorizer\n",
    "tf= TfidfVectorizer(min_df=0, max_df=1, use_idf=True, ngram_range=(1,3) )\n",
    "# Transformed train 'SentimentText' column\n",
    "tf_train= tf.fit_transform(x_train)\n",
    "# Transformed test 'SentimentText' column\n",
    "tf_test= tf.transform(x_test)\n",
    "print('Term frequency , Independent document frequency train :', tf_train.shape)\n",
    "print('Term frequency , Independent document frequency test :', tf_test.shape)"
   ]
  },
  {
   "cell_type": "code",
   "execution_count": 36,
   "metadata": {},
   "outputs": [
    {
     "data": {
      "text/plain": [
       "LogisticRegression(random_state=1)"
      ]
     },
     "execution_count": 36,
     "metadata": {},
     "output_type": "execute_result"
    }
   ],
   "source": [
    "# Training the model\n",
    "lor_tf = LogisticRegression(random_state= 1)\n",
    "# Fitting the model for tfidf features\n",
    "lor_tf.fit(tf_train, y_train)"
   ]
  },
  {
   "cell_type": "code",
   "execution_count": 37,
   "metadata": {},
   "outputs": [
    {
     "name": "stdout",
     "output_type": "stream",
     "text": [
      "Logistic Regression tfidf accuracy score : 0.5783\n",
      "Logistic Regression tfidf classification_report : \n",
      "               precision    recall  f1-score   support\n",
      "\n",
      "           0       0.65      0.23      0.34     49446\n",
      "           1       0.56      0.89      0.69     55410\n",
      "\n",
      "    accuracy                           0.58    104856\n",
      "   macro avg       0.60      0.56      0.52    104856\n",
      "weighted avg       0.60      0.58      0.53    104856\n",
      "\n",
      "Logistic Regression tfidf confusion_matrix : \n",
      " [[11593 37853]\n",
      " [ 6369 49041]]\n"
     ]
    }
   ],
   "source": [
    "# Predicting the model for tfidf features\n",
    "lor_tfidf_predict= lor_tf.predict(tf_test)\n",
    "# Accuracy score for tfidf features\n",
    "print('Logistic Regression tfidf accuracy score :', accuracy_score(y_test, lor_tfidf_predict ).round(decimals= 4) )\n",
    "print('Logistic Regression tfidf classification_report :','\\n', classification_report(y_test, lor_tfidf_predict ) )\n",
    "print('Logistic Regression tfidf confusion_matrix :','\\n', confusion_matrix(y_test, lor_tfidf_predict ) )"
   ]
  },
  {
   "cell_type": "code",
   "execution_count": 38,
   "metadata": {
    "id": "kDBFi3iMP8ac"
   },
   "outputs": [
    {
     "name": "stdout",
     "output_type": "stream",
     "text": [
      "This Twitter review is of Sad category.\n"
     ]
    }
   ],
   "source": [
    "# Testing our model\n",
    "test_review= ['I hate reading song survey as it makes me cry.']\n",
    "transformed_review = cv.transform(test_review)\n",
    "sentiment_prediction= lor_cv.predict(transformed_review)\n",
    "if sentiment_prediction== 0:\n",
    "    print('This Twitter review is of Sad category.')\n",
    "else:\n",
    "    print('This Twitter review is of Happy category.')"
   ]
  },
  {
   "cell_type": "code",
   "execution_count": 39,
   "metadata": {},
   "outputs": [
    {
     "name": "stdout",
     "output_type": "stream",
     "text": [
      "This Twitter review is of Happy category.\n"
     ]
    }
   ],
   "source": [
    "# Testing our model\n",
    "test_review= ['You are looking very beautiful today.']\n",
    "transformed_review = cv.transform(test_review)\n",
    "sentiment_prediction= lor_cv.predict(transformed_review)\n",
    "if sentiment_prediction== 0:\n",
    "    print('This Twitter review is of Sad category.')\n",
    "else:\n",
    "    print('This Twitter review is of Happy category.')"
   ]
  },
  {
   "cell_type": "code",
   "execution_count": 51,
   "metadata": {},
   "outputs": [
    {
     "name": "stdout",
     "output_type": "stream",
     "text": [
      "This Twitter review is of Sad category.\n"
     ]
    }
   ],
   "source": [
    "# Testing our model\n",
    "test_review= ['I do hate this product. It is not working as it was shown on the site.']\n",
    "transformed_review = cv.transform(test_review)\n",
    "sentiment_prediction= lor_cv.predict(transformed_review)\n",
    "if sentiment_prediction== 0:\n",
    "    print('This Twitter review is of Sad category.')\n",
    "else:\n",
    "    print('This Twitter review is of Happy category.')"
   ]
  },
  {
   "cell_type": "code",
   "execution_count": 41,
   "metadata": {},
   "outputs": [
    {
     "name": "stdout",
     "output_type": "stream",
     "text": [
      "This Twitter review is of Happy category.\n"
     ]
    }
   ],
   "source": [
    "# Testing our model\n",
    "test_review= ['This film is amaging. The actress was looking very charming.']\n",
    "transformed_review = cv.transform(test_review)\n",
    "sentiment_prediction= lor_cv.predict(transformed_review)\n",
    "if sentiment_prediction== 0:\n",
    "    print('This Twitter review is of Sad category.')\n",
    "else:\n",
    "    print('This Twitter review is of Happy category.')"
   ]
  },
  {
   "cell_type": "code",
   "execution_count": null,
   "metadata": {},
   "outputs": [],
   "source": []
  }
 ],
 "metadata": {
  "colab": {
   "collapsed_sections": [],
   "name": "Sentiment analysis- Twitter reviews",
   "provenance": []
  },
  "kernelspec": {
   "display_name": "Python 3",
   "language": "python",
   "name": "python3"
  },
  "language_info": {
   "codemirror_mode": {
    "name": "ipython",
    "version": 3
   },
   "file_extension": ".py",
   "mimetype": "text/x-python",
   "name": "python",
   "nbconvert_exporter": "python",
   "pygments_lexer": "ipython3",
   "version": "3.8.5"
  }
 },
 "nbformat": 4,
 "nbformat_minor": 1
}
