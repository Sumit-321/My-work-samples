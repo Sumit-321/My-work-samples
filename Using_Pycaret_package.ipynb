{
  "nbformat": 4,
  "nbformat_minor": 0,
  "metadata": {
    "kernelspec": {
      "display_name": "Python 3",
      "language": "python",
      "name": "python3"
    },
    "language_info": {
      "codemirror_mode": {
        "name": "ipython",
        "version": 3
      },
      "file_extension": ".py",
      "mimetype": "text/x-python",
      "name": "python",
      "nbconvert_exporter": "python",
      "pygments_lexer": "ipython3",
      "version": "3.8.5"
    },
    "colab": {
      "name": "Using_Pycaret_package.ipynb",
      "provenance": [],
      "collapsed_sections": [],
      "include_colab_link": true
    },
    "widgets": {
      "application/vnd.jupyter.widget-state+json": {
        "f508cadc8b8a4e61be5e139054367aac": {
          "model_module": "@jupyter-widgets/controls",
          "model_name": "IntProgressModel",
          "model_module_version": "1.5.0",
          "state": {
            "_view_name": "ProgressView",
            "style": "IPY_MODEL_1211423081be44f6ae4c782571aa658e",
            "_dom_classes": [],
            "description": "Processing: ",
            "_model_name": "IntProgressModel",
            "bar_style": "",
            "max": 3,
            "_view_module": "@jupyter-widgets/controls",
            "_model_module_version": "1.5.0",
            "value": 3,
            "_view_count": null,
            "_view_module_version": "1.5.0",
            "orientation": "horizontal",
            "min": 0,
            "description_tooltip": null,
            "_model_module": "@jupyter-widgets/controls",
            "layout": "IPY_MODEL_91b45ac7b86f4709a074c872d7fd2e87"
          }
        },
        "1211423081be44f6ae4c782571aa658e": {
          "model_module": "@jupyter-widgets/controls",
          "model_name": "ProgressStyleModel",
          "model_module_version": "1.5.0",
          "state": {
            "_view_name": "StyleView",
            "_model_name": "ProgressStyleModel",
            "description_width": "",
            "_view_module": "@jupyter-widgets/base",
            "_model_module_version": "1.5.0",
            "_view_count": null,
            "_view_module_version": "1.2.0",
            "bar_color": null,
            "_model_module": "@jupyter-widgets/controls"
          }
        },
        "91b45ac7b86f4709a074c872d7fd2e87": {
          "model_module": "@jupyter-widgets/base",
          "model_name": "LayoutModel",
          "model_module_version": "1.2.0",
          "state": {
            "_view_name": "LayoutView",
            "grid_template_rows": null,
            "right": null,
            "justify_content": null,
            "_view_module": "@jupyter-widgets/base",
            "overflow": null,
            "_model_module_version": "1.2.0",
            "_view_count": null,
            "flex_flow": null,
            "width": null,
            "min_width": null,
            "border": null,
            "align_items": null,
            "bottom": null,
            "_model_module": "@jupyter-widgets/base",
            "top": null,
            "grid_column": null,
            "overflow_y": null,
            "overflow_x": null,
            "grid_auto_flow": null,
            "grid_area": null,
            "grid_template_columns": null,
            "flex": null,
            "_model_name": "LayoutModel",
            "justify_items": null,
            "grid_row": null,
            "max_height": null,
            "align_content": null,
            "visibility": null,
            "align_self": null,
            "height": null,
            "min_height": null,
            "padding": null,
            "grid_auto_rows": null,
            "grid_gap": null,
            "max_width": null,
            "order": null,
            "_view_module_version": "1.2.0",
            "grid_template_areas": null,
            "object_position": null,
            "object_fit": null,
            "grid_auto_columns": null,
            "margin": null,
            "display": null,
            "left": null
          }
        },
        "f36cef300a944e8a8ba0799ed7b40ee1": {
          "model_module": "@jupyter-widgets/controls",
          "model_name": "TextModel",
          "model_module_version": "1.5.0",
          "state": {
            "_view_name": "TextView",
            "style": "IPY_MODEL_5b90efa21169452eae4533b1c0957835",
            "_dom_classes": [],
            "description": "",
            "_model_name": "TextModel",
            "placeholder": "​",
            "_view_module": "@jupyter-widgets/controls",
            "_model_module_version": "1.5.0",
            "value": "Following data types have been inferred automatically, if they are correct press enter to continue or type 'quit' otherwise.",
            "_view_count": null,
            "disabled": false,
            "_view_module_version": "1.5.0",
            "continuous_update": true,
            "description_tooltip": null,
            "_model_module": "@jupyter-widgets/controls",
            "layout": "IPY_MODEL_58f000f8a3f74db2a77bfef38b022d60"
          }
        },
        "5b90efa21169452eae4533b1c0957835": {
          "model_module": "@jupyter-widgets/controls",
          "model_name": "DescriptionStyleModel",
          "model_module_version": "1.5.0",
          "state": {
            "_view_name": "StyleView",
            "_model_name": "DescriptionStyleModel",
            "description_width": "",
            "_view_module": "@jupyter-widgets/base",
            "_model_module_version": "1.5.0",
            "_view_count": null,
            "_view_module_version": "1.2.0",
            "_model_module": "@jupyter-widgets/controls"
          }
        },
        "58f000f8a3f74db2a77bfef38b022d60": {
          "model_module": "@jupyter-widgets/base",
          "model_name": "LayoutModel",
          "model_module_version": "1.2.0",
          "state": {
            "_view_name": "LayoutView",
            "grid_template_rows": null,
            "right": null,
            "justify_content": null,
            "_view_module": "@jupyter-widgets/base",
            "overflow": null,
            "_model_module_version": "1.2.0",
            "_view_count": null,
            "flex_flow": null,
            "width": "100%",
            "min_width": null,
            "border": null,
            "align_items": null,
            "bottom": null,
            "_model_module": "@jupyter-widgets/base",
            "top": null,
            "grid_column": null,
            "overflow_y": null,
            "overflow_x": null,
            "grid_auto_flow": null,
            "grid_area": null,
            "grid_template_columns": null,
            "flex": null,
            "_model_name": "LayoutModel",
            "justify_items": null,
            "grid_row": null,
            "max_height": null,
            "align_content": null,
            "visibility": null,
            "align_self": null,
            "height": null,
            "min_height": null,
            "padding": null,
            "grid_auto_rows": null,
            "grid_gap": null,
            "max_width": null,
            "order": null,
            "_view_module_version": "1.2.0",
            "grid_template_areas": null,
            "object_position": null,
            "object_fit": null,
            "grid_auto_columns": null,
            "margin": null,
            "display": null,
            "left": null
          }
        },
        "4a490e05fc3f4c60b785245e76e6cc7c": {
          "model_module": "@jupyter-widgets/controls",
          "model_name": "IntProgressModel",
          "model_module_version": "1.5.0",
          "state": {
            "_view_name": "ProgressView",
            "style": "IPY_MODEL_7e7b95b1930f4d588402361c318e1504",
            "_dom_classes": [],
            "description": "Processing: ",
            "_model_name": "IntProgressModel",
            "bar_style": "",
            "max": 89,
            "_view_module": "@jupyter-widgets/controls",
            "_model_module_version": "1.5.0",
            "value": 89,
            "_view_count": null,
            "_view_module_version": "1.5.0",
            "orientation": "horizontal",
            "min": 0,
            "description_tooltip": null,
            "_model_module": "@jupyter-widgets/controls",
            "layout": "IPY_MODEL_5038556968674d51994090f84786b0a6"
          }
        },
        "7e7b95b1930f4d588402361c318e1504": {
          "model_module": "@jupyter-widgets/controls",
          "model_name": "ProgressStyleModel",
          "model_module_version": "1.5.0",
          "state": {
            "_view_name": "StyleView",
            "_model_name": "ProgressStyleModel",
            "description_width": "",
            "_view_module": "@jupyter-widgets/base",
            "_model_module_version": "1.5.0",
            "_view_count": null,
            "_view_module_version": "1.2.0",
            "bar_color": null,
            "_model_module": "@jupyter-widgets/controls"
          }
        },
        "5038556968674d51994090f84786b0a6": {
          "model_module": "@jupyter-widgets/base",
          "model_name": "LayoutModel",
          "model_module_version": "1.2.0",
          "state": {
            "_view_name": "LayoutView",
            "grid_template_rows": null,
            "right": null,
            "justify_content": null,
            "_view_module": "@jupyter-widgets/base",
            "overflow": null,
            "_model_module_version": "1.2.0",
            "_view_count": null,
            "flex_flow": null,
            "width": null,
            "min_width": null,
            "border": null,
            "align_items": null,
            "bottom": null,
            "_model_module": "@jupyter-widgets/base",
            "top": null,
            "grid_column": null,
            "overflow_y": null,
            "overflow_x": null,
            "grid_auto_flow": null,
            "grid_area": null,
            "grid_template_columns": null,
            "flex": null,
            "_model_name": "LayoutModel",
            "justify_items": null,
            "grid_row": null,
            "max_height": null,
            "align_content": null,
            "visibility": null,
            "align_self": null,
            "height": null,
            "min_height": null,
            "padding": null,
            "grid_auto_rows": null,
            "grid_gap": null,
            "max_width": null,
            "order": null,
            "_view_module_version": "1.2.0",
            "grid_template_areas": null,
            "object_position": null,
            "object_fit": null,
            "grid_auto_columns": null,
            "margin": null,
            "display": null,
            "left": null
          }
        },
        "8e84c0d97bb44497b4a752143c6de204": {
          "model_module": "@jupyter-widgets/controls",
          "model_name": "IntProgressModel",
          "model_module_version": "1.5.0",
          "state": {
            "_view_name": "ProgressView",
            "style": "IPY_MODEL_671732a59e5b4634af9292d8b832f3cc",
            "_dom_classes": [],
            "description": "Processing: ",
            "_model_name": "IntProgressModel",
            "bar_style": "",
            "max": 4,
            "_view_module": "@jupyter-widgets/controls",
            "_model_module_version": "1.5.0",
            "value": 4,
            "_view_count": null,
            "_view_module_version": "1.5.0",
            "orientation": "horizontal",
            "min": 0,
            "description_tooltip": null,
            "_model_module": "@jupyter-widgets/controls",
            "layout": "IPY_MODEL_5307e35e24e342a1bd70a667a096cdec"
          }
        },
        "671732a59e5b4634af9292d8b832f3cc": {
          "model_module": "@jupyter-widgets/controls",
          "model_name": "ProgressStyleModel",
          "model_module_version": "1.5.0",
          "state": {
            "_view_name": "StyleView",
            "_model_name": "ProgressStyleModel",
            "description_width": "",
            "_view_module": "@jupyter-widgets/base",
            "_model_module_version": "1.5.0",
            "_view_count": null,
            "_view_module_version": "1.2.0",
            "bar_color": null,
            "_model_module": "@jupyter-widgets/controls"
          }
        },
        "5307e35e24e342a1bd70a667a096cdec": {
          "model_module": "@jupyter-widgets/base",
          "model_name": "LayoutModel",
          "model_module_version": "1.2.0",
          "state": {
            "_view_name": "LayoutView",
            "grid_template_rows": null,
            "right": null,
            "justify_content": null,
            "_view_module": "@jupyter-widgets/base",
            "overflow": null,
            "_model_module_version": "1.2.0",
            "_view_count": null,
            "flex_flow": null,
            "width": null,
            "min_width": null,
            "border": null,
            "align_items": null,
            "bottom": null,
            "_model_module": "@jupyter-widgets/base",
            "top": null,
            "grid_column": null,
            "overflow_y": null,
            "overflow_x": null,
            "grid_auto_flow": null,
            "grid_area": null,
            "grid_template_columns": null,
            "flex": null,
            "_model_name": "LayoutModel",
            "justify_items": null,
            "grid_row": null,
            "max_height": null,
            "align_content": null,
            "visibility": null,
            "align_self": null,
            "height": null,
            "min_height": null,
            "padding": null,
            "grid_auto_rows": null,
            "grid_gap": null,
            "max_width": null,
            "order": null,
            "_view_module_version": "1.2.0",
            "grid_template_areas": null,
            "object_position": null,
            "object_fit": null,
            "grid_auto_columns": null,
            "margin": null,
            "display": null,
            "left": null
          }
        },
        "fddb4ebb5b6b4b91b1a4902ddd30450a": {
          "model_module": "@jupyter-widgets/controls",
          "model_name": "IntProgressModel",
          "model_module_version": "1.5.0",
          "state": {
            "_view_name": "ProgressView",
            "style": "IPY_MODEL_8129c143a0ba4e5b9e218ab59b73086a",
            "_dom_classes": [],
            "description": "Processing: ",
            "_model_name": "IntProgressModel",
            "bar_style": "",
            "max": 7,
            "_view_module": "@jupyter-widgets/controls",
            "_model_module_version": "1.5.0",
            "value": 7,
            "_view_count": null,
            "_view_module_version": "1.5.0",
            "orientation": "horizontal",
            "min": 0,
            "description_tooltip": null,
            "_model_module": "@jupyter-widgets/controls",
            "layout": "IPY_MODEL_7bd4025172b64794a047bb7ab3bc40bd"
          }
        },
        "8129c143a0ba4e5b9e218ab59b73086a": {
          "model_module": "@jupyter-widgets/controls",
          "model_name": "ProgressStyleModel",
          "model_module_version": "1.5.0",
          "state": {
            "_view_name": "StyleView",
            "_model_name": "ProgressStyleModel",
            "description_width": "",
            "_view_module": "@jupyter-widgets/base",
            "_model_module_version": "1.5.0",
            "_view_count": null,
            "_view_module_version": "1.2.0",
            "bar_color": null,
            "_model_module": "@jupyter-widgets/controls"
          }
        },
        "7bd4025172b64794a047bb7ab3bc40bd": {
          "model_module": "@jupyter-widgets/base",
          "model_name": "LayoutModel",
          "model_module_version": "1.2.0",
          "state": {
            "_view_name": "LayoutView",
            "grid_template_rows": null,
            "right": null,
            "justify_content": null,
            "_view_module": "@jupyter-widgets/base",
            "overflow": null,
            "_model_module_version": "1.2.0",
            "_view_count": null,
            "flex_flow": null,
            "width": null,
            "min_width": null,
            "border": null,
            "align_items": null,
            "bottom": null,
            "_model_module": "@jupyter-widgets/base",
            "top": null,
            "grid_column": null,
            "overflow_y": null,
            "overflow_x": null,
            "grid_auto_flow": null,
            "grid_area": null,
            "grid_template_columns": null,
            "flex": null,
            "_model_name": "LayoutModel",
            "justify_items": null,
            "grid_row": null,
            "max_height": null,
            "align_content": null,
            "visibility": null,
            "align_self": null,
            "height": null,
            "min_height": null,
            "padding": null,
            "grid_auto_rows": null,
            "grid_gap": null,
            "max_width": null,
            "order": null,
            "_view_module_version": "1.2.0",
            "grid_template_areas": null,
            "object_position": null,
            "object_fit": null,
            "grid_auto_columns": null,
            "margin": null,
            "display": null,
            "left": null
          }
        },
        "1bf1950485704927ad7baf7655da1dd3": {
          "model_module": "@jupyter-widgets/controls",
          "model_name": "IntProgressModel",
          "model_module_version": "1.5.0",
          "state": {
            "_view_name": "ProgressView",
            "style": "IPY_MODEL_4dcc97c98a6c48c3b20adc1587dc8d32",
            "_dom_classes": [],
            "description": "Processing: ",
            "_model_name": "IntProgressModel",
            "bar_style": "",
            "max": 5,
            "_view_module": "@jupyter-widgets/controls",
            "_model_module_version": "1.5.0",
            "value": 5,
            "_view_count": null,
            "_view_module_version": "1.5.0",
            "orientation": "horizontal",
            "min": 0,
            "description_tooltip": null,
            "_model_module": "@jupyter-widgets/controls",
            "layout": "IPY_MODEL_50004b9a871243729fba49d4969890dc"
          }
        },
        "4dcc97c98a6c48c3b20adc1587dc8d32": {
          "model_module": "@jupyter-widgets/controls",
          "model_name": "ProgressStyleModel",
          "model_module_version": "1.5.0",
          "state": {
            "_view_name": "StyleView",
            "_model_name": "ProgressStyleModel",
            "description_width": "",
            "_view_module": "@jupyter-widgets/base",
            "_model_module_version": "1.5.0",
            "_view_count": null,
            "_view_module_version": "1.2.0",
            "bar_color": null,
            "_model_module": "@jupyter-widgets/controls"
          }
        },
        "50004b9a871243729fba49d4969890dc": {
          "model_module": "@jupyter-widgets/base",
          "model_name": "LayoutModel",
          "model_module_version": "1.2.0",
          "state": {
            "_view_name": "LayoutView",
            "grid_template_rows": null,
            "right": null,
            "justify_content": null,
            "_view_module": "@jupyter-widgets/base",
            "overflow": null,
            "_model_module_version": "1.2.0",
            "_view_count": null,
            "flex_flow": null,
            "width": null,
            "min_width": null,
            "border": null,
            "align_items": null,
            "bottom": null,
            "_model_module": "@jupyter-widgets/base",
            "top": null,
            "grid_column": null,
            "overflow_y": null,
            "overflow_x": null,
            "grid_auto_flow": null,
            "grid_area": null,
            "grid_template_columns": null,
            "flex": null,
            "_model_name": "LayoutModel",
            "justify_items": null,
            "grid_row": null,
            "max_height": null,
            "align_content": null,
            "visibility": null,
            "align_self": null,
            "height": null,
            "min_height": null,
            "padding": null,
            "grid_auto_rows": null,
            "grid_gap": null,
            "max_width": null,
            "order": null,
            "_view_module_version": "1.2.0",
            "grid_template_areas": null,
            "object_position": null,
            "object_fit": null,
            "grid_auto_columns": null,
            "margin": null,
            "display": null,
            "left": null
          }
        },
        "0dd6af985bec444fbf602e7d636f1cee": {
          "model_module": "@jupyter-widgets/controls",
          "model_name": "VBoxModel",
          "model_module_version": "1.5.0",
          "state": {
            "_view_name": "VBoxView",
            "_dom_classes": [
              "widget-interact"
            ],
            "_model_name": "VBoxModel",
            "_view_module": "@jupyter-widgets/controls",
            "_model_module_version": "1.5.0",
            "_view_count": null,
            "_view_module_version": "1.5.0",
            "box_style": "",
            "layout": "IPY_MODEL_16b1b14f79dc478c95f4d29a6a247338",
            "_model_module": "@jupyter-widgets/controls",
            "children": [
              "IPY_MODEL_e9fa6eef63784f2cb27fc019cdf129d1",
              "IPY_MODEL_83066162604d42cd85da64761a832996"
            ]
          }
        },
        "16b1b14f79dc478c95f4d29a6a247338": {
          "model_module": "@jupyter-widgets/base",
          "model_name": "LayoutModel",
          "model_module_version": "1.2.0",
          "state": {
            "_view_name": "LayoutView",
            "grid_template_rows": null,
            "right": null,
            "justify_content": null,
            "_view_module": "@jupyter-widgets/base",
            "overflow": null,
            "_model_module_version": "1.2.0",
            "_view_count": null,
            "flex_flow": null,
            "width": null,
            "min_width": null,
            "border": null,
            "align_items": null,
            "bottom": null,
            "_model_module": "@jupyter-widgets/base",
            "top": null,
            "grid_column": null,
            "overflow_y": null,
            "overflow_x": null,
            "grid_auto_flow": null,
            "grid_area": null,
            "grid_template_columns": null,
            "flex": null,
            "_model_name": "LayoutModel",
            "justify_items": null,
            "grid_row": null,
            "max_height": null,
            "align_content": null,
            "visibility": null,
            "align_self": null,
            "height": null,
            "min_height": null,
            "padding": null,
            "grid_auto_rows": null,
            "grid_gap": null,
            "max_width": null,
            "order": null,
            "_view_module_version": "1.2.0",
            "grid_template_areas": null,
            "object_position": null,
            "object_fit": null,
            "grid_auto_columns": null,
            "margin": null,
            "display": null,
            "left": null
          }
        },
        "e9fa6eef63784f2cb27fc019cdf129d1": {
          "model_module": "@jupyter-widgets/controls",
          "model_name": "ToggleButtonsModel",
          "model_module_version": "1.5.0",
          "state": {
            "_options_labels": [
              "Hyperparameters",
              "Residuals",
              "Prediction Error",
              "Cooks Distance",
              "Feature Selection",
              "Learning Curve",
              "Manifold Learning",
              "Validation Curve",
              "Feature Importance",
              "Feature Importance (All)",
              "Decision Tree",
              "Interactive Residuals"
            ],
            "_view_name": "ToggleButtonsView",
            "style": "IPY_MODEL_bc79b9987d2745e1afca67c526aefe7b",
            "_dom_classes": [],
            "description": "Plot Type:",
            "_model_name": "ToggleButtonsModel",
            "tooltips": [],
            "index": 0,
            "button_style": "",
            "_view_module": "@jupyter-widgets/controls",
            "_model_module_version": "1.5.0",
            "_view_count": null,
            "disabled": false,
            "_view_module_version": "1.5.0",
            "icons": [
              ""
            ],
            "description_tooltip": null,
            "_model_module": "@jupyter-widgets/controls",
            "layout": "IPY_MODEL_11bf060bbbfe464aa4adce96a41f6a84"
          }
        },
        "83066162604d42cd85da64761a832996": {
          "model_module": "@jupyter-widgets/output",
          "model_name": "OutputModel",
          "model_module_version": "1.0.0",
          "state": {
            "_view_name": "OutputView",
            "msg_id": "",
            "_dom_classes": [],
            "_model_name": "OutputModel",
            "outputs": [
              {
                "output_type": "display_data",
                "metadata": {
                  "tags": []
                },
                "text/html": "<div>\n<style scoped>\n    .dataframe tbody tr th:only-of-type {\n        vertical-align: middle;\n    }\n\n    .dataframe tbody tr th {\n        vertical-align: top;\n    }\n\n    .dataframe thead th {\n        text-align: right;\n    }\n</style>\n<table border=\"1\" class=\"dataframe\">\n  <thead>\n    <tr style=\"text-align: right;\">\n      <th></th>\n      <th>Parameters</th>\n    </tr>\n  </thead>\n  <tbody>\n    <tr>\n      <th>fit_intercept</th>\n      <td>True</td>\n    </tr>\n    <tr>\n      <th>n_nonzero_coefs</th>\n      <td>1</td>\n    </tr>\n    <tr>\n      <th>normalize</th>\n      <td>True</td>\n    </tr>\n    <tr>\n      <th>precompute</th>\n      <td>auto</td>\n    </tr>\n    <tr>\n      <th>tol</th>\n      <td>None</td>\n    </tr>\n  </tbody>\n</table>\n</div>",
                "text/plain": "                Parameters\nfit_intercept         True\nn_nonzero_coefs          1\nnormalize             True\nprecompute            auto\ntol                   None"
              }
            ],
            "_view_module": "@jupyter-widgets/output",
            "_model_module_version": "1.0.0",
            "_view_count": null,
            "_view_module_version": "1.0.0",
            "layout": "IPY_MODEL_208d7697f25045ee9b07646aed02779d",
            "_model_module": "@jupyter-widgets/output"
          }
        },
        "bc79b9987d2745e1afca67c526aefe7b": {
          "model_module": "@jupyter-widgets/controls",
          "model_name": "ToggleButtonsStyleModel",
          "model_module_version": "1.5.0",
          "state": {
            "_view_name": "StyleView",
            "button_width": "",
            "_model_name": "ToggleButtonsStyleModel",
            "description_width": "",
            "_view_module": "@jupyter-widgets/base",
            "_model_module_version": "1.5.0",
            "_view_count": null,
            "font_weight": "",
            "_view_module_version": "1.2.0",
            "_model_module": "@jupyter-widgets/controls"
          }
        },
        "11bf060bbbfe464aa4adce96a41f6a84": {
          "model_module": "@jupyter-widgets/base",
          "model_name": "LayoutModel",
          "model_module_version": "1.2.0",
          "state": {
            "_view_name": "LayoutView",
            "grid_template_rows": null,
            "right": null,
            "justify_content": null,
            "_view_module": "@jupyter-widgets/base",
            "overflow": null,
            "_model_module_version": "1.2.0",
            "_view_count": null,
            "flex_flow": null,
            "width": null,
            "min_width": null,
            "border": null,
            "align_items": null,
            "bottom": null,
            "_model_module": "@jupyter-widgets/base",
            "top": null,
            "grid_column": null,
            "overflow_y": null,
            "overflow_x": null,
            "grid_auto_flow": null,
            "grid_area": null,
            "grid_template_columns": null,
            "flex": null,
            "_model_name": "LayoutModel",
            "justify_items": null,
            "grid_row": null,
            "max_height": null,
            "align_content": null,
            "visibility": null,
            "align_self": null,
            "height": null,
            "min_height": null,
            "padding": null,
            "grid_auto_rows": null,
            "grid_gap": null,
            "max_width": null,
            "order": null,
            "_view_module_version": "1.2.0",
            "grid_template_areas": null,
            "object_position": null,
            "object_fit": null,
            "grid_auto_columns": null,
            "margin": null,
            "display": null,
            "left": null
          }
        },
        "208d7697f25045ee9b07646aed02779d": {
          "model_module": "@jupyter-widgets/base",
          "model_name": "LayoutModel",
          "model_module_version": "1.2.0",
          "state": {
            "_view_name": "LayoutView",
            "grid_template_rows": null,
            "right": null,
            "justify_content": null,
            "_view_module": "@jupyter-widgets/base",
            "overflow": null,
            "_model_module_version": "1.2.0",
            "_view_count": null,
            "flex_flow": null,
            "width": null,
            "min_width": null,
            "border": null,
            "align_items": null,
            "bottom": null,
            "_model_module": "@jupyter-widgets/base",
            "top": null,
            "grid_column": null,
            "overflow_y": null,
            "overflow_x": null,
            "grid_auto_flow": null,
            "grid_area": null,
            "grid_template_columns": null,
            "flex": null,
            "_model_name": "LayoutModel",
            "justify_items": null,
            "grid_row": null,
            "max_height": null,
            "align_content": null,
            "visibility": null,
            "align_self": null,
            "height": null,
            "min_height": null,
            "padding": null,
            "grid_auto_rows": null,
            "grid_gap": null,
            "max_width": null,
            "order": null,
            "_view_module_version": "1.2.0",
            "grid_template_areas": null,
            "object_position": null,
            "object_fit": null,
            "grid_auto_columns": null,
            "margin": null,
            "display": null,
            "left": null
          }
        },
        "30857c11f75a4a2aa910106d1900bd54": {
          "model_module": "@jupyter-widgets/controls",
          "model_name": "IntProgressModel",
          "model_module_version": "1.5.0",
          "state": {
            "_view_name": "ProgressView",
            "style": "IPY_MODEL_d193197de2a649409700261e61951a7f",
            "_dom_classes": [],
            "description": "Processing: ",
            "_model_name": "IntProgressModel",
            "bar_style": "",
            "max": 5,
            "_view_module": "@jupyter-widgets/controls",
            "_model_module_version": "1.5.0",
            "value": 3,
            "_view_count": null,
            "_view_module_version": "1.5.0",
            "orientation": "horizontal",
            "min": 0,
            "description_tooltip": null,
            "_model_module": "@jupyter-widgets/controls",
            "layout": "IPY_MODEL_11615d489e834d788a2662f7ab496376"
          }
        },
        "d193197de2a649409700261e61951a7f": {
          "model_module": "@jupyter-widgets/controls",
          "model_name": "ProgressStyleModel",
          "model_module_version": "1.5.0",
          "state": {
            "_view_name": "StyleView",
            "_model_name": "ProgressStyleModel",
            "description_width": "",
            "_view_module": "@jupyter-widgets/base",
            "_model_module_version": "1.5.0",
            "_view_count": null,
            "_view_module_version": "1.2.0",
            "bar_color": null,
            "_model_module": "@jupyter-widgets/controls"
          }
        },
        "11615d489e834d788a2662f7ab496376": {
          "model_module": "@jupyter-widgets/base",
          "model_name": "LayoutModel",
          "model_module_version": "1.2.0",
          "state": {
            "_view_name": "LayoutView",
            "grid_template_rows": null,
            "right": null,
            "justify_content": null,
            "_view_module": "@jupyter-widgets/base",
            "overflow": null,
            "_model_module_version": "1.2.0",
            "_view_count": null,
            "flex_flow": null,
            "width": null,
            "min_width": null,
            "border": null,
            "align_items": null,
            "bottom": null,
            "_model_module": "@jupyter-widgets/base",
            "top": null,
            "grid_column": null,
            "overflow_y": null,
            "overflow_x": null,
            "grid_auto_flow": null,
            "grid_area": null,
            "grid_template_columns": null,
            "flex": null,
            "_model_name": "LayoutModel",
            "justify_items": null,
            "grid_row": null,
            "max_height": null,
            "align_content": null,
            "visibility": null,
            "align_self": null,
            "height": null,
            "min_height": null,
            "padding": null,
            "grid_auto_rows": null,
            "grid_gap": null,
            "max_width": null,
            "order": null,
            "_view_module_version": "1.2.0",
            "grid_template_areas": null,
            "object_position": null,
            "object_fit": null,
            "grid_auto_columns": null,
            "margin": null,
            "display": null,
            "left": null
          }
        }
      }
    }
  },
  "cells": [
    {
      "cell_type": "markdown",
      "metadata": {
        "id": "view-in-github",
        "colab_type": "text"
      },
      "source": [
        "<a href=\"https://colab.research.google.com/github/Sumit-321/My-work-samples/blob/main/Using_Pycaret_package.ipynb\" target=\"_parent\"><img src=\"https://colab.research.google.com/assets/colab-badge.svg\" alt=\"Open In Colab\"/></a>"
      ]
    },
    {
      "cell_type": "code",
      "metadata": {
        "colab": {
          "base_uri": "https://localhost:8080/"
        },
        "id": "5Rg0l1Yyj625",
        "outputId": "d4fa7b37-fbe6-43ae-c29f-ea0d53efd515"
      },
      "source": [
        "# Mounting with google drive\n",
        "from google.colab import drive\n",
        "drive.mount('/content/gdrive')"
      ],
      "execution_count": 1,
      "outputs": [
        {
          "output_type": "stream",
          "text": [
            "Drive already mounted at /content/gdrive; to attempt to forcibly remount, call drive.mount(\"/content/gdrive\", force_remount=True).\n"
          ],
          "name": "stdout"
        }
      ]
    },
    {
      "cell_type": "code",
      "metadata": {
        "id": "hE7LWdVQdxsX",
        "colab": {
          "base_uri": "https://localhost:8080/"
        },
        "outputId": "9054af48-9060-4985-9533-41087f5bee7c"
      },
      "source": [
        "# Importing required libraries\n",
        "!pip install pycaret\n",
        "!pip install shap\n",
        "import pandas\n",
        "import numpy\n",
        "import matplotlib.pyplot as plt\n",
        "import seaborn\n",
        "from sklearn.model_selection import train_test_split\n",
        "from sklearn.linear_model import LinearRegression\n",
        "from sklearn.tree import DecisionTreeRegressor\n",
        "from sklearn.ensemble import RandomForestRegressor\n",
        "from sklearn.metrics import r2_score, mean_absolute_error, mean_squared_error\n",
        "from pycaret.regression import *\n",
        "from termcolor import colored"
      ],
      "execution_count": 2,
      "outputs": [
        {
          "output_type": "stream",
          "text": [
            "Requirement already satisfied: pycaret in /usr/local/lib/python3.7/dist-packages (2.3.3)\n",
            "Requirement already satisfied: scikit-learn==0.23.2 in /usr/local/lib/python3.7/dist-packages (from pycaret) (0.23.2)\n",
            "Requirement already satisfied: mlxtend>=0.17.0 in /usr/local/lib/python3.7/dist-packages (from pycaret) (0.18.0)\n",
            "Requirement already satisfied: numpy==1.19.5 in /usr/local/lib/python3.7/dist-packages (from pycaret) (1.19.5)\n",
            "Requirement already satisfied: kmodes>=0.10.1 in /usr/local/lib/python3.7/dist-packages (from pycaret) (0.11.0)\n",
            "Requirement already satisfied: pyLDAvis in /usr/local/lib/python3.7/dist-packages (from pycaret) (3.2.2)\n",
            "Requirement already satisfied: joblib in /usr/local/lib/python3.7/dist-packages (from pycaret) (1.0.1)\n",
            "Requirement already satisfied: gensim<4.0.0 in /usr/local/lib/python3.7/dist-packages (from pycaret) (3.6.0)\n",
            "Requirement already satisfied: matplotlib in /usr/local/lib/python3.7/dist-packages (from pycaret) (3.2.2)\n",
            "Requirement already satisfied: pandas-profiling>=2.8.0 in /usr/local/lib/python3.7/dist-packages (from pycaret) (3.0.0)\n",
            "Requirement already satisfied: cufflinks>=0.17.0 in /usr/local/lib/python3.7/dist-packages (from pycaret) (0.17.3)\n",
            "Requirement already satisfied: nltk in /usr/local/lib/python3.7/dist-packages (from pycaret) (3.2.5)\n",
            "Requirement already satisfied: IPython in /usr/local/lib/python3.7/dist-packages (from pycaret) (5.5.0)\n",
            "Requirement already satisfied: scikit-plot in /usr/local/lib/python3.7/dist-packages (from pycaret) (0.3.7)\n",
            "Requirement already satisfied: imbalanced-learn==0.7.0 in /usr/local/lib/python3.7/dist-packages (from pycaret) (0.7.0)\n",
            "Requirement already satisfied: wordcloud in /usr/local/lib/python3.7/dist-packages (from pycaret) (1.5.0)\n",
            "Requirement already satisfied: pandas in /usr/local/lib/python3.7/dist-packages (from pycaret) (1.1.5)\n",
            "Requirement already satisfied: lightgbm>=2.3.1 in /usr/local/lib/python3.7/dist-packages (from pycaret) (3.2.1)\n",
            "Requirement already satisfied: spacy<2.4.0 in /usr/local/lib/python3.7/dist-packages (from pycaret) (2.2.4)\n",
            "Requirement already satisfied: scipy<=1.5.4 in /usr/local/lib/python3.7/dist-packages (from pycaret) (1.5.4)\n",
            "Requirement already satisfied: yellowbrick>=1.0.1 in /usr/local/lib/python3.7/dist-packages (from pycaret) (1.3.post1)\n",
            "Requirement already satisfied: mlflow in /usr/local/lib/python3.7/dist-packages (from pycaret) (1.19.0)\n",
            "Requirement already satisfied: ipywidgets in /usr/local/lib/python3.7/dist-packages (from pycaret) (7.6.3)\n",
            "Requirement already satisfied: pyod in /usr/local/lib/python3.7/dist-packages (from pycaret) (0.9.0)\n",
            "Requirement already satisfied: umap-learn in /usr/local/lib/python3.7/dist-packages (from pycaret) (0.5.1)\n",
            "Requirement already satisfied: plotly>=4.4.1 in /usr/local/lib/python3.7/dist-packages (from pycaret) (4.4.1)\n",
            "Requirement already satisfied: textblob in /usr/local/lib/python3.7/dist-packages (from pycaret) (0.15.3)\n",
            "Requirement already satisfied: seaborn in /usr/local/lib/python3.7/dist-packages (from pycaret) (0.11.1)\n",
            "Requirement already satisfied: Boruta in /usr/local/lib/python3.7/dist-packages (from pycaret) (0.3)\n",
            "Requirement already satisfied: threadpoolctl>=2.0.0 in /usr/local/lib/python3.7/dist-packages (from scikit-learn==0.23.2->pycaret) (2.2.0)\n",
            "Requirement already satisfied: colorlover>=0.2.1 in /usr/local/lib/python3.7/dist-packages (from cufflinks>=0.17.0->pycaret) (0.3.0)\n",
            "Requirement already satisfied: six>=1.9.0 in /usr/local/lib/python3.7/dist-packages (from cufflinks>=0.17.0->pycaret) (1.15.0)\n",
            "Requirement already satisfied: setuptools>=34.4.1 in /usr/local/lib/python3.7/dist-packages (from cufflinks>=0.17.0->pycaret) (57.2.0)\n",
            "Requirement already satisfied: smart-open>=1.2.1 in /usr/local/lib/python3.7/dist-packages (from gensim<4.0.0->pycaret) (5.1.0)\n",
            "Requirement already satisfied: prompt-toolkit<2.0.0,>=1.0.4 in /usr/local/lib/python3.7/dist-packages (from IPython->pycaret) (1.0.18)\n",
            "Requirement already satisfied: simplegeneric>0.8 in /usr/local/lib/python3.7/dist-packages (from IPython->pycaret) (0.8.1)\n",
            "Requirement already satisfied: pexpect in /usr/local/lib/python3.7/dist-packages (from IPython->pycaret) (4.8.0)\n",
            "Requirement already satisfied: traitlets>=4.2 in /usr/local/lib/python3.7/dist-packages (from IPython->pycaret) (5.0.5)\n",
            "Requirement already satisfied: pygments in /usr/local/lib/python3.7/dist-packages (from IPython->pycaret) (2.6.1)\n",
            "Requirement already satisfied: decorator in /usr/local/lib/python3.7/dist-packages (from IPython->pycaret) (4.4.2)\n",
            "Requirement already satisfied: pickleshare in /usr/local/lib/python3.7/dist-packages (from IPython->pycaret) (0.7.5)\n",
            "Requirement already satisfied: ipykernel>=4.5.1 in /usr/local/lib/python3.7/dist-packages (from ipywidgets->pycaret) (4.10.1)\n",
            "Requirement already satisfied: nbformat>=4.2.0 in /usr/local/lib/python3.7/dist-packages (from ipywidgets->pycaret) (5.1.3)\n",
            "Requirement already satisfied: widgetsnbextension~=3.5.0 in /usr/local/lib/python3.7/dist-packages (from ipywidgets->pycaret) (3.5.1)\n",
            "Requirement already satisfied: jupyterlab-widgets>=1.0.0 in /usr/local/lib/python3.7/dist-packages (from ipywidgets->pycaret) (1.0.0)\n",
            "Requirement already satisfied: jupyter-client in /usr/local/lib/python3.7/dist-packages (from ipykernel>=4.5.1->ipywidgets->pycaret) (5.3.5)\n",
            "Requirement already satisfied: tornado>=4.0 in /usr/local/lib/python3.7/dist-packages (from ipykernel>=4.5.1->ipywidgets->pycaret) (5.1.1)\n",
            "Requirement already satisfied: wheel in /usr/local/lib/python3.7/dist-packages (from lightgbm>=2.3.1->pycaret) (0.36.2)\n",
            "Requirement already satisfied: python-dateutil>=2.1 in /usr/local/lib/python3.7/dist-packages (from matplotlib->pycaret) (2.8.1)\n",
            "Requirement already satisfied: cycler>=0.10 in /usr/local/lib/python3.7/dist-packages (from matplotlib->pycaret) (0.10.0)\n",
            "Requirement already satisfied: pyparsing!=2.0.4,!=2.1.2,!=2.1.6,>=2.0.1 in /usr/local/lib/python3.7/dist-packages (from matplotlib->pycaret) (2.4.7)\n",
            "Requirement already satisfied: kiwisolver>=1.0.1 in /usr/local/lib/python3.7/dist-packages (from matplotlib->pycaret) (1.3.1)\n",
            "Requirement already satisfied: jupyter-core in /usr/local/lib/python3.7/dist-packages (from nbformat>=4.2.0->ipywidgets->pycaret) (4.7.1)\n",
            "Requirement already satisfied: jsonschema!=2.5.0,>=2.4 in /usr/local/lib/python3.7/dist-packages (from nbformat>=4.2.0->ipywidgets->pycaret) (2.6.0)\n",
            "Requirement already satisfied: ipython-genutils in /usr/local/lib/python3.7/dist-packages (from nbformat>=4.2.0->ipywidgets->pycaret) (0.2.0)\n",
            "Requirement already satisfied: pytz>=2017.2 in /usr/local/lib/python3.7/dist-packages (from pandas->pycaret) (2018.9)\n",
            "Requirement already satisfied: tqdm>=4.48.2 in /usr/local/lib/python3.7/dist-packages (from pandas-profiling>=2.8.0->pycaret) (4.62.0)\n",
            "Requirement already satisfied: PyYAML>=5.0.0 in /usr/local/lib/python3.7/dist-packages (from pandas-profiling>=2.8.0->pycaret) (5.4.1)\n",
            "Requirement already satisfied: visions[type_image_path]==0.7.1 in /usr/local/lib/python3.7/dist-packages (from pandas-profiling>=2.8.0->pycaret) (0.7.1)\n",
            "Requirement already satisfied: tangled-up-in-unicode==0.1.0 in /usr/local/lib/python3.7/dist-packages (from pandas-profiling>=2.8.0->pycaret) (0.1.0)\n",
            "Requirement already satisfied: requests>=2.24.0 in /usr/local/lib/python3.7/dist-packages (from pandas-profiling>=2.8.0->pycaret) (2.26.0)\n",
            "Requirement already satisfied: pydantic>=1.8.1 in /usr/local/lib/python3.7/dist-packages (from pandas-profiling>=2.8.0->pycaret) (1.8.2)\n",
            "Requirement already satisfied: missingno>=0.4.2 in /usr/local/lib/python3.7/dist-packages (from pandas-profiling>=2.8.0->pycaret) (0.5.0)\n",
            "Requirement already satisfied: htmlmin>=0.1.12 in /usr/local/lib/python3.7/dist-packages (from pandas-profiling>=2.8.0->pycaret) (0.1.12)\n",
            "Requirement already satisfied: jinja2>=2.11.1 in /usr/local/lib/python3.7/dist-packages (from pandas-profiling>=2.8.0->pycaret) (2.11.3)\n",
            "Requirement already satisfied: phik>=0.11.1 in /usr/local/lib/python3.7/dist-packages (from pandas-profiling>=2.8.0->pycaret) (0.12.0)\n",
            "Requirement already satisfied: attrs>=19.3.0 in /usr/local/lib/python3.7/dist-packages (from visions[type_image_path]==0.7.1->pandas-profiling>=2.8.0->pycaret) (21.2.0)\n",
            "Requirement already satisfied: bottleneck in /usr/local/lib/python3.7/dist-packages (from visions[type_image_path]==0.7.1->pandas-profiling>=2.8.0->pycaret) (1.3.2)\n",
            "Requirement already satisfied: networkx>=2.4 in /usr/local/lib/python3.7/dist-packages (from visions[type_image_path]==0.7.1->pandas-profiling>=2.8.0->pycaret) (2.5.1)\n",
            "Requirement already satisfied: multimethod==1.4 in /usr/local/lib/python3.7/dist-packages (from visions[type_image_path]==0.7.1->pandas-profiling>=2.8.0->pycaret) (1.4)\n",
            "Requirement already satisfied: Pillow in /usr/local/lib/python3.7/dist-packages (from visions[type_image_path]==0.7.1->pandas-profiling>=2.8.0->pycaret) (7.1.2)\n",
            "Requirement already satisfied: imagehash in /usr/local/lib/python3.7/dist-packages (from visions[type_image_path]==0.7.1->pandas-profiling>=2.8.0->pycaret) (4.2.1)\n",
            "Requirement already satisfied: MarkupSafe>=0.23 in /usr/local/lib/python3.7/dist-packages (from jinja2>=2.11.1->pandas-profiling>=2.8.0->pycaret) (2.0.1)\n",
            "Requirement already satisfied: retrying>=1.3.3 in /usr/local/lib/python3.7/dist-packages (from plotly>=4.4.1->pycaret) (1.3.3)\n",
            "Requirement already satisfied: wcwidth in /usr/local/lib/python3.7/dist-packages (from prompt-toolkit<2.0.0,>=1.0.4->IPython->pycaret) (0.2.5)\n",
            "Requirement already satisfied: typing-extensions>=3.7.4.3 in /usr/local/lib/python3.7/dist-packages (from pydantic>=1.8.1->pandas-profiling>=2.8.0->pycaret) (3.7.4.3)\n",
            "Requirement already satisfied: urllib3<1.27,>=1.21.1 in /usr/local/lib/python3.7/dist-packages (from requests>=2.24.0->pandas-profiling>=2.8.0->pycaret) (1.24.3)\n",
            "Requirement already satisfied: certifi>=2017.4.17 in /usr/local/lib/python3.7/dist-packages (from requests>=2.24.0->pandas-profiling>=2.8.0->pycaret) (2021.5.30)\n",
            "Requirement already satisfied: idna<4,>=2.5 in /usr/local/lib/python3.7/dist-packages (from requests>=2.24.0->pandas-profiling>=2.8.0->pycaret) (2.10)\n",
            "Requirement already satisfied: charset-normalizer~=2.0.0 in /usr/local/lib/python3.7/dist-packages (from requests>=2.24.0->pandas-profiling>=2.8.0->pycaret) (2.0.2)\n",
            "Requirement already satisfied: plac<1.2.0,>=0.9.6 in /usr/local/lib/python3.7/dist-packages (from spacy<2.4.0->pycaret) (1.1.3)\n",
            "Requirement already satisfied: preshed<3.1.0,>=3.0.2 in /usr/local/lib/python3.7/dist-packages (from spacy<2.4.0->pycaret) (3.0.5)\n",
            "Requirement already satisfied: thinc==7.4.0 in /usr/local/lib/python3.7/dist-packages (from spacy<2.4.0->pycaret) (7.4.0)\n",
            "Requirement already satisfied: srsly<1.1.0,>=1.0.2 in /usr/local/lib/python3.7/dist-packages (from spacy<2.4.0->pycaret) (1.0.5)\n",
            "Requirement already satisfied: wasabi<1.1.0,>=0.4.0 in /usr/local/lib/python3.7/dist-packages (from spacy<2.4.0->pycaret) (0.8.2)\n",
            "Requirement already satisfied: murmurhash<1.1.0,>=0.28.0 in /usr/local/lib/python3.7/dist-packages (from spacy<2.4.0->pycaret) (1.0.5)\n",
            "Requirement already satisfied: cymem<2.1.0,>=2.0.2 in /usr/local/lib/python3.7/dist-packages (from spacy<2.4.0->pycaret) (2.0.5)\n",
            "Requirement already satisfied: blis<0.5.0,>=0.4.0 in /usr/local/lib/python3.7/dist-packages (from spacy<2.4.0->pycaret) (0.4.1)\n",
            "Requirement already satisfied: catalogue<1.1.0,>=0.0.7 in /usr/local/lib/python3.7/dist-packages (from spacy<2.4.0->pycaret) (1.0.0)\n",
            "Requirement already satisfied: importlib-metadata>=0.20 in /usr/local/lib/python3.7/dist-packages (from catalogue<1.1.0,>=0.0.7->spacy<2.4.0->pycaret) (4.6.1)\n",
            "Requirement already satisfied: zipp>=0.5 in /usr/local/lib/python3.7/dist-packages (from importlib-metadata>=0.20->catalogue<1.1.0,>=0.0.7->spacy<2.4.0->pycaret) (3.5.0)\n",
            "Requirement already satisfied: notebook>=4.4.1 in /usr/local/lib/python3.7/dist-packages (from widgetsnbextension~=3.5.0->ipywidgets->pycaret) (5.3.1)\n",
            "Requirement already satisfied: terminado>=0.8.1 in /usr/local/lib/python3.7/dist-packages (from notebook>=4.4.1->widgetsnbextension~=3.5.0->ipywidgets->pycaret) (0.10.1)\n",
            "Requirement already satisfied: nbconvert in /usr/local/lib/python3.7/dist-packages (from notebook>=4.4.1->widgetsnbextension~=3.5.0->ipywidgets->pycaret) (5.6.1)\n",
            "Requirement already satisfied: Send2Trash in /usr/local/lib/python3.7/dist-packages (from notebook>=4.4.1->widgetsnbextension~=3.5.0->ipywidgets->pycaret) (1.7.1)\n",
            "Requirement already satisfied: pyzmq>=13 in /usr/local/lib/python3.7/dist-packages (from jupyter-client->ipykernel>=4.5.1->ipywidgets->pycaret) (22.1.0)\n",
            "Requirement already satisfied: ptyprocess in /usr/local/lib/python3.7/dist-packages (from terminado>=0.8.1->notebook>=4.4.1->widgetsnbextension~=3.5.0->ipywidgets->pycaret) (0.7.0)\n",
            "Requirement already satisfied: PyWavelets in /usr/local/lib/python3.7/dist-packages (from imagehash->visions[type_image_path]==0.7.1->pandas-profiling>=2.8.0->pycaret) (1.1.1)\n",
            "Requirement already satisfied: sqlalchemy in /usr/local/lib/python3.7/dist-packages (from mlflow->pycaret) (1.4.20)\n",
            "Requirement already satisfied: databricks-cli>=0.8.7 in /usr/local/lib/python3.7/dist-packages (from mlflow->pycaret) (0.15.0)\n",
            "Requirement already satisfied: docker>=4.0.0 in /usr/local/lib/python3.7/dist-packages (from mlflow->pycaret) (5.0.0)\n",
            "Requirement already satisfied: Flask in /usr/local/lib/python3.7/dist-packages (from mlflow->pycaret) (1.1.4)\n",
            "Requirement already satisfied: alembic<=1.4.1 in /usr/local/lib/python3.7/dist-packages (from mlflow->pycaret) (1.4.1)\n",
            "Requirement already satisfied: prometheus-flask-exporter in /usr/local/lib/python3.7/dist-packages (from mlflow->pycaret) (0.18.2)\n",
            "Requirement already satisfied: packaging in /usr/local/lib/python3.7/dist-packages (from mlflow->pycaret) (21.0)\n",
            "Requirement already satisfied: protobuf>=3.7.0 in /usr/local/lib/python3.7/dist-packages (from mlflow->pycaret) (3.17.3)\n",
            "Requirement already satisfied: sqlparse>=0.3.1 in /usr/local/lib/python3.7/dist-packages (from mlflow->pycaret) (0.4.1)\n",
            "Requirement already satisfied: entrypoints in /usr/local/lib/python3.7/dist-packages (from mlflow->pycaret) (0.3)\n",
            "Requirement already satisfied: cloudpickle in /usr/local/lib/python3.7/dist-packages (from mlflow->pycaret) (1.3.0)\n",
            "Requirement already satisfied: querystring-parser in /usr/local/lib/python3.7/dist-packages (from mlflow->pycaret) (1.2.4)\n",
            "Requirement already satisfied: click>=7.0 in /usr/local/lib/python3.7/dist-packages (from mlflow->pycaret) (7.1.2)\n",
            "Requirement already satisfied: gunicorn in /usr/local/lib/python3.7/dist-packages (from mlflow->pycaret) (20.1.0)\n",
            "Requirement already satisfied: gitpython>=2.1.0 in /usr/local/lib/python3.7/dist-packages (from mlflow->pycaret) (3.1.18)\n",
            "Requirement already satisfied: python-editor>=0.3 in /usr/local/lib/python3.7/dist-packages (from alembic<=1.4.1->mlflow->pycaret) (1.0.4)\n",
            "Requirement already satisfied: Mako in /usr/local/lib/python3.7/dist-packages (from alembic<=1.4.1->mlflow->pycaret) (1.1.4)\n",
            "Requirement already satisfied: tabulate>=0.7.7 in /usr/local/lib/python3.7/dist-packages (from databricks-cli>=0.8.7->mlflow->pycaret) (0.8.9)\n",
            "Requirement already satisfied: websocket-client>=0.32.0 in /usr/local/lib/python3.7/dist-packages (from docker>=4.0.0->mlflow->pycaret) (1.2.1)\n",
            "Requirement already satisfied: gitdb<5,>=4.0.1 in /usr/local/lib/python3.7/dist-packages (from gitpython>=2.1.0->mlflow->pycaret) (4.0.7)\n",
            "Requirement already satisfied: smmap<5,>=3.0.1 in /usr/local/lib/python3.7/dist-packages (from gitdb<5,>=4.0.1->gitpython>=2.1.0->mlflow->pycaret) (4.0.0)\n",
            "Requirement already satisfied: greenlet!=0.4.17 in /usr/local/lib/python3.7/dist-packages (from sqlalchemy->mlflow->pycaret) (1.1.0)\n",
            "Requirement already satisfied: itsdangerous<2.0,>=0.24 in /usr/local/lib/python3.7/dist-packages (from Flask->mlflow->pycaret) (1.1.0)\n",
            "Requirement already satisfied: Werkzeug<2.0,>=0.15 in /usr/local/lib/python3.7/dist-packages (from Flask->mlflow->pycaret) (1.0.1)\n",
            "Requirement already satisfied: mistune<2,>=0.8.1 in /usr/local/lib/python3.7/dist-packages (from nbconvert->notebook>=4.4.1->widgetsnbextension~=3.5.0->ipywidgets->pycaret) (0.8.4)\n",
            "Requirement already satisfied: bleach in /usr/local/lib/python3.7/dist-packages (from nbconvert->notebook>=4.4.1->widgetsnbextension~=3.5.0->ipywidgets->pycaret) (3.3.0)\n",
            "Requirement already satisfied: defusedxml in /usr/local/lib/python3.7/dist-packages (from nbconvert->notebook>=4.4.1->widgetsnbextension~=3.5.0->ipywidgets->pycaret) (0.7.1)\n",
            "Requirement already satisfied: testpath in /usr/local/lib/python3.7/dist-packages (from nbconvert->notebook>=4.4.1->widgetsnbextension~=3.5.0->ipywidgets->pycaret) (0.5.0)\n",
            "Requirement already satisfied: pandocfilters>=1.4.1 in /usr/local/lib/python3.7/dist-packages (from nbconvert->notebook>=4.4.1->widgetsnbextension~=3.5.0->ipywidgets->pycaret) (1.4.3)\n",
            "Requirement already satisfied: webencodings in /usr/local/lib/python3.7/dist-packages (from bleach->nbconvert->notebook>=4.4.1->widgetsnbextension~=3.5.0->ipywidgets->pycaret) (0.5.1)\n",
            "Requirement already satisfied: prometheus-client in /usr/local/lib/python3.7/dist-packages (from prometheus-flask-exporter->mlflow->pycaret) (0.11.0)\n",
            "Requirement already satisfied: funcy in /usr/local/lib/python3.7/dist-packages (from pyLDAvis->pycaret) (1.16)\n",
            "Requirement already satisfied: numexpr in /usr/local/lib/python3.7/dist-packages (from pyLDAvis->pycaret) (2.7.3)\n",
            "Requirement already satisfied: future in /usr/local/lib/python3.7/dist-packages (from pyLDAvis->pycaret) (0.16.0)\n",
            "Requirement already satisfied: statsmodels in /usr/local/lib/python3.7/dist-packages (from pyod->pycaret) (0.10.2)\n",
            "Requirement already satisfied: numba>=0.35 in /usr/local/lib/python3.7/dist-packages (from pyod->pycaret) (0.51.2)\n",
            "Requirement already satisfied: llvmlite<0.35,>=0.34.0.dev0 in /usr/local/lib/python3.7/dist-packages (from numba>=0.35->pyod->pycaret) (0.34.0)\n",
            "Requirement already satisfied: patsy>=0.4.0 in /usr/local/lib/python3.7/dist-packages (from statsmodels->pyod->pycaret) (0.5.1)\n",
            "Requirement already satisfied: pynndescent>=0.5 in /usr/local/lib/python3.7/dist-packages (from umap-learn->pycaret) (0.5.4)\n",
            "Requirement already satisfied: shap in /usr/local/lib/python3.7/dist-packages (0.39.0)\n",
            "Requirement already satisfied: cloudpickle in /usr/local/lib/python3.7/dist-packages (from shap) (1.3.0)\n",
            "Requirement already satisfied: scikit-learn in /usr/local/lib/python3.7/dist-packages (from shap) (0.23.2)\n",
            "Requirement already satisfied: numpy in /usr/local/lib/python3.7/dist-packages (from shap) (1.19.5)\n",
            "Requirement already satisfied: scipy in /usr/local/lib/python3.7/dist-packages (from shap) (1.5.4)\n",
            "Requirement already satisfied: numba in /usr/local/lib/python3.7/dist-packages (from shap) (0.51.2)\n",
            "Requirement already satisfied: pandas in /usr/local/lib/python3.7/dist-packages (from shap) (1.1.5)\n",
            "Requirement already satisfied: tqdm>4.25.0 in /usr/local/lib/python3.7/dist-packages (from shap) (4.62.0)\n",
            "Requirement already satisfied: slicer==0.0.7 in /usr/local/lib/python3.7/dist-packages (from shap) (0.0.7)\n",
            "Requirement already satisfied: llvmlite<0.35,>=0.34.0.dev0 in /usr/local/lib/python3.7/dist-packages (from numba->shap) (0.34.0)\n",
            "Requirement already satisfied: setuptools in /usr/local/lib/python3.7/dist-packages (from numba->shap) (57.2.0)\n",
            "Requirement already satisfied: pytz>=2017.2 in /usr/local/lib/python3.7/dist-packages (from pandas->shap) (2018.9)\n",
            "Requirement already satisfied: python-dateutil>=2.7.3 in /usr/local/lib/python3.7/dist-packages (from pandas->shap) (2.8.1)\n",
            "Requirement already satisfied: six>=1.5 in /usr/local/lib/python3.7/dist-packages (from python-dateutil>=2.7.3->pandas->shap) (1.15.0)\n",
            "Requirement already satisfied: threadpoolctl>=2.0.0 in /usr/local/lib/python3.7/dist-packages (from scikit-learn->shap) (2.2.0)\n",
            "Requirement already satisfied: joblib>=0.11 in /usr/local/lib/python3.7/dist-packages (from scikit-learn->shap) (1.0.1)\n"
          ],
          "name": "stdout"
        }
      ]
    },
    {
      "cell_type": "code",
      "metadata": {
        "colab": {
          "base_uri": "https://localhost:8080/"
        },
        "id": "NUZl3SJ3dxse",
        "outputId": "cf06c378-d1c8-4ea1-e1c1-ce0927fbad81"
      },
      "source": [
        "# Importing dataset\n",
        "data = pandas.read_csv('/content/gdrive/My Drive/Datasets/fred_quarterly.csv', engine='python')\n",
        "data.shape"
      ],
      "execution_count": 3,
      "outputs": [
        {
          "output_type": "execute_result",
          "data": {
            "text/plain": [
              "(86, 7)"
            ]
          },
          "metadata": {
            "tags": []
          },
          "execution_count": 3
        }
      ]
    },
    {
      "cell_type": "code",
      "metadata": {
        "colab": {
          "base_uri": "https://localhost:8080/",
          "height": 204
        },
        "id": "Ttkl3_pUdxsh",
        "outputId": "b3a7647e-62f0-441b-ccee-e69af29f56f9"
      },
      "source": [
        "# Showing first 5 rows of the dataframe\n",
        "data.head(5)"
      ],
      "execution_count": 4,
      "outputs": [
        {
          "output_type": "execute_result",
          "data": {
            "text/html": [
              "<div>\n",
              "<style scoped>\n",
              "    .dataframe tbody tr th:only-of-type {\n",
              "        vertical-align: middle;\n",
              "    }\n",
              "\n",
              "    .dataframe tbody tr th {\n",
              "        vertical-align: top;\n",
              "    }\n",
              "\n",
              "    .dataframe thead th {\n",
              "        text-align: right;\n",
              "    }\n",
              "</style>\n",
              "<table border=\"1\" class=\"dataframe\">\n",
              "  <thead>\n",
              "    <tr style=\"text-align: right;\">\n",
              "      <th></th>\n",
              "      <th>date</th>\n",
              "      <th>month</th>\n",
              "      <th>quarter</th>\n",
              "      <th>Target</th>\n",
              "      <th>gnp</th>\n",
              "      <th>gdpdef</th>\n",
              "      <th>gdp</th>\n",
              "    </tr>\n",
              "  </thead>\n",
              "  <tbody>\n",
              "    <tr>\n",
              "      <th>0</th>\n",
              "      <td>1/1/2000</td>\n",
              "      <td>2000-01</td>\n",
              "      <td>2000Q1</td>\n",
              "      <td>12935.252</td>\n",
              "      <td>10035.263</td>\n",
              "      <td>77.325</td>\n",
              "      <td>10002.179</td>\n",
              "    </tr>\n",
              "    <tr>\n",
              "      <th>1</th>\n",
              "      <td>4/1/2000</td>\n",
              "      <td>2000-04</td>\n",
              "      <td>2000Q2</td>\n",
              "      <td>13170.749</td>\n",
              "      <td>10283.391</td>\n",
              "      <td>77.807</td>\n",
              "      <td>10247.720</td>\n",
              "    </tr>\n",
              "    <tr>\n",
              "      <th>2</th>\n",
              "      <td>7/1/2000</td>\n",
              "      <td>2000-07</td>\n",
              "      <td>2000Q3</td>\n",
              "      <td>13183.890</td>\n",
              "      <td>10348.645</td>\n",
              "      <td>78.263</td>\n",
              "      <td>10318.165</td>\n",
              "    </tr>\n",
              "    <tr>\n",
              "      <th>3</th>\n",
              "      <td>10/1/2000</td>\n",
              "      <td>2000-10</td>\n",
              "      <td>2000Q4</td>\n",
              "      <td>13262.250</td>\n",
              "      <td>10490.430</td>\n",
              "      <td>78.688</td>\n",
              "      <td>10435.744</td>\n",
              "    </tr>\n",
              "    <tr>\n",
              "      <th>4</th>\n",
              "      <td>1/1/2001</td>\n",
              "      <td>2001-01</td>\n",
              "      <td>2001Q1</td>\n",
              "      <td>13219.251</td>\n",
              "      <td>10510.297</td>\n",
              "      <td>79.204</td>\n",
              "      <td>10470.231</td>\n",
              "    </tr>\n",
              "  </tbody>\n",
              "</table>\n",
              "</div>"
            ],
            "text/plain": [
              "        date    month quarter     Target        gnp  gdpdef        gdp\n",
              "0   1/1/2000  2000-01  2000Q1  12935.252  10035.263  77.325  10002.179\n",
              "1   4/1/2000  2000-04  2000Q2  13170.749  10283.391  77.807  10247.720\n",
              "2   7/1/2000  2000-07  2000Q3  13183.890  10348.645  78.263  10318.165\n",
              "3  10/1/2000  2000-10  2000Q4  13262.250  10490.430  78.688  10435.744\n",
              "4   1/1/2001  2001-01  2001Q1  13219.251  10510.297  79.204  10470.231"
            ]
          },
          "metadata": {
            "tags": []
          },
          "execution_count": 4
        }
      ]
    },
    {
      "cell_type": "code",
      "metadata": {
        "colab": {
          "base_uri": "https://localhost:8080/"
        },
        "id": "eG_wdipMdxsj",
        "outputId": "cdc4f9ca-fba8-4fe6-b946-35084b2f9745"
      },
      "source": [
        "# Data cleaning \n",
        "# Checking null values\n",
        "data.isnull().sum()"
      ],
      "execution_count": 5,
      "outputs": [
        {
          "output_type": "execute_result",
          "data": {
            "text/plain": [
              "date       0\n",
              "month      0\n",
              "quarter    0\n",
              "Target     0\n",
              "gnp        1\n",
              "gdpdef     0\n",
              "gdp        0\n",
              "dtype: int64"
            ]
          },
          "metadata": {
            "tags": []
          },
          "execution_count": 5
        }
      ]
    },
    {
      "cell_type": "code",
      "metadata": {
        "id": "seD6zSLtdxsl"
      },
      "source": [
        "# Filling null value with mean value of the column\n",
        "data['gnp'].fillna(data['gnp'].mean(), inplace= True)"
      ],
      "execution_count": 6,
      "outputs": []
    },
    {
      "cell_type": "code",
      "metadata": {
        "colab": {
          "base_uri": "https://localhost:8080/"
        },
        "id": "H_0Km_cRdxsm",
        "outputId": "326f0117-2b2b-4282-e740-9dd052398561"
      },
      "source": [
        "# Checking again for null values\n",
        "data.isnull().sum()"
      ],
      "execution_count": 7,
      "outputs": [
        {
          "output_type": "execute_result",
          "data": {
            "text/plain": [
              "date       0\n",
              "month      0\n",
              "quarter    0\n",
              "Target     0\n",
              "gnp        0\n",
              "gdpdef     0\n",
              "gdp        0\n",
              "dtype: int64"
            ]
          },
          "metadata": {
            "tags": []
          },
          "execution_count": 7
        }
      ]
    },
    {
      "cell_type": "code",
      "metadata": {
        "colab": {
          "base_uri": "https://localhost:8080/"
        },
        "id": "Ny0bSxUYhoS5",
        "outputId": "c71446ac-a7e0-427a-a08b-7ea95df8b5df"
      },
      "source": [
        "# Checking for duplicate values\n",
        "data.duplicated().sum()"
      ],
      "execution_count": 8,
      "outputs": [
        {
          "output_type": "execute_result",
          "data": {
            "text/plain": [
              "0"
            ]
          },
          "metadata": {
            "tags": []
          },
          "execution_count": 8
        }
      ]
    },
    {
      "cell_type": "markdown",
      "metadata": {
        "id": "69mYM-XUhwes"
      },
      "source": [
        "**Now I have no null and duplicate value in my dataframe.**"
      ]
    },
    {
      "cell_type": "code",
      "metadata": {
        "colab": {
          "base_uri": "https://localhost:8080/",
          "height": 428
        },
        "id": "PBg0vV6ydxsq",
        "outputId": "4ed2267b-6e94-43df-b6dd-0a4de4420eca"
      },
      "source": [
        "# Box plot for different variables\n",
        "plt.figure(figsize= (20, 7))\n",
        "seaborn.boxplot(data= data)\n",
        "plt.show()"
      ],
      "execution_count": 9,
      "outputs": [
        {
          "output_type": "display_data",
          "data": {
            "image/png": "[encoded data removed]",
            "text/plain": [
              "<Figure size 1440x504 with 1 Axes>"
            ]
          },
          "metadata": {
            "tags": [],
            "needs_background": "light"
          }
        }
      ]
    },
    {
      "cell_type": "code",
      "metadata": {
        "colab": {
          "base_uri": "https://localhost:8080/"
        },
        "id": "tcFm-VE9dxso",
        "outputId": "388c626a-ef26-4b2c-b2d8-b47e198c41e5"
      },
      "source": [
        "# Creating train and test sets from the dataframe\n",
        "features= ['gnp', 'gdpdef', 'gdp']\n",
        "target= ['Target']\n",
        "x= data[features]\n",
        "y= data[target]\n",
        "x_train, x_test, y_train, y_test= train_test_split(x, y, test_size= 0.1, random_state= 1)\n",
        "print('Train set shape is :',x_train.shape)\n",
        "print('Test set shape is :',x_test.shape)"
      ],
      "execution_count": 10,
      "outputs": [
        {
          "output_type": "stream",
          "text": [
            "Train set shape is : (77, 3)\n",
            "Test set shape is : (9, 3)\n"
          ],
          "name": "stdout"
        }
      ]
    },
    {
      "cell_type": "code",
      "metadata": {
        "colab": {
          "base_uri": "https://localhost:8080/"
        },
        "id": "rJN-5g6Jdxss",
        "outputId": "bc71472d-6406-4297-9bc1-85e5899b4728"
      },
      "source": [
        "# Decision tree regressor\n",
        "dtr= DecisionTreeRegressor()\n",
        "dtr.fit(x_train, y_train)\n",
        "y_pred= dtr.predict(x_test)\n",
        "print('r2 score for Decision tree regressor is :', r2_score(y_test, y_pred).round(decimals= 3) )\n",
        "print('Mean absolute error is :', mean_absolute_error(y_test, y_pred).round(decimals= 3) )\n",
        "print('Mean squared error is :', mean_squared_error(y_test, y_pred).round(decimals= 3) )\n",
        "print('Root mean squared error is :', numpy.sqrt(mean_squared_error(y_test, y_pred).round(decimals= 3)) )"
      ],
      "execution_count": 11,
      "outputs": [
        {
          "output_type": "stream",
          "text": [
            "r2 score for Decision tree regressor is : 0.249\n",
            "Mean absolute error is : 593.079\n",
            "Mean squared error is : 1455012.204\n",
            "Root mean squared error is : 1206.2388668916285\n"
          ],
          "name": "stdout"
        }
      ]
    },
    {
      "cell_type": "code",
      "metadata": {
        "colab": {
          "base_uri": "https://localhost:8080/"
        },
        "id": "GgvCsIL8dxsv",
        "outputId": "315a1e3d-ac01-4d67-a316-91fae26e3cde"
      },
      "source": [
        "# Linear Regression\n",
        "lr= LinearRegression()\n",
        "lr.fit(x_train, y_train)\n",
        "y_pred= lr.predict(x_test)\n",
        "print('r2 score for Linear Regression is :', r2_score(y_test, y_pred).round(decimals= 3) )\n",
        "print('Mean absolute error is :', mean_absolute_error(y_test, y_pred).round(decimals= 3) )\n",
        "print('Mean squared error is :', mean_squared_error(y_test, y_pred).round(decimals= 3) )\n",
        "print('Root mean squared error is :', numpy.sqrt(mean_squared_error(y_test, y_pred).round(decimals= 3)) )"
      ],
      "execution_count": 12,
      "outputs": [
        {
          "output_type": "stream",
          "text": [
            "r2 score for Linear Regression is : 0.449\n",
            "Mean absolute error is : 465.074\n",
            "Mean squared error is : 1067068.484\n",
            "Root mean squared error is : 1032.9900696521725\n"
          ],
          "name": "stdout"
        }
      ]
    },
    {
      "cell_type": "code",
      "metadata": {
        "colab": {
          "base_uri": "https://localhost:8080/"
        },
        "id": "K5PiiN4bi0B8",
        "outputId": "f937996d-d0ef-4127-d93d-d8f7f5e927b8"
      },
      "source": [
        "# Random Forest Regressor\n",
        "rfr= RandomForestRegressor()\n",
        "rfr.fit(x_train, y_train)\n",
        "y_pred= rfr.predict(x_test)\n",
        "print('r2 score for Random Forest Regressor is :', r2_score(y_test, y_pred).round(decimals= 3) )\n",
        "print('Mean absolute error is :', mean_absolute_error(y_test, y_pred).round(decimals= 3) )\n",
        "print('Mean squared error is :', mean_squared_error(y_test, y_pred).round(decimals= 3) )\n",
        "print('Root mean squared error is :', numpy.sqrt(mean_squared_error(y_test, y_pred).round(decimals= 3)) )"
      ],
      "execution_count": 13,
      "outputs": [
        {
          "output_type": "stream",
          "text": [
            "r2 score for Random Forest Regressor is : 0.687\n",
            "Mean absolute error is : 453.245\n",
            "Mean squared error is : 605548.724\n",
            "Root mean squared error is : 778.1701125075417\n"
          ],
          "name": "stdout"
        }
      ]
    },
    {
      "cell_type": "code",
      "metadata": {
        "colab": {
          "base_uri": "https://localhost:8080/"
        },
        "id": "YAMs-TFeksdc",
        "outputId": "4c504a6b-4c6e-4acb-b325-322db8e46f60"
      },
      "source": [
        "# Predicting values from the model firstly by Linear Regression\n",
        "input_Q1= [22545, 116.42, 22335]\n",
        "input_Q2= [22812, 116.83, 22750]\n",
        "input_Q3= [22998, 117.21, 22986]\n",
        "input_Q4= [23187, 117.59, 23208]\n",
        "input_Q5= [23450, 117.81, 23490]\n",
        "input_Q6= [23896, 118.09, 23756]\n",
        "predicted_target_Q1= lr.predict([input_Q1])\n",
        "predicted_target_Q2= lr.predict([input_Q2])\n",
        "predicted_target_Q3= lr.predict([input_Q3])\n",
        "predicted_target_Q4= lr.predict([input_Q4])\n",
        "predicted_target_Q5= lr.predict([input_Q5])\n",
        "predicted_target_Q6= lr.predict([input_Q6])\n",
        "print(colored('Predicted target value for first quarter :', 'green', attrs= ['bold']), predicted_target_Q1)\n",
        "print(colored('Predicted target value for second quarter :', 'green', attrs= ['bold']), predicted_target_Q2)\n",
        "print(colored('Predicted target value for third quarter :', 'green', attrs= ['bold']), predicted_target_Q3)\n",
        "print(colored('Predicted target value for fourth quarter :', 'green', attrs= ['bold']), predicted_target_Q4)\n",
        "print(colored('Predicted target value for fifth quarter :', 'green', attrs= ['bold']), predicted_target_Q5)\n",
        "print(colored('Predicted target value for sixth quarter :', 'green', attrs= ['bold']), predicted_target_Q6)"
      ],
      "execution_count": 14,
      "outputs": [
        {
          "output_type": "stream",
          "text": [
            "\u001b[1m\u001b[32mPredicted target value for first quarter :\u001b[0m [[19548.25040756]]\n",
            "\u001b[1m\u001b[32mPredicted target value for second quarter :\u001b[0m [[19850.37126354]]\n",
            "\u001b[1m\u001b[32mPredicted target value for third quarter :\u001b[0m [[20004.63844842]]\n",
            "\u001b[1m\u001b[32mPredicted target value for fourth quarter :\u001b[0m [[20143.83502894]]\n",
            "\u001b[1m\u001b[32mPredicted target value for fifth quarter :\u001b[0m [[20321.18532824]]\n",
            "\u001b[1m\u001b[32mPredicted target value for sixth quarter :\u001b[0m [[20413.35247001]]\n"
          ],
          "name": "stdout"
        }
      ]
    },
    {
      "cell_type": "code",
      "metadata": {
        "id": "Tv1JI1u8gOoM"
      },
      "source": [
        "# Creating a dataframe with desired variables\n",
        "df= data[['gnp', 'gdpdef', 'gdp', 'Target']]"
      ],
      "execution_count": 15,
      "outputs": []
    },
    {
      "cell_type": "code",
      "metadata": {
        "colab": {
          "base_uri": "https://localhost:8080/",
          "height": 297
        },
        "id": "lq40nxi5tFZg",
        "outputId": "76547b87-3e0c-4f07-ad03-012025e275a6"
      },
      "source": [
        "# Description of dataframe\n",
        "df.describe()"
      ],
      "execution_count": 16,
      "outputs": [
        {
          "output_type": "execute_result",
          "data": {
            "text/html": [
              "<div>\n",
              "<style scoped>\n",
              "    .dataframe tbody tr th:only-of-type {\n",
              "        vertical-align: middle;\n",
              "    }\n",
              "\n",
              "    .dataframe tbody tr th {\n",
              "        vertical-align: top;\n",
              "    }\n",
              "\n",
              "    .dataframe thead th {\n",
              "        text-align: right;\n",
              "    }\n",
              "</style>\n",
              "<table border=\"1\" class=\"dataframe\">\n",
              "  <thead>\n",
              "    <tr style=\"text-align: right;\">\n",
              "      <th></th>\n",
              "      <th>gnp</th>\n",
              "      <th>gdpdef</th>\n",
              "      <th>gdp</th>\n",
              "      <th>Target</th>\n",
              "    </tr>\n",
              "  </thead>\n",
              "  <tbody>\n",
              "    <tr>\n",
              "      <th>count</th>\n",
              "      <td>86.000000</td>\n",
              "      <td>86.000000</td>\n",
              "      <td>86.000000</td>\n",
              "      <td>86.000000</td>\n",
              "    </tr>\n",
              "    <tr>\n",
              "      <th>mean</th>\n",
              "      <td>15788.494200</td>\n",
              "      <td>96.672000</td>\n",
              "      <td>15705.747209</td>\n",
              "      <td>16043.371291</td>\n",
              "    </tr>\n",
              "    <tr>\n",
              "      <th>std</th>\n",
              "      <td>3524.898314</td>\n",
              "      <td>11.154457</td>\n",
              "      <td>3528.301498</td>\n",
              "      <td>1809.872040</td>\n",
              "    </tr>\n",
              "    <tr>\n",
              "      <th>min</th>\n",
              "      <td>10035.263000</td>\n",
              "      <td>77.325000</td>\n",
              "      <td>10002.179000</td>\n",
              "      <td>12935.252000</td>\n",
              "    </tr>\n",
              "    <tr>\n",
              "      <th>25%</th>\n",
              "      <td>13054.165500</td>\n",
              "      <td>87.280000</td>\n",
              "      <td>12977.652500</td>\n",
              "      <td>14868.853000</td>\n",
              "    </tr>\n",
              "    <tr>\n",
              "      <th>50%</th>\n",
              "      <td>15431.246000</td>\n",
              "      <td>96.564000</td>\n",
              "      <td>15225.538000</td>\n",
              "      <td>15781.342000</td>\n",
              "    </tr>\n",
              "    <tr>\n",
              "      <th>75%</th>\n",
              "      <td>18553.959500</td>\n",
              "      <td>104.986500</td>\n",
              "      <td>18401.999250</td>\n",
              "      <td>17456.204250</td>\n",
              "    </tr>\n",
              "    <tr>\n",
              "      <th>max</th>\n",
              "      <td>22273.060000</td>\n",
              "      <td>117.380000</td>\n",
              "      <td>22722.581000</td>\n",
              "      <td>19358.176000</td>\n",
              "    </tr>\n",
              "  </tbody>\n",
              "</table>\n",
              "</div>"
            ],
            "text/plain": [
              "                gnp      gdpdef           gdp        Target\n",
              "count     86.000000   86.000000     86.000000     86.000000\n",
              "mean   15788.494200   96.672000  15705.747209  16043.371291\n",
              "std     3524.898314   11.154457   3528.301498   1809.872040\n",
              "min    10035.263000   77.325000  10002.179000  12935.252000\n",
              "25%    13054.165500   87.280000  12977.652500  14868.853000\n",
              "50%    15431.246000   96.564000  15225.538000  15781.342000\n",
              "75%    18553.959500  104.986500  18401.999250  17456.204250\n",
              "max    22273.060000  117.380000  22722.581000  19358.176000"
            ]
          },
          "metadata": {
            "tags": []
          },
          "execution_count": 16
        }
      ]
    },
    {
      "cell_type": "code",
      "metadata": {
        "colab": {
          "base_uri": "https://localhost:8080/",
          "height": 173
        },
        "id": "RNzsc2EJtUhd",
        "outputId": "58059a8b-274b-46be-c9f4-09e14deee690"
      },
      "source": [
        "# Correlation matrix\n",
        "correlation= df.corr()\n",
        "correlation"
      ],
      "execution_count": 17,
      "outputs": [
        {
          "output_type": "execute_result",
          "data": {
            "text/html": [
              "<div>\n",
              "<style scoped>\n",
              "    .dataframe tbody tr th:only-of-type {\n",
              "        vertical-align: middle;\n",
              "    }\n",
              "\n",
              "    .dataframe tbody tr th {\n",
              "        vertical-align: top;\n",
              "    }\n",
              "\n",
              "    .dataframe thead th {\n",
              "        text-align: right;\n",
              "    }\n",
              "</style>\n",
              "<table border=\"1\" class=\"dataframe\">\n",
              "  <thead>\n",
              "    <tr style=\"text-align: right;\">\n",
              "      <th></th>\n",
              "      <th>gnp</th>\n",
              "      <th>gdpdef</th>\n",
              "      <th>gdp</th>\n",
              "      <th>Target</th>\n",
              "    </tr>\n",
              "  </thead>\n",
              "  <tbody>\n",
              "    <tr>\n",
              "      <th>gnp</th>\n",
              "      <td>1.000000</td>\n",
              "      <td>0.972529</td>\n",
              "      <td>0.976107</td>\n",
              "      <td>0.975685</td>\n",
              "    </tr>\n",
              "    <tr>\n",
              "      <th>gdpdef</th>\n",
              "      <td>0.972529</td>\n",
              "      <td>1.000000</td>\n",
              "      <td>0.992846</td>\n",
              "      <td>0.983771</td>\n",
              "    </tr>\n",
              "    <tr>\n",
              "      <th>gdp</th>\n",
              "      <td>0.976107</td>\n",
              "      <td>0.992846</td>\n",
              "      <td>1.000000</td>\n",
              "      <td>0.996021</td>\n",
              "    </tr>\n",
              "    <tr>\n",
              "      <th>Target</th>\n",
              "      <td>0.975685</td>\n",
              "      <td>0.983771</td>\n",
              "      <td>0.996021</td>\n",
              "      <td>1.000000</td>\n",
              "    </tr>\n",
              "  </tbody>\n",
              "</table>\n",
              "</div>"
            ],
            "text/plain": [
              "             gnp    gdpdef       gdp    Target\n",
              "gnp     1.000000  0.972529  0.976107  0.975685\n",
              "gdpdef  0.972529  1.000000  0.992846  0.983771\n",
              "gdp     0.976107  0.992846  1.000000  0.996021\n",
              "Target  0.975685  0.983771  0.996021  1.000000"
            ]
          },
          "metadata": {
            "tags": []
          },
          "execution_count": 17
        }
      ]
    },
    {
      "cell_type": "code",
      "metadata": {
        "colab": {
          "base_uri": "https://localhost:8080/",
          "height": 327
        },
        "id": "jGj3ebz5tk0V",
        "outputId": "bedbc134-2e04-4fd2-9d93-89a573009835"
      },
      "source": [
        "# Heatmap from correlation matrix\n",
        "plt.figure(figsize= (24, 5))\n",
        "seaborn.heatmap(correlation, annot= True, cmap= 'RdYlGn')\n",
        "plt.xticks(fontsize= 13, fontweight= 'bold')\n",
        "plt.yticks(fontsize= 13, fontweight= 'bold')\n",
        "plt.show()"
      ],
      "execution_count": 18,
      "outputs": [
        {
          "output_type": "display_data",
          "data": {
            "image/png": "[encoded data removed]",
            "text/plain": [
              "<Figure size 1728x360 with 2 Axes>"
            ]
          },
          "metadata": {
            "tags": [],
            "needs_background": "light"
          }
        }
      ]
    },
    {
      "cell_type": "code",
      "metadata": {
        "colab": {
          "base_uri": "https://localhost:8080/",
          "height": 726
        },
        "id": "iOMJLWa6xWb4",
        "outputId": "b936b3a3-a90e-4e77-f6cd-bec0a41a20ce"
      },
      "source": [
        "# Pairplot for different variables\n",
        "seaborn.pairplot(df)\n",
        "plt.show()"
      ],
      "execution_count": 19,
      "outputs": [
        {
          "output_type": "display_data",
          "data": {
            "image/png": "[encoded data removed]",
            "text/plain": [
              "<Figure size 720x720 with 20 Axes>"
            ]
          },
          "metadata": {
            "tags": [],
            "needs_background": "light"
          }
        }
      ]
    },
    {
      "cell_type": "code",
      "metadata": {
        "colab": {
          "base_uri": "https://localhost:8080/"
        },
        "id": "S6XQz6Nl0ihy",
        "outputId": "4fd61115-8128-4d93-f623-8c2062236c40"
      },
      "source": [
        "# Pycaret package\n",
        "print(colored('Now using Pycaret package', 'green', attrs= ['bold']))"
      ],
      "execution_count": 20,
      "outputs": [
        {
          "output_type": "stream",
          "text": [
            "\u001b[1m\u001b[32mNow using Pycaret package\u001b[0m\n"
          ],
          "name": "stdout"
        }
      ]
    },
    {
      "cell_type": "code",
      "metadata": {
        "colab": {
          "base_uri": "https://localhost:8080/",
          "height": 1000,
          "referenced_widgets": [
            "f508cadc8b8a4e61be5e139054367aac",
            "1211423081be44f6ae4c782571aa658e",
            "91b45ac7b86f4709a074c872d7fd2e87",
            "f36cef300a944e8a8ba0799ed7b40ee1",
            "5b90efa21169452eae4533b1c0957835",
            "58f000f8a3f74db2a77bfef38b022d60"
          ]
        },
        "id": "e4I5hWkfdxsx",
        "outputId": "f94cdb64-0d68-4830-8d2f-e0f4d907d247"
      },
      "source": [
        "# Setting up Pycaret package\n",
        "exp= setup(data= df, target= 'Target')"
      ],
      "execution_count": 21,
      "outputs": [
        {
          "output_type": "display_data",
          "data": {
            "text/html": [
              "<div>\n",
              "<style scoped>\n",
              "    .dataframe tbody tr th:only-of-type {\n",
              "        vertical-align: middle;\n",
              "    }\n",
              "\n",
              "    .dataframe tbody tr th {\n",
              "        vertical-align: top;\n",
              "    }\n",
              "\n",
              "    .dataframe thead th {\n",
              "        text-align: right;\n",
              "    }\n",
              "</style>\n",
              "<table border=\"1\" class=\"dataframe\">\n",
              "  <thead>\n",
              "    <tr style=\"text-align: right;\">\n",
              "      <th></th>\n",
              "      <th>Description</th>\n",
              "      <th>Value</th>\n",
              "    </tr>\n",
              "  </thead>\n",
              "  <tbody>\n",
              "    <tr>\n",
              "      <th>0</th>\n",
              "      <td>session_id</td>\n",
              "      <td>5202</td>\n",
              "    </tr>\n",
              "    <tr>\n",
              "      <th>1</th>\n",
              "      <td>Target</td>\n",
              "      <td>Target</td>\n",
              "    </tr>\n",
              "    <tr>\n",
              "      <th>2</th>\n",
              "      <td>Original Data</td>\n",
              "      <td>(86, 4)</td>\n",
              "    </tr>\n",
              "    <tr>\n",
              "      <th>3</th>\n",
              "      <td>Missing Values</td>\n",
              "      <td>False</td>\n",
              "    </tr>\n",
              "    <tr>\n",
              "      <th>4</th>\n",
              "      <td>Numeric Features</td>\n",
              "      <td>3</td>\n",
              "    </tr>\n",
              "    <tr>\n",
              "      <th>5</th>\n",
              "      <td>Categorical Features</td>\n",
              "      <td>0</td>\n",
              "    </tr>\n",
              "    <tr>\n",
              "      <th>6</th>\n",
              "      <td>Ordinal Features</td>\n",
              "      <td>False</td>\n",
              "    </tr>\n",
              "    <tr>\n",
              "      <th>7</th>\n",
              "      <td>High Cardinality Features</td>\n",
              "      <td>False</td>\n",
              "    </tr>\n",
              "    <tr>\n",
              "      <th>8</th>\n",
              "      <td>High Cardinality Method</td>\n",
              "      <td>None</td>\n",
              "    </tr>\n",
              "    <tr>\n",
              "      <th>9</th>\n",
              "      <td>Transformed Train Set</td>\n",
              "      <td>(60, 3)</td>\n",
              "    </tr>\n",
              "    <tr>\n",
              "      <th>10</th>\n",
              "      <td>Transformed Test Set</td>\n",
              "      <td>(26, 3)</td>\n",
              "    </tr>\n",
              "    <tr>\n",
              "      <th>11</th>\n",
              "      <td>Shuffle Train-Test</td>\n",
              "      <td>True</td>\n",
              "    </tr>\n",
              "    <tr>\n",
              "      <th>12</th>\n",
              "      <td>Stratify Train-Test</td>\n",
              "      <td>False</td>\n",
              "    </tr>\n",
              "    <tr>\n",
              "      <th>13</th>\n",
              "      <td>Fold Generator</td>\n",
              "      <td>KFold</td>\n",
              "    </tr>\n",
              "    <tr>\n",
              "      <th>14</th>\n",
              "      <td>Fold Number</td>\n",
              "      <td>10</td>\n",
              "    </tr>\n",
              "    <tr>\n",
              "      <th>15</th>\n",
              "      <td>CPU Jobs</td>\n",
              "      <td>-1</td>\n",
              "    </tr>\n",
              "    <tr>\n",
              "      <th>16</th>\n",
              "      <td>Use GPU</td>\n",
              "      <td>False</td>\n",
              "    </tr>\n",
              "    <tr>\n",
              "      <th>17</th>\n",
              "      <td>Log Experiment</td>\n",
              "      <td>False</td>\n",
              "    </tr>\n",
              "    <tr>\n",
              "      <th>18</th>\n",
              "      <td>Experiment Name</td>\n",
              "      <td>reg-default-name</td>\n",
              "    </tr>\n",
              "    <tr>\n",
              "      <th>19</th>\n",
              "      <td>USI</td>\n",
              "      <td>cf54</td>\n",
              "    </tr>\n",
              "    <tr>\n",
              "      <th>20</th>\n",
              "      <td>Imputation Type</td>\n",
              "      <td>simple</td>\n",
              "    </tr>\n",
              "    <tr>\n",
              "      <th>21</th>\n",
              "      <td>Iterative Imputation Iteration</td>\n",
              "      <td>None</td>\n",
              "    </tr>\n",
              "    <tr>\n",
              "      <th>22</th>\n",
              "      <td>Numeric Imputer</td>\n",
              "      <td>mean</td>\n",
              "    </tr>\n",
              "    <tr>\n",
              "      <th>23</th>\n",
              "      <td>Iterative Imputation Numeric Model</td>\n",
              "      <td>None</td>\n",
              "    </tr>\n",
              "    <tr>\n",
              "      <th>24</th>\n",
              "      <td>Categorical Imputer</td>\n",
              "      <td>constant</td>\n",
              "    </tr>\n",
              "    <tr>\n",
              "      <th>25</th>\n",
              "      <td>Iterative Imputation Categorical Model</td>\n",
              "      <td>None</td>\n",
              "    </tr>\n",
              "    <tr>\n",
              "      <th>26</th>\n",
              "      <td>Unknown Categoricals Handling</td>\n",
              "      <td>least_frequent</td>\n",
              "    </tr>\n",
              "    <tr>\n",
              "      <th>27</th>\n",
              "      <td>Normalize</td>\n",
              "      <td>False</td>\n",
              "    </tr>\n",
              "    <tr>\n",
              "      <th>28</th>\n",
              "      <td>Normalize Method</td>\n",
              "      <td>None</td>\n",
              "    </tr>\n",
              "    <tr>\n",
              "      <th>29</th>\n",
              "      <td>Transformation</td>\n",
              "      <td>False</td>\n",
              "    </tr>\n",
              "    <tr>\n",
              "      <th>30</th>\n",
              "      <td>Transformation Method</td>\n",
              "      <td>None</td>\n",
              "    </tr>\n",
              "    <tr>\n",
              "      <th>31</th>\n",
              "      <td>PCA</td>\n",
              "      <td>False</td>\n",
              "    </tr>\n",
              "    <tr>\n",
              "      <th>32</th>\n",
              "      <td>PCA Method</td>\n",
              "      <td>None</td>\n",
              "    </tr>\n",
              "    <tr>\n",
              "      <th>33</th>\n",
              "      <td>PCA Components</td>\n",
              "      <td>None</td>\n",
              "    </tr>\n",
              "    <tr>\n",
              "      <th>34</th>\n",
              "      <td>Ignore Low Variance</td>\n",
              "      <td>False</td>\n",
              "    </tr>\n",
              "    <tr>\n",
              "      <th>35</th>\n",
              "      <td>Combine Rare Levels</td>\n",
              "      <td>False</td>\n",
              "    </tr>\n",
              "    <tr>\n",
              "      <th>36</th>\n",
              "      <td>Rare Level Threshold</td>\n",
              "      <td>None</td>\n",
              "    </tr>\n",
              "    <tr>\n",
              "      <th>37</th>\n",
              "      <td>Numeric Binning</td>\n",
              "      <td>False</td>\n",
              "    </tr>\n",
              "    <tr>\n",
              "      <th>38</th>\n",
              "      <td>Remove Outliers</td>\n",
              "      <td>False</td>\n",
              "    </tr>\n",
              "    <tr>\n",
              "      <th>39</th>\n",
              "      <td>Outliers Threshold</td>\n",
              "      <td>None</td>\n",
              "    </tr>\n",
              "    <tr>\n",
              "      <th>40</th>\n",
              "      <td>Remove Multicollinearity</td>\n",
              "      <td>False</td>\n",
              "    </tr>\n",
              "    <tr>\n",
              "      <th>41</th>\n",
              "      <td>Multicollinearity Threshold</td>\n",
              "      <td>None</td>\n",
              "    </tr>\n",
              "    <tr>\n",
              "      <th>42</th>\n",
              "      <td>Remove Perfect Collinearity</td>\n",
              "      <td>True</td>\n",
              "    </tr>\n",
              "    <tr>\n",
              "      <th>43</th>\n",
              "      <td>Clustering</td>\n",
              "      <td>False</td>\n",
              "    </tr>\n",
              "    <tr>\n",
              "      <th>44</th>\n",
              "      <td>Clustering Iteration</td>\n",
              "      <td>None</td>\n",
              "    </tr>\n",
              "    <tr>\n",
              "      <th>45</th>\n",
              "      <td>Polynomial Features</td>\n",
              "      <td>False</td>\n",
              "    </tr>\n",
              "    <tr>\n",
              "      <th>46</th>\n",
              "      <td>Polynomial Degree</td>\n",
              "      <td>None</td>\n",
              "    </tr>\n",
              "    <tr>\n",
              "      <th>47</th>\n",
              "      <td>Trignometry Features</td>\n",
              "      <td>False</td>\n",
              "    </tr>\n",
              "    <tr>\n",
              "      <th>48</th>\n",
              "      <td>Polynomial Threshold</td>\n",
              "      <td>None</td>\n",
              "    </tr>\n",
              "    <tr>\n",
              "      <th>49</th>\n",
              "      <td>Group Features</td>\n",
              "      <td>False</td>\n",
              "    </tr>\n",
              "    <tr>\n",
              "      <th>50</th>\n",
              "      <td>Feature Selection</td>\n",
              "      <td>False</td>\n",
              "    </tr>\n",
              "    <tr>\n",
              "      <th>51</th>\n",
              "      <td>Feature Selection Method</td>\n",
              "      <td>classic</td>\n",
              "    </tr>\n",
              "    <tr>\n",
              "      <th>52</th>\n",
              "      <td>Features Selection Threshold</td>\n",
              "      <td>None</td>\n",
              "    </tr>\n",
              "    <tr>\n",
              "      <th>53</th>\n",
              "      <td>Feature Interaction</td>\n",
              "      <td>False</td>\n",
              "    </tr>\n",
              "    <tr>\n",
              "      <th>54</th>\n",
              "      <td>Feature Ratio</td>\n",
              "      <td>False</td>\n",
              "    </tr>\n",
              "    <tr>\n",
              "      <th>55</th>\n",
              "      <td>Interaction Threshold</td>\n",
              "      <td>None</td>\n",
              "    </tr>\n",
              "    <tr>\n",
              "      <th>56</th>\n",
              "      <td>Transform Target</td>\n",
              "      <td>False</td>\n",
              "    </tr>\n",
              "    <tr>\n",
              "      <th>57</th>\n",
              "      <td>Transform Target Method</td>\n",
              "      <td>box-cox</td>\n",
              "    </tr>\n",
              "  </tbody>\n",
              "</table>\n",
              "</div>"
            ],
            "text/plain": [
              "                               Description             Value\n",
              "0                               session_id              5202\n",
              "1                                   Target            Target\n",
              "2                            Original Data           (86, 4)\n",
              "3                           Missing Values             False\n",
              "4                         Numeric Features                 3\n",
              "5                     Categorical Features                 0\n",
              "6                         Ordinal Features             False\n",
              "7                High Cardinality Features             False\n",
              "8                  High Cardinality Method              None\n",
              "9                    Transformed Train Set           (60, 3)\n",
              "10                    Transformed Test Set           (26, 3)\n",
              "11                      Shuffle Train-Test              True\n",
              "12                     Stratify Train-Test             False\n",
              "13                          Fold Generator             KFold\n",
              "14                             Fold Number                10\n",
              "15                                CPU Jobs                -1\n",
              "16                                 Use GPU             False\n",
              "17                          Log Experiment             False\n",
              "18                         Experiment Name  reg-default-name\n",
              "19                                     USI              cf54\n",
              "20                         Imputation Type            simple\n",
              "21          Iterative Imputation Iteration              None\n",
              "22                         Numeric Imputer              mean\n",
              "23      Iterative Imputation Numeric Model              None\n",
              "24                     Categorical Imputer          constant\n",
              "25  Iterative Imputation Categorical Model              None\n",
              "26           Unknown Categoricals Handling    least_frequent\n",
              "27                               Normalize             False\n",
              "28                        Normalize Method              None\n",
              "29                          Transformation             False\n",
              "30                   Transformation Method              None\n",
              "31                                     PCA             False\n",
              "32                              PCA Method              None\n",
              "33                          PCA Components              None\n",
              "34                     Ignore Low Variance             False\n",
              "35                     Combine Rare Levels             False\n",
              "36                    Rare Level Threshold              None\n",
              "37                         Numeric Binning             False\n",
              "38                         Remove Outliers             False\n",
              "39                      Outliers Threshold              None\n",
              "40                Remove Multicollinearity             False\n",
              "41             Multicollinearity Threshold              None\n",
              "42             Remove Perfect Collinearity              True\n",
              "43                              Clustering             False\n",
              "44                    Clustering Iteration              None\n",
              "45                     Polynomial Features             False\n",
              "46                       Polynomial Degree              None\n",
              "47                    Trignometry Features             False\n",
              "48                    Polynomial Threshold              None\n",
              "49                          Group Features             False\n",
              "50                       Feature Selection             False\n",
              "51                Feature Selection Method           classic\n",
              "52            Features Selection Threshold              None\n",
              "53                     Feature Interaction             False\n",
              "54                           Feature Ratio             False\n",
              "55                   Interaction Threshold              None\n",
              "56                        Transform Target             False\n",
              "57                 Transform Target Method           box-cox"
            ]
          },
          "metadata": {
            "tags": []
          }
        }
      ]
    },
    {
      "cell_type": "code",
      "metadata": {
        "colab": {
          "base_uri": "https://localhost:8080/",
          "height": 627,
          "referenced_widgets": [
            "4a490e05fc3f4c60b785245e76e6cc7c",
            "7e7b95b1930f4d588402361c318e1504",
            "5038556968674d51994090f84786b0a6"
          ]
        },
        "id": "dZQ_fvQ0dxsx",
        "outputId": "c8a2aaf4-ca91-4c07-91d6-66004243b266"
      },
      "source": [
        "# Comparing models\n",
        "compare_models()"
      ],
      "execution_count": 22,
      "outputs": [
        {
          "output_type": "display_data",
          "data": {
            "text/html": [
              "<div>\n",
              "<style scoped>\n",
              "    .dataframe tbody tr th:only-of-type {\n",
              "        vertical-align: middle;\n",
              "    }\n",
              "\n",
              "    .dataframe tbody tr th {\n",
              "        vertical-align: top;\n",
              "    }\n",
              "\n",
              "    .dataframe thead th {\n",
              "        text-align: right;\n",
              "    }\n",
              "</style>\n",
              "<table border=\"1\" class=\"dataframe\">\n",
              "  <thead>\n",
              "    <tr style=\"text-align: right;\">\n",
              "      <th></th>\n",
              "      <th>Model</th>\n",
              "      <th>MAE</th>\n",
              "      <th>MSE</th>\n",
              "      <th>RMSE</th>\n",
              "      <th>R2</th>\n",
              "      <th>RMSLE</th>\n",
              "      <th>MAPE</th>\n",
              "      <th>TT (Sec)</th>\n",
              "    </tr>\n",
              "  </thead>\n",
              "  <tbody>\n",
              "    <tr>\n",
              "      <th>llar</th>\n",
              "      <td>Lasso Least Angle Regression</td>\n",
              "      <td>145.9511</td>\n",
              "      <td>3.104708e+04</td>\n",
              "      <td>165.3248</td>\n",
              "      <td>0.9865</td>\n",
              "      <td>0.0104</td>\n",
              "      <td>0.0092</td>\n",
              "      <td>0.016</td>\n",
              "    </tr>\n",
              "    <tr>\n",
              "      <th>omp</th>\n",
              "      <td>Orthogonal Matching Pursuit</td>\n",
              "      <td>145.3397</td>\n",
              "      <td>3.100081e+04</td>\n",
              "      <td>165.2584</td>\n",
              "      <td>0.9865</td>\n",
              "      <td>0.0104</td>\n",
              "      <td>0.0092</td>\n",
              "      <td>0.013</td>\n",
              "    </tr>\n",
              "    <tr>\n",
              "      <th>br</th>\n",
              "      <td>Bayesian Ridge</td>\n",
              "      <td>158.2389</td>\n",
              "      <td>4.890876e+04</td>\n",
              "      <td>194.4814</td>\n",
              "      <td>0.9789</td>\n",
              "      <td>0.0119</td>\n",
              "      <td>0.0098</td>\n",
              "      <td>0.013</td>\n",
              "    </tr>\n",
              "    <tr>\n",
              "      <th>dt</th>\n",
              "      <td>Decision Tree Regressor</td>\n",
              "      <td>153.1501</td>\n",
              "      <td>5.463666e+04</td>\n",
              "      <td>197.4794</td>\n",
              "      <td>0.9754</td>\n",
              "      <td>0.0117</td>\n",
              "      <td>0.0094</td>\n",
              "      <td>0.014</td>\n",
              "    </tr>\n",
              "    <tr>\n",
              "      <th>knn</th>\n",
              "      <td>K Neighbors Regressor</td>\n",
              "      <td>155.8514</td>\n",
              "      <td>7.665698e+04</td>\n",
              "      <td>216.7061</td>\n",
              "      <td>0.9685</td>\n",
              "      <td>0.0128</td>\n",
              "      <td>0.0094</td>\n",
              "      <td>0.064</td>\n",
              "    </tr>\n",
              "    <tr>\n",
              "      <th>et</th>\n",
              "      <td>Extra Trees Regressor</td>\n",
              "      <td>133.3112</td>\n",
              "      <td>1.009075e+05</td>\n",
              "      <td>217.9890</td>\n",
              "      <td>0.9571</td>\n",
              "      <td>0.0125</td>\n",
              "      <td>0.0078</td>\n",
              "      <td>0.356</td>\n",
              "    </tr>\n",
              "    <tr>\n",
              "      <th>rf</th>\n",
              "      <td>Random Forest Regressor</td>\n",
              "      <td>166.8960</td>\n",
              "      <td>1.044570e+05</td>\n",
              "      <td>243.2316</td>\n",
              "      <td>0.9565</td>\n",
              "      <td>0.0140</td>\n",
              "      <td>0.0099</td>\n",
              "      <td>0.412</td>\n",
              "    </tr>\n",
              "    <tr>\n",
              "      <th>ada</th>\n",
              "      <td>AdaBoost Regressor</td>\n",
              "      <td>201.4232</td>\n",
              "      <td>1.184344e+05</td>\n",
              "      <td>279.9591</td>\n",
              "      <td>0.9508</td>\n",
              "      <td>0.0166</td>\n",
              "      <td>0.0121</td>\n",
              "      <td>0.060</td>\n",
              "    </tr>\n",
              "    <tr>\n",
              "      <th>gbr</th>\n",
              "      <td>Gradient Boosting Regressor</td>\n",
              "      <td>172.4342</td>\n",
              "      <td>1.189500e+05</td>\n",
              "      <td>256.3422</td>\n",
              "      <td>0.9505</td>\n",
              "      <td>0.0148</td>\n",
              "      <td>0.0102</td>\n",
              "      <td>0.039</td>\n",
              "    </tr>\n",
              "    <tr>\n",
              "      <th>en</th>\n",
              "      <td>Elastic Net</td>\n",
              "      <td>171.3777</td>\n",
              "      <td>1.944360e+05</td>\n",
              "      <td>270.8562</td>\n",
              "      <td>0.9183</td>\n",
              "      <td>0.0165</td>\n",
              "      <td>0.0104</td>\n",
              "      <td>0.016</td>\n",
              "    </tr>\n",
              "    <tr>\n",
              "      <th>lasso</th>\n",
              "      <td>Lasso Regression</td>\n",
              "      <td>176.4042</td>\n",
              "      <td>2.076071e+05</td>\n",
              "      <td>277.0711</td>\n",
              "      <td>0.9129</td>\n",
              "      <td>0.0169</td>\n",
              "      <td>0.0107</td>\n",
              "      <td>0.015</td>\n",
              "    </tr>\n",
              "    <tr>\n",
              "      <th>ridge</th>\n",
              "      <td>Ridge Regression</td>\n",
              "      <td>191.7788</td>\n",
              "      <td>3.217729e+05</td>\n",
              "      <td>314.0815</td>\n",
              "      <td>0.8650</td>\n",
              "      <td>0.0193</td>\n",
              "      <td>0.0115</td>\n",
              "      <td>0.013</td>\n",
              "    </tr>\n",
              "    <tr>\n",
              "      <th>lar</th>\n",
              "      <td>Least Angle Regression</td>\n",
              "      <td>192.7876</td>\n",
              "      <td>3.290388e+05</td>\n",
              "      <td>316.2668</td>\n",
              "      <td>0.8619</td>\n",
              "      <td>0.0194</td>\n",
              "      <td>0.0116</td>\n",
              "      <td>0.015</td>\n",
              "    </tr>\n",
              "    <tr>\n",
              "      <th>lr</th>\n",
              "      <td>Linear Regression</td>\n",
              "      <td>192.8874</td>\n",
              "      <td>3.298618e+05</td>\n",
              "      <td>316.5049</td>\n",
              "      <td>0.8616</td>\n",
              "      <td>0.0194</td>\n",
              "      <td>0.0116</td>\n",
              "      <td>0.289</td>\n",
              "    </tr>\n",
              "    <tr>\n",
              "      <th>lightgbm</th>\n",
              "      <td>Light Gradient Boosting Machine</td>\n",
              "      <td>729.7306</td>\n",
              "      <td>8.493519e+05</td>\n",
              "      <td>877.2444</td>\n",
              "      <td>0.6682</td>\n",
              "      <td>0.0554</td>\n",
              "      <td>0.0459</td>\n",
              "      <td>0.065</td>\n",
              "    </tr>\n",
              "    <tr>\n",
              "      <th>par</th>\n",
              "      <td>Passive Aggressive Regressor</td>\n",
              "      <td>2406.7632</td>\n",
              "      <td>1.025653e+07</td>\n",
              "      <td>2826.8779</td>\n",
              "      <td>-2.4532</td>\n",
              "      <td>0.1692</td>\n",
              "      <td>0.1476</td>\n",
              "      <td>0.014</td>\n",
              "    </tr>\n",
              "    <tr>\n",
              "      <th>huber</th>\n",
              "      <td>Huber Regressor</td>\n",
              "      <td>845.8616</td>\n",
              "      <td>2.032680e+07</td>\n",
              "      <td>1724.8521</td>\n",
              "      <td>-7.5472</td>\n",
              "      <td>0.0603</td>\n",
              "      <td>0.0463</td>\n",
              "      <td>0.033</td>\n",
              "    </tr>\n",
              "  </tbody>\n",
              "</table>\n",
              "</div>"
            ],
            "text/plain": [
              "                                    Model        MAE           MSE       RMSE  \\\n",
              "llar         Lasso Least Angle Regression   145.9511  3.104708e+04   165.3248   \n",
              "omp           Orthogonal Matching Pursuit   145.3397  3.100081e+04   165.2584   \n",
              "br                         Bayesian Ridge   158.2389  4.890876e+04   194.4814   \n",
              "dt                Decision Tree Regressor   153.1501  5.463666e+04   197.4794   \n",
              "knn                 K Neighbors Regressor   155.8514  7.665698e+04   216.7061   \n",
              "et                  Extra Trees Regressor   133.3112  1.009075e+05   217.9890   \n",
              "rf                Random Forest Regressor   166.8960  1.044570e+05   243.2316   \n",
              "ada                    AdaBoost Regressor   201.4232  1.184344e+05   279.9591   \n",
              "gbr           Gradient Boosting Regressor   172.4342  1.189500e+05   256.3422   \n",
              "en                            Elastic Net   171.3777  1.944360e+05   270.8562   \n",
              "lasso                    Lasso Regression   176.4042  2.076071e+05   277.0711   \n",
              "ridge                    Ridge Regression   191.7788  3.217729e+05   314.0815   \n",
              "lar                Least Angle Regression   192.7876  3.290388e+05   316.2668   \n",
              "lr                      Linear Regression   192.8874  3.298618e+05   316.5049   \n",
              "lightgbm  Light Gradient Boosting Machine   729.7306  8.493519e+05   877.2444   \n",
              "par          Passive Aggressive Regressor  2406.7632  1.025653e+07  2826.8779   \n",
              "huber                     Huber Regressor   845.8616  2.032680e+07  1724.8521   \n",
              "\n",
              "              R2   RMSLE    MAPE  TT (Sec)  \n",
              "llar      0.9865  0.0104  0.0092     0.016  \n",
              "omp       0.9865  0.0104  0.0092     0.013  \n",
              "br        0.9789  0.0119  0.0098     0.013  \n",
              "dt        0.9754  0.0117  0.0094     0.014  \n",
              "knn       0.9685  0.0128  0.0094     0.064  \n",
              "et        0.9571  0.0125  0.0078     0.356  \n",
              "rf        0.9565  0.0140  0.0099     0.412  \n",
              "ada       0.9508  0.0166  0.0121     0.060  \n",
              "gbr       0.9505  0.0148  0.0102     0.039  \n",
              "en        0.9183  0.0165  0.0104     0.016  \n",
              "lasso     0.9129  0.0169  0.0107     0.015  \n",
              "ridge     0.8650  0.0193  0.0115     0.013  \n",
              "lar       0.8619  0.0194  0.0116     0.015  \n",
              "lr        0.8616  0.0194  0.0116     0.289  \n",
              "lightgbm  0.6682  0.0554  0.0459     0.065  \n",
              "par      -2.4532  0.1692  0.1476     0.014  \n",
              "huber    -7.5472  0.0603  0.0463     0.033  "
            ]
          },
          "metadata": {
            "tags": []
          }
        },
        {
          "output_type": "execute_result",
          "data": {
            "text/plain": [
              "LassoLars(alpha=1.0, copy_X=True, eps=2.220446049250313e-16, fit_intercept=True,\n",
              "          fit_path=True, jitter=None, max_iter=500, normalize=True,\n",
              "          positive=False, precompute='auto', random_state=5202, verbose=False)"
            ]
          },
          "metadata": {
            "tags": []
          },
          "execution_count": 22
        }
      ]
    },
    {
      "cell_type": "markdown",
      "metadata": {
        "id": "cArxNhvMaMvY"
      },
      "source": [
        "### **High R2 score is coming for Orthogonal Matching Pursuit model.**"
      ]
    },
    {
      "cell_type": "code",
      "metadata": {
        "colab": {
          "base_uri": "https://localhost:8080/",
          "height": 421,
          "referenced_widgets": [
            "8e84c0d97bb44497b4a752143c6de204",
            "671732a59e5b4634af9292d8b832f3cc",
            "5307e35e24e342a1bd70a667a096cdec"
          ]
        },
        "id": "GfKBVU9bdxsy",
        "outputId": "924b717b-ba8b-4aaf-f81d-4c2fd90cd522"
      },
      "source": [
        "# Creating best model out of different models\n",
        "best_model= create_model('omp')"
      ],
      "execution_count": 23,
      "outputs": [
        {
          "output_type": "display_data",
          "data": {
            "text/html": [
              "<div>\n",
              "<style scoped>\n",
              "    .dataframe tbody tr th:only-of-type {\n",
              "        vertical-align: middle;\n",
              "    }\n",
              "\n",
              "    .dataframe tbody tr th {\n",
              "        vertical-align: top;\n",
              "    }\n",
              "\n",
              "    .dataframe thead th {\n",
              "        text-align: right;\n",
              "    }\n",
              "</style>\n",
              "<table border=\"1\" class=\"dataframe\">\n",
              "  <thead>\n",
              "    <tr style=\"text-align: right;\">\n",
              "      <th></th>\n",
              "      <th>MAE</th>\n",
              "      <th>MSE</th>\n",
              "      <th>RMSE</th>\n",
              "      <th>R2</th>\n",
              "      <th>RMSLE</th>\n",
              "      <th>MAPE</th>\n",
              "    </tr>\n",
              "  </thead>\n",
              "  <tbody>\n",
              "    <tr>\n",
              "      <th>0</th>\n",
              "      <td>149.6704</td>\n",
              "      <td>26807.1948</td>\n",
              "      <td>163.7290</td>\n",
              "      <td>0.9882</td>\n",
              "      <td>0.0102</td>\n",
              "      <td>0.0092</td>\n",
              "    </tr>\n",
              "    <tr>\n",
              "      <th>1</th>\n",
              "      <td>185.5357</td>\n",
              "      <td>36824.2301</td>\n",
              "      <td>191.8964</td>\n",
              "      <td>0.9910</td>\n",
              "      <td>0.0122</td>\n",
              "      <td>0.0116</td>\n",
              "    </tr>\n",
              "    <tr>\n",
              "      <th>2</th>\n",
              "      <td>230.9504</td>\n",
              "      <td>105681.0469</td>\n",
              "      <td>325.0862</td>\n",
              "      <td>0.9461</td>\n",
              "      <td>0.0192</td>\n",
              "      <td>0.0145</td>\n",
              "    </tr>\n",
              "    <tr>\n",
              "      <th>3</th>\n",
              "      <td>81.9034</td>\n",
              "      <td>7020.0185</td>\n",
              "      <td>83.7856</td>\n",
              "      <td>0.9952</td>\n",
              "      <td>0.0055</td>\n",
              "      <td>0.0053</td>\n",
              "    </tr>\n",
              "    <tr>\n",
              "      <th>4</th>\n",
              "      <td>127.9384</td>\n",
              "      <td>18226.1190</td>\n",
              "      <td>135.0041</td>\n",
              "      <td>0.9942</td>\n",
              "      <td>0.0089</td>\n",
              "      <td>0.0082</td>\n",
              "    </tr>\n",
              "    <tr>\n",
              "      <th>5</th>\n",
              "      <td>140.3899</td>\n",
              "      <td>21023.8321</td>\n",
              "      <td>144.9960</td>\n",
              "      <td>0.9960</td>\n",
              "      <td>0.0093</td>\n",
              "      <td>0.0089</td>\n",
              "    </tr>\n",
              "    <tr>\n",
              "      <th>6</th>\n",
              "      <td>128.1798</td>\n",
              "      <td>22726.6457</td>\n",
              "      <td>150.7536</td>\n",
              "      <td>0.9904</td>\n",
              "      <td>0.0086</td>\n",
              "      <td>0.0074</td>\n",
              "    </tr>\n",
              "    <tr>\n",
              "      <th>7</th>\n",
              "      <td>115.7402</td>\n",
              "      <td>17041.7797</td>\n",
              "      <td>130.5442</td>\n",
              "      <td>0.9953</td>\n",
              "      <td>0.0080</td>\n",
              "      <td>0.0073</td>\n",
              "    </tr>\n",
              "    <tr>\n",
              "      <th>8</th>\n",
              "      <td>157.4778</td>\n",
              "      <td>35535.9659</td>\n",
              "      <td>188.5099</td>\n",
              "      <td>0.9737</td>\n",
              "      <td>0.0122</td>\n",
              "      <td>0.0099</td>\n",
              "    </tr>\n",
              "    <tr>\n",
              "      <th>9</th>\n",
              "      <td>135.6114</td>\n",
              "      <td>19121.2217</td>\n",
              "      <td>138.2795</td>\n",
              "      <td>0.9952</td>\n",
              "      <td>0.0097</td>\n",
              "      <td>0.0094</td>\n",
              "    </tr>\n",
              "    <tr>\n",
              "      <th>Mean</th>\n",
              "      <td>145.3397</td>\n",
              "      <td>31000.8054</td>\n",
              "      <td>165.2584</td>\n",
              "      <td>0.9865</td>\n",
              "      <td>0.0104</td>\n",
              "      <td>0.0092</td>\n",
              "    </tr>\n",
              "    <tr>\n",
              "      <th>SD</th>\n",
              "      <td>38.3767</td>\n",
              "      <td>26251.5831</td>\n",
              "      <td>60.7491</td>\n",
              "      <td>0.0149</td>\n",
              "      <td>0.0035</td>\n",
              "      <td>0.0024</td>\n",
              "    </tr>\n",
              "  </tbody>\n",
              "</table>\n",
              "</div>"
            ],
            "text/plain": [
              "           MAE          MSE      RMSE      R2   RMSLE    MAPE\n",
              "0     149.6704   26807.1948  163.7290  0.9882  0.0102  0.0092\n",
              "1     185.5357   36824.2301  191.8964  0.9910  0.0122  0.0116\n",
              "2     230.9504  105681.0469  325.0862  0.9461  0.0192  0.0145\n",
              "3      81.9034    7020.0185   83.7856  0.9952  0.0055  0.0053\n",
              "4     127.9384   18226.1190  135.0041  0.9942  0.0089  0.0082\n",
              "5     140.3899   21023.8321  144.9960  0.9960  0.0093  0.0089\n",
              "6     128.1798   22726.6457  150.7536  0.9904  0.0086  0.0074\n",
              "7     115.7402   17041.7797  130.5442  0.9953  0.0080  0.0073\n",
              "8     157.4778   35535.9659  188.5099  0.9737  0.0122  0.0099\n",
              "9     135.6114   19121.2217  138.2795  0.9952  0.0097  0.0094\n",
              "Mean  145.3397   31000.8054  165.2584  0.9865  0.0104  0.0092\n",
              "SD     38.3767   26251.5831   60.7491  0.0149  0.0035  0.0024"
            ]
          },
          "metadata": {
            "tags": []
          }
        }
      ]
    },
    {
      "cell_type": "code",
      "metadata": {
        "colab": {
          "base_uri": "https://localhost:8080/"
        },
        "id": "r7-6Iccz0Zby",
        "outputId": "9cf5bd4a-5752-4580-f937-ad0b72bc335c"
      },
      "source": [
        "# Showing best model\n",
        "best_model"
      ],
      "execution_count": 24,
      "outputs": [
        {
          "output_type": "execute_result",
          "data": {
            "text/plain": [
              "OrthogonalMatchingPursuit(fit_intercept=True, n_nonzero_coefs=None,\n",
              "                          normalize=True, precompute='auto', tol=None)"
            ]
          },
          "metadata": {
            "tags": []
          },
          "execution_count": 24
        }
      ]
    },
    {
      "cell_type": "code",
      "metadata": {
        "colab": {
          "base_uri": "https://localhost:8080/",
          "height": 421,
          "referenced_widgets": [
            "fddb4ebb5b6b4b91b1a4902ddd30450a",
            "8129c143a0ba4e5b9e218ab59b73086a",
            "7bd4025172b64794a047bb7ab3bc40bd"
          ]
        },
        "id": "iCLNmM_M9dcV",
        "outputId": "ab2bef75-174e-4d0b-df65-3c26b3cf96f8"
      },
      "source": [
        "# Tuning best model\n",
        "tune= tune_model(best_model)"
      ],
      "execution_count": 25,
      "outputs": [
        {
          "output_type": "display_data",
          "data": {
            "text/html": [
              "<div>\n",
              "<style scoped>\n",
              "    .dataframe tbody tr th:only-of-type {\n",
              "        vertical-align: middle;\n",
              "    }\n",
              "\n",
              "    .dataframe tbody tr th {\n",
              "        vertical-align: top;\n",
              "    }\n",
              "\n",
              "    .dataframe thead th {\n",
              "        text-align: right;\n",
              "    }\n",
              "</style>\n",
              "<table border=\"1\" class=\"dataframe\">\n",
              "  <thead>\n",
              "    <tr style=\"text-align: right;\">\n",
              "      <th></th>\n",
              "      <th>MAE</th>\n",
              "      <th>MSE</th>\n",
              "      <th>RMSE</th>\n",
              "      <th>R2</th>\n",
              "      <th>RMSLE</th>\n",
              "      <th>MAPE</th>\n",
              "    </tr>\n",
              "  </thead>\n",
              "  <tbody>\n",
              "    <tr>\n",
              "      <th>0</th>\n",
              "      <td>149.6704</td>\n",
              "      <td>26807.1948</td>\n",
              "      <td>163.7290</td>\n",
              "      <td>0.9882</td>\n",
              "      <td>0.0102</td>\n",
              "      <td>0.0092</td>\n",
              "    </tr>\n",
              "    <tr>\n",
              "      <th>1</th>\n",
              "      <td>185.5357</td>\n",
              "      <td>36824.2301</td>\n",
              "      <td>191.8964</td>\n",
              "      <td>0.9910</td>\n",
              "      <td>0.0122</td>\n",
              "      <td>0.0116</td>\n",
              "    </tr>\n",
              "    <tr>\n",
              "      <th>2</th>\n",
              "      <td>230.9504</td>\n",
              "      <td>105681.0469</td>\n",
              "      <td>325.0862</td>\n",
              "      <td>0.9461</td>\n",
              "      <td>0.0192</td>\n",
              "      <td>0.0145</td>\n",
              "    </tr>\n",
              "    <tr>\n",
              "      <th>3</th>\n",
              "      <td>81.9034</td>\n",
              "      <td>7020.0185</td>\n",
              "      <td>83.7856</td>\n",
              "      <td>0.9952</td>\n",
              "      <td>0.0055</td>\n",
              "      <td>0.0053</td>\n",
              "    </tr>\n",
              "    <tr>\n",
              "      <th>4</th>\n",
              "      <td>127.9384</td>\n",
              "      <td>18226.1190</td>\n",
              "      <td>135.0041</td>\n",
              "      <td>0.9942</td>\n",
              "      <td>0.0089</td>\n",
              "      <td>0.0082</td>\n",
              "    </tr>\n",
              "    <tr>\n",
              "      <th>5</th>\n",
              "      <td>140.3899</td>\n",
              "      <td>21023.8321</td>\n",
              "      <td>144.9960</td>\n",
              "      <td>0.9960</td>\n",
              "      <td>0.0093</td>\n",
              "      <td>0.0089</td>\n",
              "    </tr>\n",
              "    <tr>\n",
              "      <th>6</th>\n",
              "      <td>128.1798</td>\n",
              "      <td>22726.6457</td>\n",
              "      <td>150.7536</td>\n",
              "      <td>0.9904</td>\n",
              "      <td>0.0086</td>\n",
              "      <td>0.0074</td>\n",
              "    </tr>\n",
              "    <tr>\n",
              "      <th>7</th>\n",
              "      <td>115.7402</td>\n",
              "      <td>17041.7797</td>\n",
              "      <td>130.5442</td>\n",
              "      <td>0.9953</td>\n",
              "      <td>0.0080</td>\n",
              "      <td>0.0073</td>\n",
              "    </tr>\n",
              "    <tr>\n",
              "      <th>8</th>\n",
              "      <td>157.4778</td>\n",
              "      <td>35535.9659</td>\n",
              "      <td>188.5099</td>\n",
              "      <td>0.9737</td>\n",
              "      <td>0.0122</td>\n",
              "      <td>0.0099</td>\n",
              "    </tr>\n",
              "    <tr>\n",
              "      <th>9</th>\n",
              "      <td>135.6114</td>\n",
              "      <td>19121.2217</td>\n",
              "      <td>138.2795</td>\n",
              "      <td>0.9952</td>\n",
              "      <td>0.0097</td>\n",
              "      <td>0.0094</td>\n",
              "    </tr>\n",
              "    <tr>\n",
              "      <th>Mean</th>\n",
              "      <td>145.3397</td>\n",
              "      <td>31000.8054</td>\n",
              "      <td>165.2584</td>\n",
              "      <td>0.9865</td>\n",
              "      <td>0.0104</td>\n",
              "      <td>0.0092</td>\n",
              "    </tr>\n",
              "    <tr>\n",
              "      <th>SD</th>\n",
              "      <td>38.3767</td>\n",
              "      <td>26251.5831</td>\n",
              "      <td>60.7491</td>\n",
              "      <td>0.0149</td>\n",
              "      <td>0.0035</td>\n",
              "      <td>0.0024</td>\n",
              "    </tr>\n",
              "  </tbody>\n",
              "</table>\n",
              "</div>"
            ],
            "text/plain": [
              "           MAE          MSE      RMSE      R2   RMSLE    MAPE\n",
              "0     149.6704   26807.1948  163.7290  0.9882  0.0102  0.0092\n",
              "1     185.5357   36824.2301  191.8964  0.9910  0.0122  0.0116\n",
              "2     230.9504  105681.0469  325.0862  0.9461  0.0192  0.0145\n",
              "3      81.9034    7020.0185   83.7856  0.9952  0.0055  0.0053\n",
              "4     127.9384   18226.1190  135.0041  0.9942  0.0089  0.0082\n",
              "5     140.3899   21023.8321  144.9960  0.9960  0.0093  0.0089\n",
              "6     128.1798   22726.6457  150.7536  0.9904  0.0086  0.0074\n",
              "7     115.7402   17041.7797  130.5442  0.9953  0.0080  0.0073\n",
              "8     157.4778   35535.9659  188.5099  0.9737  0.0122  0.0099\n",
              "9     135.6114   19121.2217  138.2795  0.9952  0.0097  0.0094\n",
              "Mean  145.3397   31000.8054  165.2584  0.9865  0.0104  0.0092\n",
              "SD     38.3767   26251.5831   60.7491  0.0149  0.0035  0.0024"
            ]
          },
          "metadata": {
            "tags": []
          }
        }
      ]
    },
    {
      "cell_type": "code",
      "metadata": {
        "colab": {
          "base_uri": "https://localhost:8080/",
          "height": 376,
          "referenced_widgets": [
            "1bf1950485704927ad7baf7655da1dd3",
            "4dcc97c98a6c48c3b20adc1587dc8d32",
            "50004b9a871243729fba49d4969890dc"
          ]
        },
        "id": "_W5e7wht96B5",
        "outputId": "08304663-ebe2-4422-f8d9-752502b26612"
      },
      "source": [
        "# Plotting the tuned model\n",
        "plot_model(tune)"
      ],
      "execution_count": 26,
      "outputs": [
        {
          "output_type": "display_data",
          "data": {
            "image/png": "[encoded data removed]",
            "text/plain": [
              "<Figure size 576x396 with 2 Axes>"
            ]
          },
          "metadata": {
            "tags": []
          }
        }
      ]
    },
    {
      "cell_type": "code",
      "metadata": {
        "colab": {
          "base_uri": "https://localhost:8080/",
          "height": 266,
          "referenced_widgets": [
            "0dd6af985bec444fbf602e7d636f1cee",
            "16b1b14f79dc478c95f4d29a6a247338",
            "e9fa6eef63784f2cb27fc019cdf129d1",
            "83066162604d42cd85da64761a832996",
            "bc79b9987d2745e1afca67c526aefe7b",
            "11bf060bbbfe464aa4adce96a41f6a84",
            "208d7697f25045ee9b07646aed02779d",
            "30857c11f75a4a2aa910106d1900bd54",
            "d193197de2a649409700261e61951a7f",
            "11615d489e834d788a2662f7ab496376"
          ]
        },
        "id": "dQRyJtLs959I",
        "outputId": "eef78109-75e6-49d7-d9a1-582f9c086541"
      },
      "source": [
        "# Evaluating the tuned model\n",
        "evaluate_model(tune)"
      ],
      "execution_count": 27,
      "outputs": [
        {
          "output_type": "display_data",
          "data": {
            "application/vnd.jupyter.widget-view+json": {
              "model_id": "0dd6af985bec444fbf602e7d636f1cee",
              "version_minor": 0,
              "version_major": 2
            },
            "text/plain": [
              "interactive(children=(ToggleButtons(description='Plot Type:', icons=('',), options=(('Hyperparameters', 'param…"
            ]
          },
          "metadata": {
            "tags": []
          }
        }
      ]
    },
    {
      "cell_type": "code",
      "metadata": {
        "colab": {
          "base_uri": "https://localhost:8080/",
          "height": 80
        },
        "id": "CdqCn9K_951O",
        "outputId": "27c5fe89-a6a7-49f3-c7ce-b29e68067cec"
      },
      "source": [
        "# Taking out predictions from the tuned model\n",
        "predictions= predict_model(tune)"
      ],
      "execution_count": 28,
      "outputs": [
        {
          "output_type": "display_data",
          "data": {
            "text/html": [
              "<div>\n",
              "<style scoped>\n",
              "    .dataframe tbody tr th:only-of-type {\n",
              "        vertical-align: middle;\n",
              "    }\n",
              "\n",
              "    .dataframe tbody tr th {\n",
              "        vertical-align: top;\n",
              "    }\n",
              "\n",
              "    .dataframe thead th {\n",
              "        text-align: right;\n",
              "    }\n",
              "</style>\n",
              "<table border=\"1\" class=\"dataframe\">\n",
              "  <thead>\n",
              "    <tr style=\"text-align: right;\">\n",
              "      <th></th>\n",
              "      <th>Model</th>\n",
              "      <th>MAE</th>\n",
              "      <th>MSE</th>\n",
              "      <th>RMSE</th>\n",
              "      <th>R2</th>\n",
              "      <th>RMSLE</th>\n",
              "      <th>MAPE</th>\n",
              "    </tr>\n",
              "  </thead>\n",
              "  <tbody>\n",
              "    <tr>\n",
              "      <th>0</th>\n",
              "      <td>Orthogonal Matching Pursuit</td>\n",
              "      <td>121.3324</td>\n",
              "      <td>18930.083</td>\n",
              "      <td>137.5866</td>\n",
              "      <td>0.9933</td>\n",
              "      <td>0.009</td>\n",
              "      <td>0.0078</td>\n",
              "    </tr>\n",
              "  </tbody>\n",
              "</table>\n",
              "</div>"
            ],
            "text/plain": [
              "                         Model       MAE        MSE  ...      R2  RMSLE    MAPE\n",
              "0  Orthogonal Matching Pursuit  121.3324  18930.083  ...  0.9933  0.009  0.0078\n",
              "\n",
              "[1 rows x 7 columns]"
            ]
          },
          "metadata": {
            "tags": []
          }
        }
      ]
    },
    {
      "cell_type": "code",
      "metadata": {
        "colab": {
          "base_uri": "https://localhost:8080/",
          "height": 855
        },
        "id": "Tm4vGNQH95vJ",
        "outputId": "887adf88-6d29-4e68-f054-510185f343fb"
      },
      "source": [
        "# Showing the predictions sorted with respect to Target value\n",
        "predictions.sort_values(by= 'Target')"
      ],
      "execution_count": 29,
      "outputs": [
        {
          "output_type": "execute_result",
          "data": {
            "text/html": [
              "<div>\n",
              "<style scoped>\n",
              "    .dataframe tbody tr th:only-of-type {\n",
              "        vertical-align: middle;\n",
              "    }\n",
              "\n",
              "    .dataframe tbody tr th {\n",
              "        vertical-align: top;\n",
              "    }\n",
              "\n",
              "    .dataframe thead th {\n",
              "        text-align: right;\n",
              "    }\n",
              "</style>\n",
              "<table border=\"1\" class=\"dataframe\">\n",
              "  <thead>\n",
              "    <tr style=\"text-align: right;\">\n",
              "      <th></th>\n",
              "      <th>gnp</th>\n",
              "      <th>gdpdef</th>\n",
              "      <th>gdp</th>\n",
              "      <th>Target</th>\n",
              "      <th>Label</th>\n",
              "    </tr>\n",
              "  </thead>\n",
              "  <tbody>\n",
              "    <tr>\n",
              "      <th>18</th>\n",
              "      <td>10283.390625</td>\n",
              "      <td>77.806999</td>\n",
              "      <td>10247.719727</td>\n",
              "      <td>13170.749023</td>\n",
              "      <td>13259.939657</td>\n",
              "    </tr>\n",
              "    <tr>\n",
              "      <th>9</th>\n",
              "      <td>10623.039062</td>\n",
              "      <td>79.996002</td>\n",
              "      <td>10598.019531</td>\n",
              "      <td>13248.141602</td>\n",
              "      <td>13438.022953</td>\n",
              "    </tr>\n",
              "    <tr>\n",
              "      <th>11</th>\n",
              "      <td>11217.689453</td>\n",
              "      <td>82.044998</td>\n",
              "      <td>11174.128906</td>\n",
              "      <td>13619.433594</td>\n",
              "      <td>13730.901951</td>\n",
              "    </tr>\n",
              "    <tr>\n",
              "      <th>8</th>\n",
              "      <td>11851.791992</td>\n",
              "      <td>83.306000</td>\n",
              "      <td>11772.234375</td>\n",
              "      <td>14131.378906</td>\n",
              "      <td>14034.963190</td>\n",
              "    </tr>\n",
              "    <tr>\n",
              "      <th>19</th>\n",
              "      <td>12021.455078</td>\n",
              "      <td>83.894997</td>\n",
              "      <td>11923.447266</td>\n",
              "      <td>14212.339844</td>\n",
              "      <td>14111.835885</td>\n",
              "    </tr>\n",
              "    <tr>\n",
              "      <th>16</th>\n",
              "      <td>12854.364258</td>\n",
              "      <td>86.453003</td>\n",
              "      <td>12767.286133</td>\n",
              "      <td>14767.845703</td>\n",
              "      <td>14540.821582</td>\n",
              "    </tr>\n",
              "    <tr>\n",
              "      <th>10</th>\n",
              "      <td>13225.667969</td>\n",
              "      <td>87.874001</td>\n",
              "      <td>13142.641602</td>\n",
              "      <td>14956.291016</td>\n",
              "      <td>14731.642525</td>\n",
              "    </tr>\n",
              "    <tr>\n",
              "      <th>1</th>\n",
              "      <td>14504.000977</td>\n",
              "      <td>94.851997</td>\n",
              "      <td>14381.236328</td>\n",
              "      <td>15161.772461</td>\n",
              "      <td>15361.311818</td>\n",
              "    </tr>\n",
              "    <tr>\n",
              "      <th>14</th>\n",
              "      <td>14631.306641</td>\n",
              "      <td>94.954002</td>\n",
              "      <td>14448.881836</td>\n",
              "      <td>15216.647461</td>\n",
              "      <td>15395.701032</td>\n",
              "    </tr>\n",
              "    <tr>\n",
              "      <th>20</th>\n",
              "      <td>13802.876953</td>\n",
              "      <td>90.000000</td>\n",
              "      <td>13753.423828</td>\n",
              "      <td>15281.525391</td>\n",
              "      <td>15042.148298</td>\n",
              "    </tr>\n",
              "    <tr>\n",
              "      <th>12</th>\n",
              "      <td>14704.022461</td>\n",
              "      <td>95.065002</td>\n",
              "      <td>14608.208008</td>\n",
              "      <td>15366.607422</td>\n",
              "      <td>15476.698307</td>\n",
              "    </tr>\n",
              "    <tr>\n",
              "      <th>0</th>\n",
              "      <td>14463.277344</td>\n",
              "      <td>92.453003</td>\n",
              "      <td>14402.082031</td>\n",
              "      <td>15577.779297</td>\n",
              "      <td>15371.909230</td>\n",
              "    </tr>\n",
              "    <tr>\n",
              "      <th>17</th>\n",
              "      <td>15339.710938</td>\n",
              "      <td>96.281998</td>\n",
              "      <td>15141.605469</td>\n",
              "      <td>15726.282227</td>\n",
              "      <td>15747.863681</td>\n",
              "    </tr>\n",
              "    <tr>\n",
              "      <th>5</th>\n",
              "      <td>16315.076172</td>\n",
              "      <td>99.313004</td>\n",
              "      <td>16068.824219</td>\n",
              "      <td>16179.967773</td>\n",
              "      <td>16219.237539</td>\n",
              "    </tr>\n",
              "    <tr>\n",
              "      <th>13</th>\n",
              "      <td>16548.814453</td>\n",
              "      <td>100.230003</td>\n",
              "      <td>16319.540039</td>\n",
              "      <td>16282.151367</td>\n",
              "      <td>16346.694931</td>\n",
              "    </tr>\n",
              "    <tr>\n",
              "      <th>4</th>\n",
              "      <td>16647.722656</td>\n",
              "      <td>100.737999</td>\n",
              "      <td>16420.386719</td>\n",
              "      <td>16300.035156</td>\n",
              "      <td>16397.962756</td>\n",
              "    </tr>\n",
              "    <tr>\n",
              "      <th>15</th>\n",
              "      <td>16928.625000</td>\n",
              "      <td>101.428001</td>\n",
              "      <td>16699.550781</td>\n",
              "      <td>16464.402344</td>\n",
              "      <td>16539.882493</td>\n",
              "    </tr>\n",
              "    <tr>\n",
              "      <th>23</th>\n",
              "      <td>17995.300781</td>\n",
              "      <td>103.976997</td>\n",
              "      <td>17743.226562</td>\n",
              "      <td>17064.615234</td>\n",
              "      <td>17070.460072</td>\n",
              "    </tr>\n",
              "    <tr>\n",
              "      <th>21</th>\n",
              "      <td>18405.861328</td>\n",
              "      <td>104.677002</td>\n",
              "      <td>18193.707031</td>\n",
              "      <td>17380.875000</td>\n",
              "      <td>17299.472607</td>\n",
              "    </tr>\n",
              "    <tr>\n",
              "      <th>24</th>\n",
              "      <td>18640.558594</td>\n",
              "      <td>104.894997</td>\n",
              "      <td>18425.306641</td>\n",
              "      <td>17565.464844</td>\n",
              "      <td>17417.211815</td>\n",
              "    </tr>\n",
              "    <tr>\n",
              "      <th>6</th>\n",
              "      <td>18995.777344</td>\n",
              "      <td>105.929001</td>\n",
              "      <td>18775.458984</td>\n",
              "      <td>17724.488281</td>\n",
              "      <td>17595.220145</td>\n",
              "    </tr>\n",
              "    <tr>\n",
              "      <th>22</th>\n",
              "      <td>19427.462891</td>\n",
              "      <td>107.025002</td>\n",
              "      <td>19153.912109</td>\n",
              "      <td>17896.623047</td>\n",
              "      <td>17787.615855</td>\n",
              "    </tr>\n",
              "    <tr>\n",
              "      <th>3</th>\n",
              "      <td>20219.955078</td>\n",
              "      <td>108.669998</td>\n",
              "      <td>19882.964844</td>\n",
              "      <td>18296.685547</td>\n",
              "      <td>18158.247273</td>\n",
              "    </tr>\n",
              "    <tr>\n",
              "      <th>2</th>\n",
              "      <td>20460.314453</td>\n",
              "      <td>109.261002</td>\n",
              "      <td>20143.716797</td>\n",
              "      <td>18436.261719</td>\n",
              "      <td>18290.806773</td>\n",
              "    </tr>\n",
              "    <tr>\n",
              "      <th>7</th>\n",
              "      <td>21254.333984</td>\n",
              "      <td>111.514000</td>\n",
              "      <td>21001.591797</td>\n",
              "      <td>18833.195312</td>\n",
              "      <td>18726.928075</td>\n",
              "    </tr>\n",
              "    <tr>\n",
              "      <th>25</th>\n",
              "      <td>21721.267578</td>\n",
              "      <td>113.346001</td>\n",
              "      <td>21481.367188</td>\n",
              "      <td>18951.992188</td>\n",
              "      <td>18970.833385</td>\n",
              "    </tr>\n",
              "  </tbody>\n",
              "</table>\n",
              "</div>"
            ],
            "text/plain": [
              "             gnp      gdpdef           gdp        Target         Label\n",
              "18  10283.390625   77.806999  10247.719727  13170.749023  13259.939657\n",
              "9   10623.039062   79.996002  10598.019531  13248.141602  13438.022953\n",
              "11  11217.689453   82.044998  11174.128906  13619.433594  13730.901951\n",
              "8   11851.791992   83.306000  11772.234375  14131.378906  14034.963190\n",
              "19  12021.455078   83.894997  11923.447266  14212.339844  14111.835885\n",
              "16  12854.364258   86.453003  12767.286133  14767.845703  14540.821582\n",
              "10  13225.667969   87.874001  13142.641602  14956.291016  14731.642525\n",
              "1   14504.000977   94.851997  14381.236328  15161.772461  15361.311818\n",
              "14  14631.306641   94.954002  14448.881836  15216.647461  15395.701032\n",
              "20  13802.876953   90.000000  13753.423828  15281.525391  15042.148298\n",
              "12  14704.022461   95.065002  14608.208008  15366.607422  15476.698307\n",
              "0   14463.277344   92.453003  14402.082031  15577.779297  15371.909230\n",
              "17  15339.710938   96.281998  15141.605469  15726.282227  15747.863681\n",
              "5   16315.076172   99.313004  16068.824219  16179.967773  16219.237539\n",
              "13  16548.814453  100.230003  16319.540039  16282.151367  16346.694931\n",
              "4   16647.722656  100.737999  16420.386719  16300.035156  16397.962756\n",
              "15  16928.625000  101.428001  16699.550781  16464.402344  16539.882493\n",
              "23  17995.300781  103.976997  17743.226562  17064.615234  17070.460072\n",
              "21  18405.861328  104.677002  18193.707031  17380.875000  17299.472607\n",
              "24  18640.558594  104.894997  18425.306641  17565.464844  17417.211815\n",
              "6   18995.777344  105.929001  18775.458984  17724.488281  17595.220145\n",
              "22  19427.462891  107.025002  19153.912109  17896.623047  17787.615855\n",
              "3   20219.955078  108.669998  19882.964844  18296.685547  18158.247273\n",
              "2   20460.314453  109.261002  20143.716797  18436.261719  18290.806773\n",
              "7   21254.333984  111.514000  21001.591797  18833.195312  18726.928075\n",
              "25  21721.267578  113.346001  21481.367188  18951.992188  18970.833385"
            ]
          },
          "metadata": {
            "tags": []
          },
          "execution_count": 29
        }
      ]
    },
    {
      "cell_type": "code",
      "metadata": {
        "id": "CGvzLymZys2O",
        "colab": {
          "base_uri": "https://localhost:8080/"
        },
        "outputId": "ce795046-3e85-416d-bafe-1496cad165bc"
      },
      "source": [
        "# Finalizing the tuned model\n",
        "finalize_model(tune)"
      ],
      "execution_count": 30,
      "outputs": [
        {
          "output_type": "execute_result",
          "data": {
            "text/plain": [
              "OrthogonalMatchingPursuit(fit_intercept=True, n_nonzero_coefs=1, normalize=True,\n",
              "                          precompute='auto', tol=None)"
            ]
          },
          "metadata": {
            "tags": []
          },
          "execution_count": 30
        }
      ]
    },
    {
      "cell_type": "code",
      "metadata": {
        "id": "awBQHLkpysyG",
        "colab": {
          "base_uri": "https://localhost:8080/"
        },
        "outputId": "fff37f53-0254-4dda-8ed5-695b3cbe16c9"
      },
      "source": [
        "# Saving the tuned model\n",
        "save_model(tune, 'Fred_quarterly')"
      ],
      "execution_count": 31,
      "outputs": [
        {
          "output_type": "stream",
          "text": [
            "Transformation Pipeline and Model Successfully Saved\n"
          ],
          "name": "stdout"
        },
        {
          "output_type": "execute_result",
          "data": {
            "text/plain": [
              "(Pipeline(memory=None,\n",
              "          steps=[('dtypes',\n",
              "                  DataTypes_Auto_infer(categorical_features=[],\n",
              "                                       display_types=True, features_todrop=[],\n",
              "                                       id_columns=[], ml_usecase='regression',\n",
              "                                       numerical_features=[], target='Target',\n",
              "                                       time_features=[])),\n",
              "                 ('imputer',\n",
              "                  Simple_Imputer(categorical_strategy='not_available',\n",
              "                                 fill_value_categorical=None,\n",
              "                                 fill_value_numerical=None,\n",
              "                                 numeric_strategy=...\n",
              "                 ('dummy', Dummify(target='Target')),\n",
              "                 ('fix_perfect', Remove_100(target='Target')),\n",
              "                 ('clean_names', Clean_Colum_Names()),\n",
              "                 ('feature_select', 'passthrough'), ('fix_multi', 'passthrough'),\n",
              "                 ('dfs', 'passthrough'), ('pca', 'passthrough'),\n",
              "                 ['trained_model',\n",
              "                  OrthogonalMatchingPursuit(fit_intercept=True,\n",
              "                                            n_nonzero_coefs=1, normalize=True,\n",
              "                                            precompute='auto', tol=None)]],\n",
              "          verbose=False), 'Fred_quarterly.pkl')"
            ]
          },
          "metadata": {
            "tags": []
          },
          "execution_count": 31
        }
      ]
    },
    {
      "cell_type": "code",
      "metadata": {
        "id": "tWhZI-qoyswt",
        "colab": {
          "base_uri": "https://localhost:8080/"
        },
        "outputId": "ee25ddf3-888f-4583-e934-640bda3ffe31"
      },
      "source": [
        "# Predicting values from the tuned best model \n",
        "# Entering gnp, gdpdef and gdp values to predict Target values\n",
        "input_Q1= [22545, 116.42, 22335]\n",
        "input_Q2= [22812, 116.83, 22750]\n",
        "input_Q3= [22998, 117.21, 22986]\n",
        "input_Q4= [23187, 117.59, 23208]\n",
        "input_Q5= [23450, 117.81, 23490]\n",
        "input_Q6= [23896, 118.09, 23756]\n",
        "predicted_target_Q1= tune.predict([input_Q1])\n",
        "predicted_target_Q2= tune.predict([input_Q2])\n",
        "predicted_target_Q3= tune.predict([input_Q3])\n",
        "predicted_target_Q4= tune.predict([input_Q4])\n",
        "predicted_target_Q5= tune.predict([input_Q5])\n",
        "predicted_target_Q6= tune.predict([input_Q6])\n",
        "print(colored('Predicted target value for first quarter :', 'blue', attrs= ['bold']), predicted_target_Q1)\n",
        "print(colored('Predicted target value for second quarter :', 'blue', attrs= ['bold']), predicted_target_Q2)\n",
        "print(colored('Predicted target value for third quarter :', 'blue', attrs= ['bold']), predicted_target_Q3)\n",
        "print(colored('Predicted target value for fourth quarter :', 'blue', attrs= ['bold']), predicted_target_Q4)\n",
        "print(colored('Predicted target value for fifth quarter :', 'blue', attrs= ['bold']), predicted_target_Q5)\n",
        "print(colored('Predicted target value for sixth quarter :', 'blue', attrs= ['bold']), predicted_target_Q6)"
      ],
      "execution_count": 32,
      "outputs": [
        {
          "output_type": "stream",
          "text": [
            "\u001b[1m\u001b[34mPredicted target value for first quarter :\u001b[0m [19404.79806989]\n",
            "\u001b[1m\u001b[34mPredicted target value for second quarter :\u001b[0m [19615.77325898]\n",
            "\u001b[1m\u001b[34mPredicted target value for third quarter :\u001b[0m [19735.74951109]\n",
            "\u001b[1m\u001b[34mPredicted target value for fourth quarter :\u001b[0m [19848.6085279]\n",
            "\u001b[1m\u001b[34mPredicted target value for fifth quarter :\u001b[0m [19991.96998169]\n",
            "\u001b[1m\u001b[34mPredicted target value for sixth quarter :\u001b[0m [20127.19745229]\n"
          ],
          "name": "stdout"
        }
      ]
    },
    {
      "cell_type": "code",
      "metadata": {
        "id": "R1Ta8rOpysmw"
      },
      "source": [
        ""
      ],
      "execution_count": 32,
      "outputs": []
    },
    {
      "cell_type": "code",
      "metadata": {
        "id": "Ouzk1e7AyslW"
      },
      "source": [
        ""
      ],
      "execution_count": 32,
      "outputs": []
    },
    {
      "cell_type": "code",
      "metadata": {
        "id": "odZfBKkvyshH"
      },
      "source": [
        ""
      ],
      "execution_count": 32,
      "outputs": []
    },
    {
      "cell_type": "code",
      "metadata": {
        "id": "eyr1dGILysft"
      },
      "source": [
        ""
      ],
      "execution_count": 32,
      "outputs": []
    },
    {
      "cell_type": "code",
      "metadata": {
        "id": "6pQcMO-Ydxsz"
      },
      "source": [
        ""
      ],
      "execution_count": 32,
      "outputs": []
    }
  ]
}