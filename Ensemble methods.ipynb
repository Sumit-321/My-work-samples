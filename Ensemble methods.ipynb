{
 "cells": [
  {
   "cell_type": "code",
   "execution_count": 1,
   "metadata": {},
   "outputs": [],
   "source": [
    "# Importing libraries\n",
    "import pandas\n",
    "from sklearn import model_selection\n",
    "from sklearn.model_selection import train_test_split\n",
    "from sklearn.model_selection import KFold\n",
    "from sklearn.linear_model import LogisticRegression\n",
    "from sklearn.tree import DecisionTreeClassifier\n",
    "from sklearn.metrics import accuracy_score, confusion_matrix, classification_report\n",
    "from sklearn.ensemble import AdaBoostClassifier\n",
    "from xgboost import XGBClassifier\n",
    "from sklearn.ensemble import RandomForestClassifier\n",
    "from sklearn.model_selection import cross_val_score\n",
    "from sklearn import svm\n",
    "import warnings\n",
    "warnings.filterwarnings(\"ignore\")"
   ]
  },
  {
   "cell_type": "code",
   "execution_count": 2,
   "metadata": {},
   "outputs": [
    {
     "data": {
      "text/plain": [
       "(768, 9)"
      ]
     },
     "execution_count": 2,
     "metadata": {},
     "output_type": "execute_result"
    }
   ],
   "source": [
    "# Importing dataset\n",
    "data= pandas.read_csv('D:\\Files\\Data Science\\Anaconda\\Sample csv files\\Diabetes.csv')\n",
    "# Data shuffling\n",
    "data= data.sample(frac= 1)\n",
    "# Shape of dataset\n",
    "data.shape"
   ]
  },
  {
   "cell_type": "code",
   "execution_count": 3,
   "metadata": {},
   "outputs": [
    {
     "data": {
      "text/html": [
       "<div>\n",
       "<style scoped>\n",
       "    .dataframe tbody tr th:only-of-type {\n",
       "        vertical-align: middle;\n",
       "    }\n",
       "\n",
       "    .dataframe tbody tr th {\n",
       "        vertical-align: top;\n",
       "    }\n",
       "\n",
       "    .dataframe thead th {\n",
       "        text-align: right;\n",
       "    }\n",
       "</style>\n",
       "<table border=\"1\" class=\"dataframe\">\n",
       "  <thead>\n",
       "    <tr style=\"text-align: right;\">\n",
       "      <th></th>\n",
       "      <th>Pregnancies</th>\n",
       "      <th>Glucose</th>\n",
       "      <th>BloodPressure</th>\n",
       "      <th>SkinThickness</th>\n",
       "      <th>Insulin</th>\n",
       "      <th>BMI</th>\n",
       "      <th>DiabetesPedigreeFunction</th>\n",
       "      <th>Age</th>\n",
       "      <th>Outcome</th>\n",
       "    </tr>\n",
       "  </thead>\n",
       "  <tbody>\n",
       "    <tr>\n",
       "      <th>540</th>\n",
       "      <td>8</td>\n",
       "      <td>100</td>\n",
       "      <td>74</td>\n",
       "      <td>40</td>\n",
       "      <td>215</td>\n",
       "      <td>39.4</td>\n",
       "      <td>0.661</td>\n",
       "      <td>43</td>\n",
       "      <td>Yes</td>\n",
       "    </tr>\n",
       "    <tr>\n",
       "      <th>659</th>\n",
       "      <td>3</td>\n",
       "      <td>80</td>\n",
       "      <td>82</td>\n",
       "      <td>31</td>\n",
       "      <td>70</td>\n",
       "      <td>34.2</td>\n",
       "      <td>1.292</td>\n",
       "      <td>27</td>\n",
       "      <td>Yes</td>\n",
       "    </tr>\n",
       "    <tr>\n",
       "      <th>678</th>\n",
       "      <td>3</td>\n",
       "      <td>121</td>\n",
       "      <td>52</td>\n",
       "      <td>0</td>\n",
       "      <td>0</td>\n",
       "      <td>36.0</td>\n",
       "      <td>0.127</td>\n",
       "      <td>25</td>\n",
       "      <td>Yes</td>\n",
       "    </tr>\n",
       "    <tr>\n",
       "      <th>5</th>\n",
       "      <td>5</td>\n",
       "      <td>116</td>\n",
       "      <td>74</td>\n",
       "      <td>0</td>\n",
       "      <td>0</td>\n",
       "      <td>25.6</td>\n",
       "      <td>0.201</td>\n",
       "      <td>30</td>\n",
       "      <td>No</td>\n",
       "    </tr>\n",
       "    <tr>\n",
       "      <th>711</th>\n",
       "      <td>5</td>\n",
       "      <td>126</td>\n",
       "      <td>78</td>\n",
       "      <td>27</td>\n",
       "      <td>22</td>\n",
       "      <td>29.6</td>\n",
       "      <td>0.439</td>\n",
       "      <td>40</td>\n",
       "      <td>No</td>\n",
       "    </tr>\n",
       "  </tbody>\n",
       "</table>\n",
       "</div>"
      ],
      "text/plain": [
       "     Pregnancies  Glucose  BloodPressure  SkinThickness  Insulin   BMI  \\\n",
       "540            8      100             74             40      215  39.4   \n",
       "659            3       80             82             31       70  34.2   \n",
       "678            3      121             52              0        0  36.0   \n",
       "5              5      116             74              0        0  25.6   \n",
       "711            5      126             78             27       22  29.6   \n",
       "\n",
       "     DiabetesPedigreeFunction  Age Outcome  \n",
       "540                     0.661   43     Yes  \n",
       "659                     1.292   27     Yes  \n",
       "678                     0.127   25     Yes  \n",
       "5                       0.201   30      No  \n",
       "711                     0.439   40      No  "
      ]
     },
     "execution_count": 3,
     "metadata": {},
     "output_type": "execute_result"
    }
   ],
   "source": [
    "# Viewing our dataframe\n",
    "data.head(5)"
   ]
  },
  {
   "cell_type": "code",
   "execution_count": 4,
   "metadata": {},
   "outputs": [
    {
     "data": {
      "text/plain": [
       "Index(['Pregnancies', 'Glucose', 'BloodPressure', 'SkinThickness', 'Insulin',\n",
       "       'BMI', 'DiabetesPedigreeFunction', 'Age', 'Outcome'],\n",
       "      dtype='object')"
      ]
     },
     "execution_count": 4,
     "metadata": {},
     "output_type": "execute_result"
    }
   ],
   "source": [
    "# Names of columns in dataset\n",
    "data.columns"
   ]
  },
  {
   "cell_type": "code",
   "execution_count": 5,
   "metadata": {},
   "outputs": [
    {
     "data": {
      "text/plain": [
       "Pregnancies                 0\n",
       "Glucose                     0\n",
       "BloodPressure               0\n",
       "SkinThickness               0\n",
       "Insulin                     0\n",
       "BMI                         0\n",
       "DiabetesPedigreeFunction    0\n",
       "Age                         0\n",
       "Outcome                     0\n",
       "dtype: int64"
      ]
     },
     "execution_count": 5,
     "metadata": {},
     "output_type": "execute_result"
    }
   ],
   "source": [
    "# Checking null values in dataset\n",
    "data.isnull().sum()"
   ]
  },
  {
   "cell_type": "code",
   "execution_count": 6,
   "metadata": {},
   "outputs": [
    {
     "data": {
      "text/plain": [
       "0"
      ]
     },
     "execution_count": 6,
     "metadata": {},
     "output_type": "execute_result"
    }
   ],
   "source": [
    "# Checking duplicate values\n",
    "data.duplicated().sum()"
   ]
  },
  {
   "cell_type": "code",
   "execution_count": 7,
   "metadata": {},
   "outputs": [
    {
     "name": "stdout",
     "output_type": "stream",
     "text": [
      "<class 'pandas.core.frame.DataFrame'>\n",
      "Int64Index: 768 entries, 540 to 761\n",
      "Data columns (total 9 columns):\n",
      " #   Column                    Non-Null Count  Dtype  \n",
      "---  ------                    --------------  -----  \n",
      " 0   Pregnancies               768 non-null    int64  \n",
      " 1   Glucose                   768 non-null    int64  \n",
      " 2   BloodPressure             768 non-null    int64  \n",
      " 3   SkinThickness             768 non-null    int64  \n",
      " 4   Insulin                   768 non-null    int64  \n",
      " 5   BMI                       768 non-null    float64\n",
      " 6   DiabetesPedigreeFunction  768 non-null    float64\n",
      " 7   Age                       768 non-null    int64  \n",
      " 8   Outcome                   768 non-null    object \n",
      "dtypes: float64(2), int64(6), object(1)\n",
      "memory usage: 60.0+ KB\n"
     ]
    }
   ],
   "source": [
    "data.info()"
   ]
  },
  {
   "cell_type": "code",
   "execution_count": 8,
   "metadata": {},
   "outputs": [],
   "source": [
    "x= data[['Pregnancies', 'Glucose', 'BloodPressure', 'SkinThickness', 'Insulin',\n",
    "       'BMI', 'DiabetesPedigreeFunction', 'Age']]\n",
    "y= data[[ 'Outcome']]"
   ]
  },
  {
   "cell_type": "code",
   "execution_count": 9,
   "metadata": {},
   "outputs": [
    {
     "name": "stdout",
     "output_type": "stream",
     "text": [
      "Accuracy of Logistic regression =  73.377 % .\n",
      "Confusion Matrix of Logistic regression =  \n",
      " [[90 28]\n",
      " [13 23]]\n",
      "Classification report of Logistic regression =  \n",
      "               precision    recall  f1-score   support\n",
      "\n",
      "          No       0.87      0.76      0.81       118\n",
      "         Yes       0.45      0.64      0.53        36\n",
      "\n",
      "    accuracy                           0.73       154\n",
      "   macro avg       0.66      0.70      0.67       154\n",
      "weighted avg       0.77      0.73      0.75       154\n",
      "\n"
     ]
    }
   ],
   "source": [
    "# Logistic regression\n",
    "lor= LogisticRegression()\n",
    "x_train, x_test, y_train, y_test= train_test_split(x, y, test_size= 0.2, random_state= 1)\n",
    "lor.fit(x_train, y_train)\n",
    "y_pred= lor.predict(x_test)\n",
    "accuracy_lor= (accuracy_score(y_pred, y_test)*100).round(decimals= 3)\n",
    "print('Accuracy of Logistic regression = ', accuracy_lor , '% .')\n",
    "print('Confusion Matrix of Logistic regression = ','\\n', confusion_matrix(y_pred, y_test) )\n",
    "print('Classification report of Logistic regression = ','\\n', classification_report(y_pred, y_test) )"
   ]
  },
  {
   "cell_type": "code",
   "execution_count": 10,
   "metadata": {},
   "outputs": [
    {
     "name": "stdout",
     "output_type": "stream",
     "text": [
      "Accuracy of Decision Tree Classifier =  70.779 % .\n",
      "Confusion Matrix of Logistic regression =  \n",
      " [[79 21]\n",
      " [24 30]]\n",
      "Classification report of Logistic regression =  \n",
      "               precision    recall  f1-score   support\n",
      "\n",
      "          No       0.77      0.79      0.78       100\n",
      "         Yes       0.59      0.56      0.57        54\n",
      "\n",
      "    accuracy                           0.71       154\n",
      "   macro avg       0.68      0.67      0.67       154\n",
      "weighted avg       0.70      0.71      0.71       154\n",
      "\n"
     ]
    }
   ],
   "source": [
    "# Decision Tree Classifier\n",
    "dtc= DecisionTreeClassifier(random_state= 1)\n",
    "dtc.fit(x_train, y_train)\n",
    "y_pred= dtc.predict(x_test)\n",
    "accuracy_dtc= (accuracy_score(y_pred, y_test)*100).round(decimals= 3)\n",
    "print('Accuracy of Decision Tree Classifier = ', accuracy_dtc , '% .')\n",
    "print('Confusion Matrix of Logistic regression = ','\\n', confusion_matrix(y_pred, y_test) )\n",
    "print('Classification report of Logistic regression = ','\\n', classification_report(y_pred, y_test) )"
   ]
  },
  {
   "cell_type": "code",
   "execution_count": 11,
   "metadata": {},
   "outputs": [
    {
     "name": "stdout",
     "output_type": "stream",
     "text": [
      "[  0   1   2   3   4   6   7   8   9  10  11  12  14  16  18  19  20  22\n",
      "  23  24  25  26  27  28  29  30  31  33  34  36  37  38  39  40  41  42\n",
      "  43  44  45  47  49  51  52  53  54  55  56  57  58  59  60  61  63  65\n",
      "  66  67  68  69  70  71  74  75  76  77  78  79  80  81  82  84  86  88\n",
      "  90  91  92  93  95  96  97  98  99 100 101 102 103 104 106 107 108 109\n",
      " 111 112 113 114 115 116 117 118 119 120 121 122 124 125 126 127 128 129\n",
      " 130 131 133 135 136 137 138 140 141 142 143 144 146 148 149 150 151 152\n",
      " 153 154 155 156 157 158 159 161 162 163 165 166 167 169 170 171 172 173\n",
      " 174 175 176 177 178 179 180 181 183 184 185 187 188 189 190 191 192 193\n",
      " 194 195 196 197 199 202 204 205 207 208 210 211 212 213 215 216 218 219\n",
      " 220 222 223 224 225 227 228 229 230 231 232 233 234 235 236 239 240 241\n",
      " 242 243 244 245 246 247 248 249 250 251 252 253 254 257 258 259 260 261\n",
      " 262 263 264 265 266 268 269 270 272 273 274 275 276 277 278 279 280 281\n",
      " 282 284 286 287 288 289 291 292 293 294 295 296 298 299 300 302 306 307\n",
      " 309 311 312 313 314 316 317 318 319 321 322 323 324 326 327 328 329 330\n",
      " 331 333 334 335 336 337 338 342 343 344 346 349 350 351 353 354 355 356\n",
      " 360 361 362 363 364 365 366 367 369 370 371 372 373 374 375 376 377 378\n",
      " 379 380 381 382 383 384 385 387 388 389 390 391 392 394 395 397 398 399\n",
      " 400 402 403 404 406 407 408 409 410 411 412 413 416 417 418 419 420 421\n",
      " 422 423 425 426 427 429 430 431 432 433 434 435 437 439 440 441 442 443\n",
      " 444 445 446 447 448 449 450 451 452 453 454 455 456 457 459 460 461 462\n",
      " 463 464 465 467 468 470 471 472 473 474 475 476 477 478 479 480 484 485\n",
      " 486 488 489 490 491 495 496 497 499 500 501 502 503 504 505 507 508 509\n",
      " 510 511 512 513 514 516 517 518 520 521 523 524 525 526 527 530 531 536\n",
      " 537 538 539 540 541 542 544 545 546 547 548 549 550 551 552 553 554 555\n",
      " 556 557 558 559 560 561 562 563 564 565 566 567 568 569 570 571 573 574\n",
      " 575 576 577 578 579 581 582 583 586 587 588 590 591 592 593 594 595 596\n",
      " 598 601 602 603 605 606 607 608 609 610 611 613 615 616 617 618 620 621\n",
      " 622 623 624 625 626 627 628 629 631 632 633 634 635 636 637 638 639 640\n",
      " 642 643 644 645 646 647 649 650 652 653 654 656 657 662 664 665 666 667\n",
      " 668 669 671 672 674 676 677 679 680 681 682 683 684 686 688 689 691 692\n",
      " 693 694 695 696 697 698 699 700 701 702 703 704 705 707 709 710 711 712\n",
      " 713 714 716 718 719 721 723 724 725 726 727 728 729 730 731 734 736 737\n",
      " 738 739 740 742 745 746 747 748 749 751 754 755 756 757 759 760 761 762\n",
      " 763 764] \n",
      " \n",
      " [  5  13  15  17  21  32  35  46  48  50  62  64  72  73  83  85  87  89\n",
      "  94 105 110 123 132 134 139 145 147 160 164 168 182 186 198 200 201 203\n",
      " 206 209 214 217 221 226 237 238 255 256 267 271 283 285 290 297 301 303\n",
      " 304 305 308 310 315 320 325 332 339 340 341 345 347 348 352 357 358 359\n",
      " 368 386 393 396 401 405 414 415 424 428 436 438 458 466 469 481 482 483\n",
      " 487 492 493 494 498 506 515 519 522 528 529 532 533 534 535 543 572 580\n",
      " 584 585 589 597 599 600 604 612 614 619 630 641 648 651 655 658 659 660\n",
      " 661 663 670 673 675 678 685 687 690 706 708 715 717 720 722 732 733 735\n",
      " 741 743 744 750 752 753 758 765 766 767]\n",
      "[  0   1   3   4   5   6   7   8   9  10  11  12  13  14  15  16  17  18\n",
      "  20  21  22  24  25  26  28  29  31  32  33  35  36  37  38  39  41  42\n",
      "  43  44  45  46  47  48  50  53  54  55  56  57  58  60  61  62  64  66\n",
      "  69  70  72  73  74  75  76  77  78  79  80  81  82  83  84  85  87  89\n",
      "  90  91  93  94  95  97  98  99 100 101 104 105 106 108 109 110 111 112\n",
      " 113 114 115 116 117 118 122 123 125 126 128 130 131 132 133 134 135 137\n",
      " 138 139 140 145 147 148 149 150 151 154 155 156 157 158 159 160 162 163\n",
      " 164 166 168 169 170 172 173 175 176 177 180 182 183 184 185 186 187 188\n",
      " 189 190 191 192 193 194 197 198 199 200 201 202 203 206 209 211 212 213\n",
      " 214 216 217 218 220 221 222 223 225 226 228 229 230 231 232 233 234 235\n",
      " 236 237 238 239 241 242 243 245 246 247 248 249 252 253 254 255 256 257\n",
      " 259 260 261 262 263 264 265 266 267 269 271 272 273 274 275 277 279 280\n",
      " 281 282 283 285 286 287 288 289 290 292 294 295 296 297 298 299 300 301\n",
      " 303 304 305 306 308 310 312 313 314 315 316 317 318 319 320 321 322 323\n",
      " 324 325 326 328 329 330 331 332 334 335 336 337 338 339 340 341 342 343\n",
      " 344 345 347 348 350 351 352 353 355 356 357 358 359 360 361 362 364 366\n",
      " 368 369 370 372 374 375 376 378 380 381 385 386 387 388 389 390 392 393\n",
      " 394 395 396 397 398 399 400 401 402 404 405 406 407 409 410 412 413 414\n",
      " 415 418 419 420 421 424 425 426 427 428 429 430 431 432 433 434 436 437\n",
      " 438 439 440 441 442 443 445 446 448 450 452 456 457 458 460 461 462 463\n",
      " 464 465 466 468 469 470 471 472 473 474 475 476 479 480 481 482 483 485\n",
      " 487 488 490 492 493 494 496 498 500 502 503 504 505 506 507 508 510 511\n",
      " 513 514 515 517 518 519 521 522 523 524 525 526 527 528 529 530 531 532\n",
      " 533 534 535 536 537 538 539 540 541 542 543 544 545 546 547 548 550 551\n",
      " 552 553 554 558 559 561 563 564 566 567 568 569 570 571 572 573 574 575\n",
      " 579 580 581 582 583 584 585 586 587 588 589 590 591 592 593 594 596 597\n",
      " 598 599 600 602 603 604 605 606 607 610 611 612 614 615 616 617 618 619\n",
      " 620 621 622 624 625 626 627 629 630 631 632 635 636 637 639 640 641 642\n",
      " 643 644 645 646 647 648 650 651 652 654 655 656 657 658 659 660 661 662\n",
      " 663 664 665 666 667 669 670 671 672 673 674 675 677 678 679 680 681 682\n",
      " 683 684 685 687 688 689 690 691 692 693 694 695 696 697 698 699 700 701\n",
      " 703 704 705 706 708 709 710 711 712 713 714 715 716 717 720 721 722 723\n",
      " 724 726 727 728 730 731 732 733 734 735 737 739 740 741 743 744 746 747\n",
      " 748 749 750 751 752 753 754 755 756 757 758 759 760 761 762 763 764 765\n",
      " 766 767] \n",
      " \n",
      " [  2  19  23  27  30  34  40  49  51  52  59  63  65  67  68  71  86  88\n",
      "  92  96 102 103 107 119 120 121 124 127 129 136 141 142 143 144 146 152\n",
      " 153 161 165 167 171 174 178 179 181 195 196 204 205 207 208 210 215 219\n",
      " 224 227 240 244 250 251 258 268 270 276 278 284 291 293 302 307 309 311\n",
      " 327 333 346 349 354 363 365 367 371 373 377 379 382 383 384 391 403 408\n",
      " 411 416 417 422 423 435 444 447 449 451 453 454 455 459 467 477 478 484\n",
      " 486 489 491 495 497 499 501 509 512 516 520 549 555 556 557 560 562 565\n",
      " 576 577 578 595 601 608 609 613 623 628 633 634 638 649 653 668 676 686\n",
      " 702 707 718 719 725 729 736 738 742 745]\n",
      "[  1   2   5   6   7   8  10  11  12  13  15  16  17  18  19  20  21  22\n",
      "  23  24  26  27  28  30  32  34  35  36  37  39  40  43  44  45  46  47\n",
      "  48  49  50  51  52  54  55  59  62  63  64  65  67  68  69  71  72  73\n",
      "  74  75  76  82  83  85  86  87  88  89  90  91  92  93  94  95  96  98\n",
      " 100 101 102 103 105 106 107 108 110 111 112 115 118 119 120 121 122 123\n",
      " 124 126 127 128 129 130 131 132 133 134 135 136 138 139 140 141 142 143\n",
      " 144 145 146 147 148 149 151 152 153 155 156 159 160 161 162 164 165 166\n",
      " 167 168 169 170 171 172 173 174 175 176 177 178 179 180 181 182 184 185\n",
      " 186 187 188 191 192 193 194 195 196 198 200 201 203 204 205 206 207 208\n",
      " 209 210 211 214 215 216 217 219 221 222 223 224 226 227 228 230 232 233\n",
      " 234 236 237 238 239 240 241 242 243 244 245 246 247 248 250 251 252 254\n",
      " 255 256 258 260 261 262 264 265 266 267 268 269 270 271 275 276 278 280\n",
      " 281 282 283 284 285 286 288 289 290 291 292 293 294 295 296 297 298 299\n",
      " 301 302 303 304 305 306 307 308 309 310 311 312 315 316 318 319 320 322\n",
      " 323 325 326 327 328 329 332 333 336 337 338 339 340 341 342 343 344 345\n",
      " 346 347 348 349 350 351 352 353 354 356 357 358 359 362 363 364 365 366\n",
      " 367 368 369 370 371 372 373 374 375 377 379 381 382 383 384 385 386 387\n",
      " 388 389 390 391 393 395 396 398 399 401 402 403 404 405 406 408 409 410\n",
      " 411 412 413 414 415 416 417 419 420 421 422 423 424 425 426 427 428 431\n",
      " 432 433 434 435 436 438 439 440 441 443 444 446 447 448 449 451 453 454\n",
      " 455 456 457 458 459 461 462 463 466 467 468 469 471 472 475 477 478 479\n",
      " 480 481 482 483 484 485 486 487 488 489 491 492 493 494 495 496 497 498\n",
      " 499 500 501 502 503 504 506 507 509 511 512 513 515 516 517 519 520 521\n",
      " 522 523 524 526 527 528 529 530 531 532 533 534 535 538 539 540 541 542\n",
      " 543 544 547 548 549 551 552 553 554 555 556 557 558 560 561 562 564 565\n",
      " 566 567 569 570 572 574 575 576 577 578 579 580 582 583 584 585 586 589\n",
      " 590 592 593 595 596 597 599 600 601 602 603 604 607 608 609 610 611 612\n",
      " 613 614 615 617 618 619 620 621 622 623 624 625 626 628 629 630 632 633\n",
      " 634 635 636 637 638 639 640 641 643 644 645 648 649 651 652 653 654 655\n",
      " 656 657 658 659 660 661 663 664 665 666 667 668 669 670 671 673 674 675\n",
      " 676 677 678 679 680 681 683 685 686 687 689 690 691 692 693 694 695 696\n",
      " 698 699 700 701 702 706 707 708 709 713 714 715 716 717 718 719 720 722\n",
      " 723 724 725 726 728 729 730 731 732 733 734 735 736 738 739 740 741 742\n",
      " 743 744 745 746 747 748 749 750 752 753 755 756 757 758 759 761 762 765\n",
      " 766 767] \n",
      " \n",
      " [  0   3   4   9  14  25  29  31  33  38  41  42  53  56  57  58  60  61\n",
      "  66  70  77  78  79  80  81  84  97  99 104 109 113 114 116 117 125 137\n",
      " 150 154 157 158 163 183 189 190 197 199 202 212 213 218 220 225 229 231\n",
      " 235 249 253 257 259 263 272 273 274 277 279 287 300 313 314 317 321 324\n",
      " 330 331 334 335 355 360 361 376 378 380 392 394 397 400 407 418 429 430\n",
      " 437 442 445 450 452 460 464 465 470 473 474 476 490 505 508 510 514 518\n",
      " 525 536 537 545 546 550 559 563 568 571 573 581 587 588 591 594 598 605\n",
      " 606 616 627 631 642 646 647 650 662 672 682 684 688 697 703 704 705 710\n",
      " 711 712 721 727 737 751 754 760 763 764]\n",
      "[  0   1   2   3   4   5   6   8   9  10  12  13  14  15  16  17  18  19\n",
      "  20  21  22  23  25  27  29  30  31  32  33  34  35  38  40  41  42  45\n",
      "  46  47  48  49  50  51  52  53  54  55  56  57  58  59  60  61  62  63\n",
      "  64  65  66  67  68  70  71  72  73  74  75  76  77  78  79  80  81  82\n",
      "  83  84  85  86  87  88  89  92  93  94  96  97  99 101 102 103 104 105\n",
      " 107 109 110 111 113 114 116 117 118 119 120 121 122 123 124 125 127 129\n",
      " 132 134 135 136 137 139 141 142 143 144 145 146 147 150 151 152 153 154\n",
      " 155 157 158 160 161 162 163 164 165 167 168 169 171 172 173 174 175 176\n",
      " 178 179 180 181 182 183 184 186 189 190 195 196 197 198 199 200 201 202\n",
      " 203 204 205 206 207 208 209 210 211 212 213 214 215 217 218 219 220 221\n",
      " 222 223 224 225 226 227 228 229 231 232 235 236 237 238 239 240 241 242\n",
      " 244 246 247 249 250 251 253 255 256 257 258 259 260 262 263 264 267 268\n",
      " 269 270 271 272 273 274 275 276 277 278 279 280 281 282 283 284 285 287\n",
      " 289 290 291 293 294 296 297 298 299 300 301 302 303 304 305 306 307 308\n",
      " 309 310 311 312 313 314 315 317 319 320 321 324 325 327 328 329 330 331\n",
      " 332 333 334 335 337 338 339 340 341 343 344 345 346 347 348 349 350 351\n",
      " 352 354 355 357 358 359 360 361 363 364 365 367 368 369 371 373 374 376\n",
      " 377 378 379 380 381 382 383 384 386 390 391 392 393 394 396 397 398 399\n",
      " 400 401 403 404 405 407 408 411 414 415 416 417 418 419 420 421 422 423\n",
      " 424 427 428 429 430 432 434 435 436 437 438 440 441 442 443 444 445 446\n",
      " 447 448 449 450 451 452 453 454 455 456 457 458 459 460 461 464 465 466\n",
      " 467 469 470 472 473 474 475 476 477 478 481 482 483 484 486 487 489 490\n",
      " 491 492 493 494 495 497 498 499 501 502 505 506 507 508 509 510 512 513\n",
      " 514 515 516 517 518 519 520 521 522 523 525 526 528 529 530 531 532 533\n",
      " 534 535 536 537 539 543 544 545 546 547 549 550 554 555 556 557 558 559\n",
      " 560 561 562 563 564 565 567 568 570 571 572 573 574 576 577 578 580 581\n",
      " 583 584 585 587 588 589 590 591 593 594 595 597 598 599 600 601 603 604\n",
      " 605 606 607 608 609 612 613 614 615 616 618 619 622 623 625 627 628 629\n",
      " 630 631 633 634 636 637 638 639 640 641 642 643 645 646 647 648 649 650\n",
      " 651 653 654 655 657 658 659 660 661 662 663 665 667 668 669 670 671 672\n",
      " 673 674 675 676 677 678 679 680 682 684 685 686 687 688 690 692 693 695\n",
      " 696 697 700 702 703 704 705 706 707 708 709 710 711 712 715 716 717 718\n",
      " 719 720 721 722 725 726 727 728 729 730 732 733 735 736 737 738 740 741\n",
      " 742 743 744 745 748 750 751 752 753 754 755 756 757 758 760 761 763 764\n",
      " 765 766 767] \n",
      " \n",
      " [  7  11  24  26  28  36  37  39  43  44  69  90  91  95  98 100 106 108\n",
      " 112 115 126 128 130 131 133 138 140 148 149 156 159 166 170 177 185 187\n",
      " 188 191 192 193 194 216 230 233 234 243 245 248 252 254 261 265 266 286\n",
      " 288 292 295 316 318 322 323 326 336 342 353 356 362 366 370 372 375 385\n",
      " 387 388 389 395 402 406 409 410 412 413 425 426 431 433 439 462 463 468\n",
      " 471 479 480 485 488 496 500 503 504 511 524 527 538 540 541 542 548 551\n",
      " 552 553 566 569 575 579 582 586 592 596 602 610 611 617 620 621 624 626\n",
      " 632 635 644 652 656 664 666 681 683 689 691 694 698 699 701 713 714 723\n",
      " 724 731 734 739 746 747 749 759 762]\n",
      "[  0   2   3   4   5   7   9  11  13  14  15  17  19  21  23  24  25  26\n",
      "  27  28  29  30  31  32  33  34  35  36  37  38  39  40  41  42  43  44\n",
      "  46  48  49  50  51  52  53  56  57  58  59  60  61  62  63  64  65  66\n",
      "  67  68  69  70  71  72  73  77  78  79  80  81  83  84  85  86  87  88\n",
      "  89  90  91  92  94  95  96  97  98  99 100 102 103 104 105 106 107 108\n",
      " 109 110 112 113 114 115 116 117 119 120 121 123 124 125 126 127 128 129\n",
      " 130 131 132 133 134 136 137 138 139 140 141 142 143 144 145 146 147 148\n",
      " 149 150 152 153 154 156 157 158 159 160 161 163 164 165 166 167 168 170\n",
      " 171 174 177 178 179 181 182 183 185 186 187 188 189 190 191 192 193 194\n",
      " 195 196 197 198 199 200 201 202 203 204 205 206 207 208 209 210 212 213\n",
      " 214 215 216 217 218 219 220 221 224 225 226 227 229 230 231 233 234 235\n",
      " 237 238 240 243 244 245 248 249 250 251 252 253 254 255 256 257 258 259\n",
      " 261 263 265 266 267 268 270 271 272 273 274 276 277 278 279 283 284 285\n",
      " 286 287 288 290 291 292 293 295 297 300 301 302 303 304 305 307 308 309\n",
      " 310 311 313 314 315 316 317 318 320 321 322 323 324 325 326 327 330 331\n",
      " 332 333 334 335 336 339 340 341 342 345 346 347 348 349 352 353 354 355\n",
      " 356 357 358 359 360 361 362 363 365 366 367 368 370 371 372 373 375 376\n",
      " 377 378 379 380 382 383 384 385 386 387 388 389 391 392 393 394 395 396\n",
      " 397 400 401 402 403 405 406 407 408 409 410 411 412 413 414 415 416 417\n",
      " 418 422 423 424 425 426 428 429 430 431 433 435 436 437 438 439 442 444\n",
      " 445 447 449 450 451 452 453 454 455 458 459 460 462 463 464 465 466 467\n",
      " 468 469 470 471 473 474 476 477 478 479 480 481 482 483 484 485 486 487\n",
      " 488 489 490 491 492 493 494 495 496 497 498 499 500 501 503 504 505 506\n",
      " 508 509 510 511 512 514 515 516 518 519 520 522 524 525 527 528 529 532\n",
      " 533 534 535 536 537 538 540 541 542 543 545 546 548 549 550 551 552 553\n",
      " 555 556 557 559 560 562 563 565 566 568 569 571 572 573 575 576 577 578\n",
      " 579 580 581 582 584 585 586 587 588 589 591 592 594 595 596 597 598 599\n",
      " 600 601 602 604 605 606 608 609 610 611 612 613 614 616 617 619 620 621\n",
      " 623 624 626 627 628 630 631 632 633 634 635 638 641 642 644 646 647 648\n",
      " 649 650 651 652 653 655 656 658 659 660 661 662 663 664 666 668 670 672\n",
      " 673 675 676 678 681 682 683 684 685 686 687 688 689 690 691 694 697 698\n",
      " 699 701 702 703 704 705 706 707 708 710 711 712 713 714 715 717 718 719\n",
      " 720 721 722 723 724 725 727 729 731 732 733 734 735 736 737 738 739 741\n",
      " 742 743 744 745 746 747 749 750 751 752 753 754 758 759 760 762 763 764\n",
      " 765 766 767] \n",
      " \n",
      " [  1   6   8  10  12  16  18  20  22  45  47  54  55  74  75  76  82  93\n",
      " 101 111 118 122 135 151 155 162 169 172 173 175 176 180 184 211 222 223\n",
      " 228 232 236 239 241 242 246 247 260 262 264 269 275 280 281 282 289 294\n",
      " 296 298 299 306 312 319 328 329 337 338 343 344 350 351 364 369 374 381\n",
      " 390 398 399 404 419 420 421 427 432 434 440 441 443 446 448 456 457 461\n",
      " 472 475 502 507 513 517 521 523 526 530 531 539 544 547 554 558 561 564\n",
      " 567 570 574 583 590 593 603 607 615 618 622 625 629 636 637 639 640 643\n",
      " 645 654 657 665 667 669 671 674 677 679 680 692 693 695 696 700 709 716\n",
      " 726 728 730 740 748 755 756 757 761]\n"
     ]
    }
   ],
   "source": [
    "kfold= KFold(n_splits= 5, shuffle= True)\n",
    "for train_set, test_set in kfold.split(x):\n",
    "    print(train_set, '\\n','\\n', test_set)"
   ]
  },
  {
   "cell_type": "code",
   "execution_count": 12,
   "metadata": {},
   "outputs": [
    {
     "name": "stdout",
     "output_type": "stream",
     "text": [
      "Cross validation scores for AdaBoost Classifier :  [0.675 0.727 0.753 0.805 0.753 0.727 0.727 0.818 0.724 0.829]\n",
      "Accuracy percentage of AdaBoost Classifier is :  75.396 % .\n"
     ]
    }
   ],
   "source": [
    "# AdaBoost Classifier :\n",
    "kfold= model_selection.KFold(n_splits= 10, random_state= 7)\n",
    "model= AdaBoostClassifier(n_estimators= 30, random_state= 7)\n",
    "scores= model_selection.cross_val_score(model, x, y, cv= kfold)\n",
    "print('Cross validation scores for AdaBoost Classifier : ', scores.round(decimals= 3))\n",
    "scores_abc= (scores.mean()*100).round(decimals= 3)\n",
    "print('Accuracy percentage of AdaBoost Classifier is : ', scores_abc , '% .')"
   ]
  },
  {
   "cell_type": "code",
   "execution_count": 13,
   "metadata": {
    "scrolled": true
   },
   "outputs": [
    {
     "name": "stdout",
     "output_type": "stream",
     "text": [
      "[11:32:32] WARNING: ..\\src\\learner.cc:1061: Starting in XGBoost 1.3.0, the default evaluation metric used with the objective 'binary:logistic' was changed from 'error' to 'logloss'. Explicitly set eval_metric if you'd like to restore the old behavior.\n",
      "[11:32:32] WARNING: ..\\src\\learner.cc:1061: Starting in XGBoost 1.3.0, the default evaluation metric used with the objective 'binary:logistic' was changed from 'error' to 'logloss'. Explicitly set eval_metric if you'd like to restore the old behavior.\n",
      "[11:32:32] WARNING: ..\\src\\learner.cc:1061: Starting in XGBoost 1.3.0, the default evaluation metric used with the objective 'binary:logistic' was changed from 'error' to 'logloss'. Explicitly set eval_metric if you'd like to restore the old behavior.\n",
      "[11:32:32] WARNING: ..\\src\\learner.cc:1061: Starting in XGBoost 1.3.0, the default evaluation metric used with the objective 'binary:logistic' was changed from 'error' to 'logloss'. Explicitly set eval_metric if you'd like to restore the old behavior.\n",
      "[11:32:32] WARNING: ..\\src\\learner.cc:1061: Starting in XGBoost 1.3.0, the default evaluation metric used with the objective 'binary:logistic' was changed from 'error' to 'logloss'. Explicitly set eval_metric if you'd like to restore the old behavior.\n",
      "[11:32:32] WARNING: ..\\src\\learner.cc:1061: Starting in XGBoost 1.3.0, the default evaluation metric used with the objective 'binary:logistic' was changed from 'error' to 'logloss'. Explicitly set eval_metric if you'd like to restore the old behavior.\n",
      "[11:32:32] WARNING: ..\\src\\learner.cc:1061: Starting in XGBoost 1.3.0, the default evaluation metric used with the objective 'binary:logistic' was changed from 'error' to 'logloss'. Explicitly set eval_metric if you'd like to restore the old behavior.\n",
      "[11:32:32] WARNING: ..\\src\\learner.cc:1061: Starting in XGBoost 1.3.0, the default evaluation metric used with the objective 'binary:logistic' was changed from 'error' to 'logloss'. Explicitly set eval_metric if you'd like to restore the old behavior.\n",
      "[11:32:32] WARNING: ..\\src\\learner.cc:1061: Starting in XGBoost 1.3.0, the default evaluation metric used with the objective 'binary:logistic' was changed from 'error' to 'logloss'. Explicitly set eval_metric if you'd like to restore the old behavior.\n",
      "[11:32:32] WARNING: ..\\src\\learner.cc:1061: Starting in XGBoost 1.3.0, the default evaluation metric used with the objective 'binary:logistic' was changed from 'error' to 'logloss'. Explicitly set eval_metric if you'd like to restore the old behavior.\n",
      "Cross validation scores for XGB Classifier :  [0.584 0.662 0.766 0.805 0.779 0.701 0.701 0.831 0.803 0.776]\n",
      "Accuracy percentage of XGB Classifier is :  74.101 % .\n"
     ]
    }
   ],
   "source": [
    "# XGB Classifier :\n",
    "kfold= model_selection.KFold(n_splits= 10, random_state= 7)\n",
    "model= XGBClassifier(n_estimators= 30, random_state= 7)\n",
    "scores= model_selection.cross_val_score(model, x, y, cv= kfold)\n",
    "print('Cross validation scores for XGB Classifier : ', scores.round(decimals= 3) )\n",
    "scores_xgb= (scores.mean()*100).round(decimals= 3)\n",
    "print('Accuracy percentage of XGB Classifier is : ', scores_xgb , '% .')"
   ]
  },
  {
   "cell_type": "code",
   "execution_count": 14,
   "metadata": {},
   "outputs": [
    {
     "name": "stdout",
     "output_type": "stream",
     "text": [
      "Cross validation scores for Random Forest Classifier :  [0.662 0.688 0.727 0.818 0.792 0.766 0.727 0.805 0.724 0.816]\n",
      "Accuracy percentage of Random Forest Classifier is :  75.265 % .\n"
     ]
    }
   ],
   "source": [
    "# Random Forest Classifier :\n",
    "rfc= RandomForestClassifier(n_estimators= 10)\n",
    "scores= cross_val_score(rfc, x, y, scoring= 'accuracy', cv= 10)\n",
    "print('Cross validation scores for Random Forest Classifier : ', scores.round(decimals= 3) )\n",
    "scores_rfc= (scores.mean()*100).round(decimals= 3)\n",
    "print('Accuracy percentage of Random Forest Classifier is : ', scores_rfc , '% .')"
   ]
  },
  {
   "cell_type": "code",
   "execution_count": 15,
   "metadata": {},
   "outputs": [
    {
     "name": "stdout",
     "output_type": "stream",
     "text": [
      "\u001b[1m\u001b[34mClassifier names vs % Accuracy score table :\u001b[0m\n"
     ]
    },
    {
     "data": {
      "text/html": [
       "<div>\n",
       "<style scoped>\n",
       "    .dataframe tbody tr th:only-of-type {\n",
       "        vertical-align: middle;\n",
       "    }\n",
       "\n",
       "    .dataframe tbody tr th {\n",
       "        vertical-align: top;\n",
       "    }\n",
       "\n",
       "    .dataframe thead th {\n",
       "        text-align: right;\n",
       "    }\n",
       "</style>\n",
       "<table border=\"1\" class=\"dataframe\">\n",
       "  <thead>\n",
       "    <tr style=\"text-align: right;\">\n",
       "      <th></th>\n",
       "      <th>Classifier names</th>\n",
       "      <th>Accuracy scores</th>\n",
       "    </tr>\n",
       "  </thead>\n",
       "  <tbody>\n",
       "    <tr>\n",
       "      <th>0</th>\n",
       "      <td>Logistic regression</td>\n",
       "      <td>73.377</td>\n",
       "    </tr>\n",
       "    <tr>\n",
       "      <th>1</th>\n",
       "      <td>Decision Tree Classifier</td>\n",
       "      <td>70.779</td>\n",
       "    </tr>\n",
       "    <tr>\n",
       "      <th>2</th>\n",
       "      <td>Random Forest Classifier</td>\n",
       "      <td>75.396</td>\n",
       "    </tr>\n",
       "    <tr>\n",
       "      <th>3</th>\n",
       "      <td>AdaBoost Classifier</td>\n",
       "      <td>74.101</td>\n",
       "    </tr>\n",
       "    <tr>\n",
       "      <th>4</th>\n",
       "      <td>XGB Classifier</td>\n",
       "      <td>75.265</td>\n",
       "    </tr>\n",
       "  </tbody>\n",
       "</table>\n",
       "</div>"
      ],
      "text/plain": [
       "           Classifier names  Accuracy scores\n",
       "0       Logistic regression           73.377\n",
       "1  Decision Tree Classifier           70.779\n",
       "2  Random Forest Classifier           75.396\n",
       "3       AdaBoost Classifier           74.101\n",
       "4            XGB Classifier           75.265"
      ]
     },
     "execution_count": 15,
     "metadata": {},
     "output_type": "execute_result"
    }
   ],
   "source": [
    "# Comparing different classifiers :\n",
    "import pandas\n",
    "df= pandas.DataFrame( {'Classifier names':['Logistic regression', 'Decision Tree Classifier', 'Random Forest Classifier',\n",
    "                                          'AdaBoost Classifier', 'XGB Classifier'], 'Accuracy scores': [accuracy_lor, accuracy_dtc, \n",
    "                                                                                                       scores_abc, scores_xgb, \n",
    "                                                                                                       scores_rfc] } )\n",
    "import matplotlib.pyplot as plt\n",
    "%matplotlib inline\n",
    "from matplotlib import rc\n",
    "from termcolor import colored\n",
    "print(colored('Classifier names vs % Accuracy score table :', 'blue', attrs=['bold']))\n",
    "df"
   ]
  },
  {
   "cell_type": "code",
   "execution_count": 33,
   "metadata": {},
   "outputs": [
    {
     "data": {
      "image/png": "[encoded data removed]",
      "text/plain": [
       "<Figure size 1440x504 with 1 Axes>"
      ]
     },
     "metadata": {
      "needs_background": "light"
     },
     "output_type": "display_data"
    }
   ],
   "source": [
    "# Line plot\n",
    "plt.figure(figsize= (20, 7))\n",
    "plt.plot(df['Classifier names'], df['Accuracy scores'], linewidth= 2, color= 'blue')\n",
    "plt.grid(color= 'yellow')\n",
    "plt.title('Line plot', fontweight= 'bold', fontsize= 15)\n",
    "plt.xlabel('Names of classifier', fontweight= 'bold', fontsize= 15)\n",
    "plt.ylabel('Accuracy scores', fontweight= 'bold', fontsize= 15)\n",
    "plt.xticks(fontsize= 13, fontweight= 'bold')\n",
    "plt.yticks(fontsize= 13, fontweight= 'bold')\n",
    "for x,y in zip(df['Classifier names'], df['Accuracy scores']): \n",
    "    plt.text(x, y, str(y), fontweight= 'bold', fontsize= 15, color= 'red')\n",
    "plt.show()"
   ]
  },
  {
   "cell_type": "code",
   "execution_count": 34,
   "metadata": {},
   "outputs": [
    {
     "data": {
      "image/png": "[encoded data removed]",
      "text/plain": [
       "<Figure size 1440x504 with 1 Axes>"
      ]
     },
     "metadata": {
      "needs_background": "light"
     },
     "output_type": "display_data"
    }
   ],
   "source": [
    "# Bar plot\n",
    "plt.figure(figsize= (20, 7))\n",
    "plt.bar(df['Classifier names'], df['Accuracy scores'], linewidth= 2, color= 'yellow')\n",
    "plt.title('Bar plot', fontweight= 'bold', fontsize= 15)\n",
    "plt.xlabel('Names of classifier', fontweight= 'bold', fontsize= 15)\n",
    "plt.ylabel('Accuracy scores', fontweight= 'bold', fontsize= 15)\n",
    "plt.xticks(fontsize= 13, fontweight= 'bold')\n",
    "plt.yticks(fontsize= 13, fontweight= 'bold')\n",
    "for x,y in zip(df['Classifier names'], df['Accuracy scores']): \n",
    "    plt.text(x, y, str(y), fontweight= 'bold', fontsize= 15, color= 'blue')\n",
    "plt.show()"
   ]
  },
  {
   "cell_type": "code",
   "execution_count": 35,
   "metadata": {},
   "outputs": [
    {
     "data": {
      "image/png": "[encoded data removed]",
      "text/plain": [
       "<Figure size 1440x504 with 1 Axes>"
      ]
     },
     "metadata": {
      "needs_background": "light"
     },
     "output_type": "display_data"
    }
   ],
   "source": [
    "# Scatter plot\n",
    "plt.figure(figsize= (20, 7))\n",
    "plt.scatter(df['Classifier names'], df['Accuracy scores'], marker= '*', color= 'black')\n",
    "plt.title('Scatter plot', fontweight= 'bold', fontsize= 15)\n",
    "plt.xlabel('Names of classifier', fontweight= 'bold', fontsize= 15)\n",
    "plt.ylabel('Accuracy scores', fontweight= 'bold', fontsize= 15)\n",
    "plt.xticks(fontsize= 13, fontweight= 'bold')\n",
    "plt.yticks(fontsize= 13, fontweight= 'bold')\n",
    "for x,y in zip(df['Classifier names'], df['Accuracy scores']): \n",
    "    plt.text(x, y, str(y), fontweight= 'bold', fontsize= 12, color= 'green')\n",
    "plt.show()"
   ]
  },
  {
   "cell_type": "raw",
   "metadata": {},
   "source": []
  },
  {
   "cell_type": "code",
   "execution_count": null,
   "metadata": {},
   "outputs": [],
   "source": []
  },
  {
   "cell_type": "code",
   "execution_count": null,
   "metadata": {},
   "outputs": [],
   "source": []
  }
 ],
 "metadata": {
  "kernelspec": {
   "display_name": "Python 3",
   "language": "python",
   "name": "python3"
  },
  "language_info": {
   "codemirror_mode": {
    "name": "ipython",
    "version": 3
   },
   "file_extension": ".py",
   "mimetype": "text/x-python",
   "name": "python",
   "nbconvert_exporter": "python",
   "pygments_lexer": "ipython3",
   "version": "3.8.5"
  }
 },
 "nbformat": 4,
 "nbformat_minor": 4
}
