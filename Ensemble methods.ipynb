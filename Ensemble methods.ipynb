{
 "cells": [
  {
   "cell_type": "code",
   "execution_count": 1,
   "metadata": {},
   "outputs": [],
   "source": [
    "# Importing libraries\n",
    "import pandas\n",
    "from sklearn import model_selection\n",
    "from sklearn.model_selection import train_test_split\n",
    "from sklearn.model_selection import KFold\n",
    "from sklearn.linear_model import LogisticRegression\n",
    "from sklearn.tree import DecisionTreeClassifier\n",
    "from sklearn.metrics import accuracy_score, confusion_matrix, classification_report\n",
    "from sklearn.ensemble import AdaBoostClassifier\n",
    "from xgboost import XGBClassifier\n",
    "from sklearn.ensemble import RandomForestClassifier\n",
    "from sklearn.model_selection import cross_val_score\n",
    "from sklearn import svm\n",
    "import warnings\n",
    "warnings.filterwarnings(\"ignore\")"
   ]
  },
  {
   "cell_type": "code",
   "execution_count": 2,
   "metadata": {},
   "outputs": [
    {
     "data": {
      "text/plain": [
       "(768, 9)"
      ]
     },
     "execution_count": 2,
     "metadata": {},
     "output_type": "execute_result"
    }
   ],
   "source": [
    "# Importing dataset\n",
    "data= pandas.read_csv('D:\\Files\\Data Science\\Anaconda\\Sample csv files\\Diabetes.csv')\n",
    "# Data shuffling\n",
    "data= data.sample(frac= 1)\n",
    "# Shape of dataset\n",
    "data.shape"
   ]
  },
  {
   "cell_type": "code",
   "execution_count": 3,
   "metadata": {},
   "outputs": [
    {
     "data": {
      "text/html": [
       "<div>\n",
       "<style scoped>\n",
       "    .dataframe tbody tr th:only-of-type {\n",
       "        vertical-align: middle;\n",
       "    }\n",
       "\n",
       "    .dataframe tbody tr th {\n",
       "        vertical-align: top;\n",
       "    }\n",
       "\n",
       "    .dataframe thead th {\n",
       "        text-align: right;\n",
       "    }\n",
       "</style>\n",
       "<table border=\"1\" class=\"dataframe\">\n",
       "  <thead>\n",
       "    <tr style=\"text-align: right;\">\n",
       "      <th></th>\n",
       "      <th>Pregnancies</th>\n",
       "      <th>Glucose</th>\n",
       "      <th>BloodPressure</th>\n",
       "      <th>SkinThickness</th>\n",
       "      <th>Insulin</th>\n",
       "      <th>BMI</th>\n",
       "      <th>DiabetesPedigreeFunction</th>\n",
       "      <th>Age</th>\n",
       "      <th>Outcome</th>\n",
       "    </tr>\n",
       "  </thead>\n",
       "  <tbody>\n",
       "    <tr>\n",
       "      <th>653</th>\n",
       "      <td>2</td>\n",
       "      <td>120</td>\n",
       "      <td>54</td>\n",
       "      <td>0</td>\n",
       "      <td>0</td>\n",
       "      <td>26.8</td>\n",
       "      <td>0.455</td>\n",
       "      <td>27</td>\n",
       "      <td>No</td>\n",
       "    </tr>\n",
       "    <tr>\n",
       "      <th>596</th>\n",
       "      <td>0</td>\n",
       "      <td>67</td>\n",
       "      <td>76</td>\n",
       "      <td>0</td>\n",
       "      <td>0</td>\n",
       "      <td>45.3</td>\n",
       "      <td>0.194</td>\n",
       "      <td>46</td>\n",
       "      <td>No</td>\n",
       "    </tr>\n",
       "    <tr>\n",
       "      <th>598</th>\n",
       "      <td>1</td>\n",
       "      <td>173</td>\n",
       "      <td>74</td>\n",
       "      <td>0</td>\n",
       "      <td>0</td>\n",
       "      <td>36.8</td>\n",
       "      <td>0.088</td>\n",
       "      <td>38</td>\n",
       "      <td>Yes</td>\n",
       "    </tr>\n",
       "    <tr>\n",
       "      <th>623</th>\n",
       "      <td>0</td>\n",
       "      <td>94</td>\n",
       "      <td>70</td>\n",
       "      <td>27</td>\n",
       "      <td>115</td>\n",
       "      <td>43.5</td>\n",
       "      <td>0.347</td>\n",
       "      <td>21</td>\n",
       "      <td>No</td>\n",
       "    </tr>\n",
       "    <tr>\n",
       "      <th>147</th>\n",
       "      <td>2</td>\n",
       "      <td>106</td>\n",
       "      <td>64</td>\n",
       "      <td>35</td>\n",
       "      <td>119</td>\n",
       "      <td>30.5</td>\n",
       "      <td>1.400</td>\n",
       "      <td>34</td>\n",
       "      <td>No</td>\n",
       "    </tr>\n",
       "  </tbody>\n",
       "</table>\n",
       "</div>"
      ],
      "text/plain": [
       "     Pregnancies  Glucose  BloodPressure  SkinThickness  Insulin   BMI  \\\n",
       "653            2      120             54              0        0  26.8   \n",
       "596            0       67             76              0        0  45.3   \n",
       "598            1      173             74              0        0  36.8   \n",
       "623            0       94             70             27      115  43.5   \n",
       "147            2      106             64             35      119  30.5   \n",
       "\n",
       "     DiabetesPedigreeFunction  Age Outcome  \n",
       "653                     0.455   27      No  \n",
       "596                     0.194   46      No  \n",
       "598                     0.088   38     Yes  \n",
       "623                     0.347   21      No  \n",
       "147                     1.400   34      No  "
      ]
     },
     "execution_count": 3,
     "metadata": {},
     "output_type": "execute_result"
    }
   ],
   "source": [
    "# Viewing our dataframe\n",
    "data.head(5)"
   ]
  },
  {
   "cell_type": "code",
   "execution_count": 4,
   "metadata": {},
   "outputs": [
    {
     "data": {
      "text/plain": [
       "Index(['Pregnancies', 'Glucose', 'BloodPressure', 'SkinThickness', 'Insulin',\n",
       "       'BMI', 'DiabetesPedigreeFunction', 'Age', 'Outcome'],\n",
       "      dtype='object')"
      ]
     },
     "execution_count": 4,
     "metadata": {},
     "output_type": "execute_result"
    }
   ],
   "source": [
    "# Names of columns in dataset\n",
    "data.columns"
   ]
  },
  {
   "cell_type": "code",
   "execution_count": 5,
   "metadata": {},
   "outputs": [
    {
     "data": {
      "text/plain": [
       "Pregnancies                 0\n",
       "Glucose                     0\n",
       "BloodPressure               0\n",
       "SkinThickness               0\n",
       "Insulin                     0\n",
       "BMI                         0\n",
       "DiabetesPedigreeFunction    0\n",
       "Age                         0\n",
       "Outcome                     0\n",
       "dtype: int64"
      ]
     },
     "execution_count": 5,
     "metadata": {},
     "output_type": "execute_result"
    }
   ],
   "source": [
    "# Checking null values in dataset\n",
    "data.isnull().sum()"
   ]
  },
  {
   "cell_type": "code",
   "execution_count": 6,
   "metadata": {},
   "outputs": [
    {
     "data": {
      "text/plain": [
       "0"
      ]
     },
     "execution_count": 6,
     "metadata": {},
     "output_type": "execute_result"
    }
   ],
   "source": [
    "# Checking duplicate values\n",
    "data.duplicated().sum()"
   ]
  },
  {
   "cell_type": "code",
   "execution_count": 7,
   "metadata": {},
   "outputs": [
    {
     "name": "stdout",
     "output_type": "stream",
     "text": [
      "<class 'pandas.core.frame.DataFrame'>\n",
      "Int64Index: 768 entries, 653 to 90\n",
      "Data columns (total 9 columns):\n",
      " #   Column                    Non-Null Count  Dtype  \n",
      "---  ------                    --------------  -----  \n",
      " 0   Pregnancies               768 non-null    int64  \n",
      " 1   Glucose                   768 non-null    int64  \n",
      " 2   BloodPressure             768 non-null    int64  \n",
      " 3   SkinThickness             768 non-null    int64  \n",
      " 4   Insulin                   768 non-null    int64  \n",
      " 5   BMI                       768 non-null    float64\n",
      " 6   DiabetesPedigreeFunction  768 non-null    float64\n",
      " 7   Age                       768 non-null    int64  \n",
      " 8   Outcome                   768 non-null    object \n",
      "dtypes: float64(2), int64(6), object(1)\n",
      "memory usage: 60.0+ KB\n"
     ]
    }
   ],
   "source": [
    "data.info()"
   ]
  },
  {
   "cell_type": "code",
   "execution_count": 8,
   "metadata": {},
   "outputs": [],
   "source": [
    "x= data[['Pregnancies', 'Glucose', 'BloodPressure', 'SkinThickness', 'Insulin',\n",
    "       'BMI', 'DiabetesPedigreeFunction', 'Age']]\n",
    "y= data[[ 'Outcome']]"
   ]
  },
  {
   "cell_type": "code",
   "execution_count": 9,
   "metadata": {},
   "outputs": [
    {
     "name": "stdout",
     "output_type": "stream",
     "text": [
      "Accuracy of Logistic regression =  72.078 % .\n",
      "Confusion Matrix of Logistic regression =  \n",
      " [[86 35]\n",
      " [ 8 25]]\n",
      "Classification report of Logistic regression =  \n",
      "               precision    recall  f1-score   support\n",
      "\n",
      "          No       0.91      0.71      0.80       121\n",
      "         Yes       0.42      0.76      0.54        33\n",
      "\n",
      "    accuracy                           0.72       154\n",
      "   macro avg       0.67      0.73      0.67       154\n",
      "weighted avg       0.81      0.72      0.74       154\n",
      "\n"
     ]
    }
   ],
   "source": [
    "# Logistic regression\n",
    "lor= LogisticRegression()\n",
    "x_train, x_test, y_train, y_test= train_test_split(x, y, test_size= 0.2, random_state= 1)\n",
    "lor.fit(x_train, y_train)\n",
    "y_pred= lor.predict(x_test)\n",
    "print('Accuracy of Logistic regression = ', (accuracy_score(y_pred, y_test)*100).round(decimals= 3) , '% .')\n",
    "print('Confusion Matrix of Logistic regression = ','\\n', confusion_matrix(y_pred, y_test) )\n",
    "print('Classification report of Logistic regression = ','\\n', classification_report(y_pred, y_test) )"
   ]
  },
  {
   "cell_type": "code",
   "execution_count": 10,
   "metadata": {},
   "outputs": [
    {
     "name": "stdout",
     "output_type": "stream",
     "text": [
      "Accuracy of Decision Tree Classifier =  71.429 % .\n",
      "Confusion Matrix of Logistic regression =  \n",
      " [[78 28]\n",
      " [16 32]]\n",
      "Classification report of Logistic regression =  \n",
      "               precision    recall  f1-score   support\n",
      "\n",
      "          No       0.83      0.74      0.78       106\n",
      "         Yes       0.53      0.67      0.59        48\n",
      "\n",
      "    accuracy                           0.71       154\n",
      "   macro avg       0.68      0.70      0.69       154\n",
      "weighted avg       0.74      0.71      0.72       154\n",
      "\n"
     ]
    }
   ],
   "source": [
    "# Decision Tree Classifier\n",
    "dtc= DecisionTreeClassifier(random_state= 1)\n",
    "dtc.fit(x_train, y_train)\n",
    "y_pred= dtc.predict(x_test)\n",
    "print('Accuracy of Decision Tree Classifier = ', (accuracy_score(y_pred, y_test)*100).round(decimals= 3) , '% .')\n",
    "print('Confusion Matrix of Logistic regression = ','\\n', confusion_matrix(y_pred, y_test) )\n",
    "print('Classification report of Logistic regression = ','\\n', classification_report(y_pred, y_test) )"
   ]
  },
  {
   "cell_type": "code",
   "execution_count": 11,
   "metadata": {},
   "outputs": [
    {
     "name": "stdout",
     "output_type": "stream",
     "text": [
      "[  0   1   2   3   4   5   6   8   9  10  12  13  14  15  16  17  19  20\n",
      "  21  22  23  25  26  27  28  29  30  31  32  33  35  36  38  39  40  41\n",
      "  43  45  46  47  48  49  51  52  54  55  56  57  58  61  63  64  67  68\n",
      "  69  71  72  75  76  78  79  80  81  82  83  84  85  86  88  90  91  92\n",
      "  93  95  96  97  98  99 101 102 103 105 107 109 110 111 112 113 114 115\n",
      " 116 117 118 119 121 122 124 125 126 128 129 130 131 133 134 135 136 138\n",
      " 139 140 141 143 144 145 146 147 148 149 150 151 152 153 155 156 159 160\n",
      " 161 162 163 164 165 166 167 168 170 171 172 173 174 175 176 177 178 179\n",
      " 180 182 183 184 185 186 187 189 190 191 192 193 194 196 197 198 199 200\n",
      " 202 203 205 206 207 210 211 212 213 214 215 216 217 218 219 220 221 222\n",
      " 223 224 225 226 227 228 229 230 231 232 234 235 236 237 238 239 240 243\n",
      " 244 245 246 247 249 250 251 252 253 254 255 256 258 259 260 261 265 266\n",
      " 268 269 270 271 272 273 274 275 276 278 280 281 282 284 285 286 287 288\n",
      " 291 292 293 294 295 296 297 298 299 300 301 302 303 304 305 306 307 308\n",
      " 309 310 311 312 313 314 317 319 321 322 323 324 325 326 327 328 329 330\n",
      " 331 332 333 334 335 336 337 338 340 341 342 343 346 348 349 351 352 353\n",
      " 354 356 357 358 359 361 362 363 364 365 367 368 369 371 372 373 374 375\n",
      " 376 377 378 379 380 381 382 383 384 385 386 387 388 392 393 394 396 397\n",
      " 399 400 401 402 403 405 406 407 408 409 410 412 414 418 419 421 423 424\n",
      " 425 426 427 428 429 430 431 432 433 435 436 437 438 439 440 442 443 444\n",
      " 446 447 448 450 452 453 454 455 456 457 459 460 461 462 463 464 466 467\n",
      " 468 469 470 471 473 474 475 476 478 479 480 482 483 484 485 486 487 488\n",
      " 489 490 491 493 494 496 497 498 500 502 503 504 506 507 508 510 511 512\n",
      " 513 515 516 517 518 519 520 523 524 525 526 527 528 529 530 531 532 533\n",
      " 534 536 537 538 539 540 541 542 544 545 546 547 550 552 553 555 557 558\n",
      " 560 561 562 563 565 566 567 568 570 571 572 573 574 575 576 577 578 579\n",
      " 580 581 582 583 584 585 587 588 589 590 591 592 593 595 596 597 598 599\n",
      " 600 601 602 603 605 609 611 613 615 616 617 618 620 621 622 623 624 625\n",
      " 626 627 628 629 630 632 633 634 635 636 637 638 640 642 643 644 645 648\n",
      " 650 653 655 656 657 658 660 661 662 663 664 667 668 669 671 672 674 675\n",
      " 678 679 680 681 682 683 684 686 688 689 690 693 694 696 698 699 700 701\n",
      " 702 703 704 705 707 708 710 711 713 714 715 716 717 718 720 722 723 724\n",
      " 725 726 727 728 729 730 733 734 735 736 737 739 740 742 743 744 745 746\n",
      " 747 748 749 750 751 752 753 754 755 756 757 758 759 760 762 763 764 765\n",
      " 766 767] \n",
      " \n",
      " [  7  11  18  24  34  37  42  44  50  53  59  60  62  65  66  70  73  74\n",
      "  77  87  89  94 100 104 106 108 120 123 127 132 137 142 154 157 158 169\n",
      " 181 188 195 201 204 208 209 233 241 242 248 257 262 263 264 267 277 279\n",
      " 283 289 290 315 316 318 320 339 344 345 347 350 355 360 366 370 389 390\n",
      " 391 395 398 404 411 413 415 416 417 420 422 434 441 445 449 451 458 465\n",
      " 472 477 481 492 495 499 501 505 509 514 521 522 535 543 548 549 551 554\n",
      " 556 559 564 569 586 594 604 606 607 608 610 612 614 619 631 639 641 646\n",
      " 647 649 651 652 654 659 665 666 670 673 676 677 685 687 691 692 695 697\n",
      " 706 709 712 719 721 731 732 738 741 761]\n",
      "[  0   2   3   4   5   7   8   9  10  11  12  13  15  16  17  18  19  20\n",
      "  22  24  25  26  27  28  30  32  33  34  35  36  37  39  40  41  42  43\n",
      "  44  47  48  49  50  51  52  53  54  56  57  58  59  60  62  63  64  65\n",
      "  66  67  68  69  70  71  72  73  74  75  76  77  78  80  82  83  85  86\n",
      "  87  89  90  91  92  93  94  95  96  98  99 100 101 102 103 104 105 106\n",
      " 108 109 110 111 112 113 114 115 116 117 118 119 120 121 123 124 125 126\n",
      " 127 129 130 131 132 133 135 136 137 139 140 142 143 144 145 149 151 152\n",
      " 153 154 155 156 157 158 159 160 161 162 163 164 165 166 167 169 170 171\n",
      " 173 177 179 180 181 183 184 185 186 187 188 189 190 191 192 193 195 196\n",
      " 197 198 199 201 202 204 206 207 208 209 210 211 212 214 215 216 217 219\n",
      " 220 221 222 223 226 227 228 229 230 231 232 233 234 237 238 239 240 241\n",
      " 242 244 245 246 247 248 249 250 251 252 253 254 255 256 257 259 260 261\n",
      " 262 263 264 265 266 267 268 269 272 273 274 276 277 278 279 280 281 283\n",
      " 285 287 288 289 290 291 292 293 294 295 296 297 299 302 303 304 305 306\n",
      " 307 308 309 311 312 313 314 315 316 318 319 320 322 323 326 327 328 330\n",
      " 332 333 334 335 337 338 339 342 343 344 345 347 350 352 353 354 355 356\n",
      " 357 358 360 361 362 363 364 365 366 367 368 369 370 371 372 373 375 376\n",
      " 377 378 379 382 383 384 386 387 388 389 390 391 392 393 394 395 396 397\n",
      " 398 400 402 403 404 405 406 407 409 411 413 414 415 416 417 418 420 422\n",
      " 423 424 425 426 427 430 431 432 433 434 435 436 437 438 439 440 441 444\n",
      " 445 446 447 448 449 451 452 453 454 455 456 458 460 461 462 463 464 465\n",
      " 466 472 474 475 476 477 478 479 480 481 483 484 485 486 487 489 490 491\n",
      " 492 493 495 496 497 498 499 500 501 502 503 504 505 506 507 509 510 512\n",
      " 513 514 515 516 517 518 519 520 521 522 523 524 525 526 527 529 530 531\n",
      " 534 535 536 537 538 539 540 541 542 543 544 545 546 547 548 549 550 551\n",
      " 554 555 556 557 558 559 560 561 562 563 564 566 567 568 569 571 574 575\n",
      " 578 579 581 582 585 586 589 591 592 594 595 596 597 598 599 601 602 603\n",
      " 604 605 606 607 608 609 610 611 612 613 614 615 616 618 619 620 621 623\n",
      " 624 625 626 628 631 633 634 635 636 638 639 640 641 642 643 644 645 646\n",
      " 647 649 650 651 652 653 654 655 657 658 659 660 661 662 663 664 665 666\n",
      " 669 670 673 674 675 676 677 678 679 680 681 682 683 684 685 687 688 691\n",
      " 692 693 694 695 696 697 699 702 703 704 705 706 707 708 709 711 712 715\n",
      " 716 717 719 720 721 723 725 726 727 728 729 731 732 733 734 735 736 737\n",
      " 738 739 740 741 742 744 745 746 748 750 753 754 755 756 759 761 762 763\n",
      " 766 767] \n",
      " \n",
      " [  1   6  14  21  23  29  31  38  45  46  55  61  79  81  84  88  97 107\n",
      " 122 128 134 138 141 146 147 148 150 168 172 174 175 176 178 182 194 200\n",
      " 203 205 213 218 224 225 235 236 243 258 270 271 275 282 284 286 298 300\n",
      " 301 310 317 321 324 325 329 331 336 340 341 346 348 349 351 359 374 380\n",
      " 381 385 399 401 408 410 412 419 421 428 429 442 443 450 457 459 467 468\n",
      " 469 470 471 473 482 488 494 508 511 528 532 533 552 553 565 570 572 573\n",
      " 576 577 580 583 584 587 588 590 593 600 617 622 627 629 630 632 637 648\n",
      " 656 667 668 671 672 686 689 690 698 700 701 710 713 714 718 722 724 730\n",
      " 743 747 749 751 752 757 758 760 764 765]\n",
      "[  0   1   2   4   5   6   7   8  10  11  12  13  14  15  17  18  20  21\n",
      "  22  23  24  26  27  29  30  31  32  33  34  35  36  37  38  41  42  44\n",
      "  45  46  47  50  51  52  53  54  55  57  58  59  60  61  62  65  66  67\n",
      "  68  69  70  73  74  75  77  78  79  81  82  84  85  86  87  88  89  90\n",
      "  94  96  97  98  99 100 101 102 104 105 106 107 108 109 110 112 113 114\n",
      " 115 116 117 119 120 121 122 123 124 125 126 127 128 130 131 132 134 136\n",
      " 137 138 139 140 141 142 145 146 147 148 150 151 154 155 156 157 158 159\n",
      " 160 161 162 163 164 165 167 168 169 171 172 174 175 176 177 178 179 180\n",
      " 181 182 183 184 185 186 187 188 190 193 194 195 197 198 199 200 201 202\n",
      " 203 204 205 206 208 209 210 212 213 214 216 217 218 219 220 221 223 224\n",
      " 225 226 227 228 229 231 232 233 234 235 236 237 239 240 241 242 243 244\n",
      " 246 248 250 251 253 254 255 257 258 261 262 263 264 265 266 267 268 269\n",
      " 270 271 272 273 274 275 276 277 278 279 281 282 283 284 285 286 287 288\n",
      " 289 290 291 293 295 297 298 299 300 301 302 310 312 313 314 315 316 317\n",
      " 318 319 320 321 323 324 325 326 328 329 331 336 337 338 339 340 341 343\n",
      " 344 345 346 347 348 349 350 351 352 354 355 356 358 359 360 361 362 365\n",
      " 366 367 368 369 370 371 372 374 375 377 379 380 381 384 385 386 387 388\n",
      " 389 390 391 392 393 394 395 396 397 398 399 400 401 402 404 406 408 409\n",
      " 410 411 412 413 414 415 416 417 418 419 420 421 422 424 425 426 428 429\n",
      " 430 431 432 433 434 435 436 437 438 439 441 442 443 445 446 449 450 451\n",
      " 452 455 456 457 458 459 462 464 465 467 468 469 470 471 472 473 474 476\n",
      " 477 478 479 481 482 483 484 486 487 488 492 493 494 495 496 497 498 499\n",
      " 500 501 502 504 505 506 507 508 509 511 513 514 516 517 519 520 521 522\n",
      " 524 525 528 530 531 532 533 535 536 539 540 543 544 545 548 549 550 551\n",
      " 552 553 554 555 556 558 559 560 562 564 565 566 568 569 570 572 573 574\n",
      " 575 576 577 578 579 580 581 582 583 584 585 586 587 588 589 590 591 592\n",
      " 593 594 595 596 599 600 601 602 604 605 606 607 608 609 610 611 612 614\n",
      " 615 616 617 619 620 621 622 623 624 626 627 628 629 630 631 632 633 634\n",
      " 635 636 637 638 639 640 641 642 643 645 646 647 648 649 650 651 652 654\n",
      " 655 656 657 658 659 660 662 663 664 665 666 667 668 670 671 672 673 674\n",
      " 676 677 678 682 683 685 686 687 688 689 690 691 692 693 695 696 697 698\n",
      " 699 700 701 703 705 706 709 710 711 712 713 714 717 718 719 720 721 722\n",
      " 724 725 729 730 731 732 733 734 735 737 738 740 741 742 743 744 745 746\n",
      " 747 748 749 750 751 752 753 754 755 756 757 758 759 760 761 762 763 764\n",
      " 765 767] \n",
      " \n",
      " [  3   9  16  19  25  28  39  40  43  48  49  56  63  64  71  72  76  80\n",
      "  83  91  92  93  95 103 111 118 129 133 135 143 144 149 152 153 166 170\n",
      " 173 189 191 192 196 207 211 215 222 230 238 245 247 249 252 256 259 260\n",
      " 280 292 294 296 303 304 305 306 307 308 309 311 322 327 330 332 333 334\n",
      " 335 342 353 357 363 364 373 376 378 382 383 403 405 407 423 427 440 444\n",
      " 447 448 453 454 460 461 463 466 475 480 485 489 490 491 503 510 512 515\n",
      " 518 523 526 527 529 534 537 538 541 542 546 547 557 561 563 567 571 597\n",
      " 598 603 613 618 625 644 653 661 669 675 679 680 681 684 694 702 704 707\n",
      " 708 715 716 723 726 727 728 736 739 766]\n",
      "[  1   3   4   5   6   7   8   9  11  13  14  15  16  18  19  20  21  23\n",
      "  24  25  26  27  28  29  31  34  36  37  38  39  40  41  42  43  44  45\n",
      "  46  47  48  49  50  51  52  53  55  56  58  59  60  61  62  63  64  65\n",
      "  66  68  69  70  71  72  73  74  76  77  79  80  81  82  83  84  85  87\n",
      "  88  89  90  91  92  93  94  95  96  97  98 100 102 103 104 106 107 108\n",
      " 110 111 112 113 114 117 118 119 120 121 122 123 127 128 129 130 132 133\n",
      " 134 135 137 138 139 140 141 142 143 144 146 147 148 149 150 151 152 153\n",
      " 154 156 157 158 159 161 162 163 164 165 166 167 168 169 170 172 173 174\n",
      " 175 176 178 181 182 183 184 185 186 187 188 189 191 192 194 195 196 197\n",
      " 200 201 203 204 205 207 208 209 211 212 213 215 216 217 218 219 220 222\n",
      " 223 224 225 226 230 233 234 235 236 237 238 240 241 242 243 245 247 248\n",
      " 249 250 251 252 254 256 257 258 259 260 262 263 264 265 266 267 270 271\n",
      " 273 275 277 279 280 282 283 284 285 286 287 288 289 290 292 294 296 298\n",
      " 299 300 301 303 304 305 306 307 308 309 310 311 312 313 315 316 317 318\n",
      " 319 320 321 322 323 324 325 326 327 329 330 331 332 333 334 335 336 337\n",
      " 338 339 340 341 342 343 344 345 346 347 348 349 350 351 352 353 355 357\n",
      " 358 359 360 362 363 364 365 366 369 370 373 374 376 378 380 381 382 383\n",
      " 385 386 388 389 390 391 393 394 395 398 399 400 401 403 404 405 407 408\n",
      " 410 411 412 413 414 415 416 417 418 419 420 421 422 423 425 427 428 429\n",
      " 430 433 434 437 438 440 441 442 443 444 445 446 447 448 449 450 451 453\n",
      " 454 457 458 459 460 461 462 463 464 465 466 467 468 469 470 471 472 473\n",
      " 475 476 477 478 479 480 481 482 483 485 486 488 489 490 491 492 493 494\n",
      " 495 497 499 501 502 503 504 505 506 507 508 509 510 511 512 513 514 515\n",
      " 516 517 518 521 522 523 524 526 527 528 529 530 531 532 533 534 535 537\n",
      " 538 539 540 541 542 543 544 546 547 548 549 551 552 553 554 556 557 559\n",
      " 560 561 562 563 564 565 567 569 570 571 572 573 574 576 577 578 580 582\n",
      " 583 584 586 587 588 589 590 591 592 593 594 597 598 600 601 602 603 604\n",
      " 605 606 607 608 609 610 612 613 614 617 618 619 620 621 622 623 625 627\n",
      " 628 629 630 631 632 634 636 637 639 641 644 646 647 648 649 651 652 653\n",
      " 654 656 658 659 661 663 665 666 667 668 669 670 671 672 673 675 676 677\n",
      " 678 679 680 681 684 685 686 687 688 689 690 691 692 694 695 696 697 698\n",
      " 699 700 701 702 704 706 707 708 709 710 711 712 713 714 715 716 718 719\n",
      " 721 722 723 724 725 726 727 728 729 730 731 732 735 736 738 739 741 742\n",
      " 743 745 746 747 748 749 750 751 752 753 754 756 757 758 760 761 762 763\n",
      " 764 765 766] \n",
      " \n",
      " [  0   2  10  12  17  22  30  32  33  35  54  57  67  75  78  86  99 101\n",
      " 105 109 115 116 124 125 126 131 136 145 155 160 171 177 179 180 190 193\n",
      " 198 199 202 206 210 214 221 227 228 229 231 232 239 244 246 253 255 261\n",
      " 268 269 272 274 276 278 281 291 293 295 297 302 314 328 354 356 361 367\n",
      " 368 371 372 375 377 379 384 387 392 396 397 402 406 409 424 426 431 432\n",
      " 435 436 439 452 455 456 474 484 487 496 498 500 519 520 525 536 545 550\n",
      " 555 558 566 568 575 579 581 585 595 596 599 611 615 616 624 626 633 635\n",
      " 638 640 642 643 645 650 655 657 660 662 664 674 682 683 693 703 705 717\n",
      " 720 733 734 737 740 744 755 759 767]\n",
      "[  0   1   2   3   6   7   9  10  11  12  14  16  17  18  19  21  22  23\n",
      "  24  25  28  29  30  31  32  33  34  35  37  38  39  40  42  43  44  45\n",
      "  46  48  49  50  53  54  55  56  57  59  60  61  62  63  64  65  66  67\n",
      "  70  71  72  73  74  75  76  77  78  79  80  81  83  84  86  87  88  89\n",
      "  91  92  93  94  95  97  99 100 101 103 104 105 106 107 108 109 111 115\n",
      " 116 118 120 122 123 124 125 126 127 128 129 131 132 133 134 135 136 137\n",
      " 138 141 142 143 144 145 146 147 148 149 150 152 153 154 155 157 158 160\n",
      " 166 168 169 170 171 172 173 174 175 176 177 178 179 180 181 182 188 189\n",
      " 190 191 192 193 194 195 196 198 199 200 201 202 203 204 205 206 207 208\n",
      " 209 210 211 213 214 215 218 221 222 224 225 227 228 229 230 231 232 233\n",
      " 235 236 238 239 241 242 243 244 245 246 247 248 249 252 253 255 256 257\n",
      " 258 259 260 261 262 263 264 267 268 269 270 271 272 274 275 276 277 278\n",
      " 279 280 281 282 283 284 286 289 290 291 292 293 294 295 296 297 298 300\n",
      " 301 302 303 304 305 306 307 308 309 310 311 314 315 316 317 318 320 321\n",
      " 322 324 325 327 328 329 330 331 332 333 334 335 336 339 340 341 342 344\n",
      " 345 346 347 348 349 350 351 353 354 355 356 357 359 360 361 363 364 366\n",
      " 367 368 370 371 372 373 374 375 376 377 378 379 380 381 382 383 384 385\n",
      " 387 389 390 391 392 395 396 397 398 399 401 402 403 404 405 406 407 408\n",
      " 409 410 411 412 413 415 416 417 419 420 421 422 423 424 426 427 428 429\n",
      " 431 432 434 435 436 439 440 441 442 443 444 445 447 448 449 450 451 452\n",
      " 453 454 455 456 457 458 459 460 461 463 465 466 467 468 469 470 471 472\n",
      " 473 474 475 477 480 481 482 484 485 487 488 489 490 491 492 494 495 496\n",
      " 498 499 500 501 503 505 508 509 510 511 512 514 515 518 519 520 521 522\n",
      " 523 525 526 527 528 529 532 533 534 535 536 537 538 541 542 543 545 546\n",
      " 547 548 549 550 551 552 553 554 555 556 557 558 559 561 563 564 565 566\n",
      " 567 568 569 570 571 572 573 575 576 577 579 580 581 583 584 585 586 587\n",
      " 588 590 593 594 595 596 597 598 599 600 603 604 606 607 608 610 611 612\n",
      " 613 614 615 616 617 618 619 622 624 625 626 627 629 630 631 632 633 635\n",
      " 637 638 639 640 641 642 643 644 645 646 647 648 649 650 651 652 653 654\n",
      " 655 656 657 659 660 661 662 664 665 666 667 668 669 670 671 672 673 674\n",
      " 675 676 677 679 680 681 682 683 684 685 686 687 689 690 691 692 693 694\n",
      " 695 697 698 700 701 702 703 704 705 706 707 708 709 710 712 713 714 715\n",
      " 716 717 718 719 720 721 722 723 724 726 727 728 730 731 732 733 734 736\n",
      " 737 738 739 740 741 743 744 747 749 751 752 755 757 758 759 760 761 764\n",
      " 765 766 767] \n",
      " \n",
      " [  4   5   8  13  15  20  26  27  36  41  47  51  52  58  68  69  82  85\n",
      "  90  96  98 102 110 112 113 114 117 119 121 130 139 140 151 156 159 161\n",
      " 162 163 164 165 167 183 184 185 186 187 197 212 216 217 219 220 223 226\n",
      " 234 237 240 250 251 254 265 266 273 285 287 288 299 312 313 319 323 326\n",
      " 337 338 343 352 358 362 365 369 386 388 393 394 400 414 418 425 430 433\n",
      " 437 438 446 462 464 476 478 479 483 486 493 497 502 504 506 507 513 516\n",
      " 517 524 530 531 539 540 544 560 562 574 578 582 589 591 592 601 602 605\n",
      " 609 620 621 623 628 634 636 658 663 678 688 696 699 711 725 729 735 742\n",
      " 745 746 748 750 753 754 756 762 763]\n"
     ]
    }
   ],
   "source": [
    "kfold= KFold(n_splits= 5, shuffle= True)\n",
    "for train_set, test_set in kfold.split(x):\n",
    "    print(train_set, '\\n','\\n', test_set)"
   ]
  },
  {
   "cell_type": "code",
   "execution_count": 12,
   "metadata": {},
   "outputs": [
    {
     "name": "stdout",
     "output_type": "stream",
     "text": [
      "Cross validation scores for AdaBoost Classifier :  [0.688 0.753 0.74  0.766 0.727 0.753 0.792 0.753 0.789 0.803]\n",
      "Accuracy percentage of AdaBoost Classifier is :  75.661 % .\n"
     ]
    }
   ],
   "source": [
    "# AdaBoost Classifier :\n",
    "kfold= model_selection.KFold(n_splits= 10, random_state= 7)\n",
    "model= AdaBoostClassifier(n_estimators= 30, random_state= 7)\n",
    "scores= model_selection.cross_val_score(model, x, y, cv= kfold)\n",
    "print('Cross validation scores for AdaBoost Classifier : ', scores.round(decimals= 3))\n",
    "print('Accuracy percentage of AdaBoost Classifier is : ', (scores.mean()*100).round(decimals= 3) , '% .')"
   ]
  },
  {
   "cell_type": "code",
   "execution_count": 13,
   "metadata": {
    "scrolled": true
   },
   "outputs": [
    {
     "name": "stdout",
     "output_type": "stream",
     "text": [
      "[07:09:13] WARNING: ..\\src\\learner.cc:1061: Starting in XGBoost 1.3.0, the default evaluation metric used with the objective 'binary:logistic' was changed from 'error' to 'logloss'. Explicitly set eval_metric if you'd like to restore the old behavior.\n",
      "[07:09:13] WARNING: ..\\src\\learner.cc:1061: Starting in XGBoost 1.3.0, the default evaluation metric used with the objective 'binary:logistic' was changed from 'error' to 'logloss'. Explicitly set eval_metric if you'd like to restore the old behavior.\n",
      "[07:09:13] WARNING: ..\\src\\learner.cc:1061: Starting in XGBoost 1.3.0, the default evaluation metric used with the objective 'binary:logistic' was changed from 'error' to 'logloss'. Explicitly set eval_metric if you'd like to restore the old behavior.\n",
      "[07:09:13] WARNING: ..\\src\\learner.cc:1061: Starting in XGBoost 1.3.0, the default evaluation metric used with the objective 'binary:logistic' was changed from 'error' to 'logloss'. Explicitly set eval_metric if you'd like to restore the old behavior.\n",
      "[07:09:13] WARNING: ..\\src\\learner.cc:1061: Starting in XGBoost 1.3.0, the default evaluation metric used with the objective 'binary:logistic' was changed from 'error' to 'logloss'. Explicitly set eval_metric if you'd like to restore the old behavior.\n",
      "[07:09:13] WARNING: ..\\src\\learner.cc:1061: Starting in XGBoost 1.3.0, the default evaluation metric used with the objective 'binary:logistic' was changed from 'error' to 'logloss'. Explicitly set eval_metric if you'd like to restore the old behavior.\n",
      "[07:09:13] WARNING: ..\\src\\learner.cc:1061: Starting in XGBoost 1.3.0, the default evaluation metric used with the objective 'binary:logistic' was changed from 'error' to 'logloss'. Explicitly set eval_metric if you'd like to restore the old behavior.\n",
      "[07:09:14] WARNING: ..\\src\\learner.cc:1061: Starting in XGBoost 1.3.0, the default evaluation metric used with the objective 'binary:logistic' was changed from 'error' to 'logloss'. Explicitly set eval_metric if you'd like to restore the old behavior.\n",
      "[07:09:14] WARNING: ..\\src\\learner.cc:1061: Starting in XGBoost 1.3.0, the default evaluation metric used with the objective 'binary:logistic' was changed from 'error' to 'logloss'. Explicitly set eval_metric if you'd like to restore the old behavior.\n",
      "[07:09:14] WARNING: ..\\src\\learner.cc:1061: Starting in XGBoost 1.3.0, the default evaluation metric used with the objective 'binary:logistic' was changed from 'error' to 'logloss'. Explicitly set eval_metric if you'd like to restore the old behavior.\n",
      "Cross validation scores for XGB Classifier :  [0.636 0.701 0.766 0.766 0.714 0.779 0.792 0.766 0.803 0.803]\n",
      "Accuracy percentage of XGB Classifier is :  75.273 % .\n"
     ]
    }
   ],
   "source": [
    "# XGB Classifier :\n",
    "kfold= model_selection.KFold(n_splits= 10, random_state= 7)\n",
    "model= XGBClassifier(n_estimators= 30, random_state= 7)\n",
    "scores= model_selection.cross_val_score(model, x, y, cv= kfold)\n",
    "print('Cross validation scores for XGB Classifier : ', scores.round(decimals= 3) )\n",
    "print('Accuracy percentage of XGB Classifier is : ', (scores.mean()*100).round(decimals= 3) , '% .')"
   ]
  },
  {
   "cell_type": "code",
   "execution_count": 14,
   "metadata": {},
   "outputs": [
    {
     "name": "stdout",
     "output_type": "stream",
     "text": [
      "Cross validation scores for Random Forest Classifier :  [0.649 0.753 0.701 0.74  0.727 0.766 0.766 0.714 0.789 0.763]\n",
      "Accuracy percentage of Random Forest Classifier is :  73.708 % .\n"
     ]
    }
   ],
   "source": [
    "# Random Forest Classifier :\n",
    "rfc= RandomForestClassifier(n_estimators= 10)\n",
    "scores= cross_val_score(rfc, x, y, scoring= 'accuracy', cv= 10)\n",
    "print('Cross validation scores for Random Forest Classifier : ', scores.round(decimals= 3) )\n",
    "print('Accuracy percentage of Random Forest Classifier is : ', (scores.mean()*100).round(decimals= 3) , '% .')"
   ]
  },
  {
   "cell_type": "code",
   "execution_count": 23,
   "metadata": {},
   "outputs": [
    {
     "data": {
      "text/html": [
       "<div>\n",
       "<style scoped>\n",
       "    .dataframe tbody tr th:only-of-type {\n",
       "        vertical-align: middle;\n",
       "    }\n",
       "\n",
       "    .dataframe tbody tr th {\n",
       "        vertical-align: top;\n",
       "    }\n",
       "\n",
       "    .dataframe thead th {\n",
       "        text-align: right;\n",
       "    }\n",
       "</style>\n",
       "<table border=\"1\" class=\"dataframe\">\n",
       "  <thead>\n",
       "    <tr style=\"text-align: right;\">\n",
       "      <th></th>\n",
       "      <th>Classifier names</th>\n",
       "      <th>Accuracy score</th>\n",
       "    </tr>\n",
       "  </thead>\n",
       "  <tbody>\n",
       "    <tr>\n",
       "      <th>0</th>\n",
       "      <td>Logistic regression</td>\n",
       "      <td>72.078</td>\n",
       "    </tr>\n",
       "    <tr>\n",
       "      <th>1</th>\n",
       "      <td>Decision Tree Classifier</td>\n",
       "      <td>71.429</td>\n",
       "    </tr>\n",
       "    <tr>\n",
       "      <th>2</th>\n",
       "      <td>Random Forest Classifier</td>\n",
       "      <td>73.708</td>\n",
       "    </tr>\n",
       "    <tr>\n",
       "      <th>3</th>\n",
       "      <td>AdaBoost Classifier</td>\n",
       "      <td>75.661</td>\n",
       "    </tr>\n",
       "    <tr>\n",
       "      <th>4</th>\n",
       "      <td>XGB Classifier</td>\n",
       "      <td>75.273</td>\n",
       "    </tr>\n",
       "  </tbody>\n",
       "</table>\n",
       "</div>"
      ],
      "text/plain": [
       "           Classifier names  Accuracy score\n",
       "0       Logistic regression          72.078\n",
       "1  Decision Tree Classifier          71.429\n",
       "2  Random Forest Classifier          73.708\n",
       "3       AdaBoost Classifier          75.661\n",
       "4            XGB Classifier          75.273"
      ]
     },
     "execution_count": 23,
     "metadata": {},
     "output_type": "execute_result"
    }
   ],
   "source": [
    "# Comparing different classifiers :\n",
    "import pandas\n",
    "df= pandas.DataFrame({'Classifier names':['Logistic regression', 'Decision Tree Classifier', 'Random Forest Classifier',\n",
    "                                          'AdaBoost Classifier', 'XGB Classifier'], 'Accuracy score': [72.078, 71.429, \n",
    "                                                                                                       73.708, 75.661, \n",
    "                                                                                                       75.273]})\n",
    "import matplotlib.pyplot as plt\n",
    "%matplotlib inline\n",
    "df"
   ]
  },
  {
   "cell_type": "code",
   "execution_count": 31,
   "metadata": {},
   "outputs": [
    {
     "data": {
      "image/png": "[encoded data removed]",
      "text/plain": [
       "<Figure size 1440x504 with 1 Axes>"
      ]
     },
     "metadata": {
      "needs_background": "light"
     },
     "output_type": "display_data"
    }
   ],
   "source": [
    "plt.figure(figsize= (20, 7))\n",
    "plt.plot(df['Classifier names'], df['Accuracy score'])\n",
    "for a,b in zip(df['Classifier names'], df['Accuracy score']): \n",
    "    plt.text(a, b, str(b))\n",
    "plt.show()"
   ]
  }
 ],
 "metadata": {
  "kernelspec": {
   "display_name": "Python 3",
   "language": "python",
   "name": "python3"
  },
  "language_info": {
   "codemirror_mode": {
    "name": "ipython",
    "version": 3
   },
   "file_extension": ".py",
   "mimetype": "text/x-python",
   "name": "python",
   "nbconvert_exporter": "python",
   "pygments_lexer": "ipython3",
   "version": "3.8.5"
  }
 },
 "nbformat": 4,
 "nbformat_minor": 4
}
